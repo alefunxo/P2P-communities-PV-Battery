{
 "cells": [
  {
   "cell_type": "markdown",
   "metadata": {},
   "source": [
    "# Empowering prosumers to trade renewableenergy can benefit the individual, the community, and the grid"
   ]
  },
  {
   "cell_type": "markdown",
   "metadata": {},
   "source": [
    "\n"
   ]
  },
  {
   "cell_type": "code",
   "execution_count": 1,
   "metadata": {},
   "outputs": [],
   "source": [
    "import pandas as pd\n",
    "import numpy as np\n",
    "import matplotlib.pyplot as plt\n",
    "import sys  \n",
    "import os\n",
    "import pickle\n",
    "import threading\n",
    "import multiprocessing as mp"
   ]
  },
  {
   "cell_type": "code",
   "execution_count": 3,
   "metadata": {},
   "outputs": [],
   "source": [
    "import warnings\n",
    "import Classes_definition as cp2p\n",
    "from pandas.plotting import register_matplotlib_converters\n",
    "register_matplotlib_converters()\n",
    "warnings.filterwarnings('error')\n",
    "%load_ext autoreload\n",
    "%autoreload 2"
   ]
  },
  {
   "cell_type": "markdown",
   "metadata": {},
   "source": [
    "To explore answers from the survey please see Survey_results_19032020.ipynb\n",
    "Here we use the processed answers to compare SC and P2P communities on similar basis at the individual, community and grid levels. See Table 1 of the SI."
   ]
  },
  {
   "cell_type": "markdown",
   "metadata": {},
   "source": [
    "To run the community you only have to run the following function.\n",
    "Behind the scenes there is the Classes_definition.py script\n",
    "\n",
    "Figures were made using the script Graphs_P3.R"
   ]
  },
  {
   "cell_type": "code",
   "execution_count": 6,
   "metadata": {},
   "outputs": [],
   "source": [
    "def run_comm(seed):\n",
    "    '''\n",
    "    Using a predetermined seed to initialize a pseudorandom number generator.\n",
    "    Writes aggregated results of SC and P2P communities on a file.\n",
    "    '''\n",
    "    # Predefined data\n",
    "    Data={'community_size':100, # number of households\n",
    "     'timestep':0.25, # data resolution 0.25 = 15 min\n",
    "     'seed':seed, # For reproducibility\n",
    "     'country_code':'DE', # other countries can be used (with other timesteps)\n",
    "     'pv_penetration':50, # % of community with PV\n",
    "     'batt_penetration':50, # % of households with PV that also have Battery\n",
    "     'retail_price':0.28, # flat retail price\n",
    "     'export_price':0.04, # flat FiT or export price\n",
    "     'predet_bhv':False, # different behaviours can be used (False, 'high',\n",
    "                         # 'medium', 'low'). Gets the corresponding group of \n",
    "                         # the survey according to their answers on trading.\n",
    "                         # The distribution is divided in three slots.\n",
    "           \n",
    "     'ILR':1, # inverter load ratio, default to 1\n",
    "     'test_sc':False, # To test SC with P2P price structure\n",
    "     'cut':'q0', # Quartiles of trading, similar to predet_bhv, but with higher\n",
    "                 # resolution. The distribution is divided in ten slots.\n",
    "     'PtC':False, # Possibility to use Production to consumption ratio, \n",
    "                   # instead of random allocation of PV capacities accross community\n",
    "     'parallel':True # If multithreading is to be used, it deletes \n",
    "                      # attributes from the class to run quicker.\n",
    "     }\n",
    "    # Run SC community and save aggregated results\n",
    "    comP2PDict={}\n",
    "    comNormal=cp2p.SCCommunity(Data) # initialize\n",
    "    comNormal.runAll() # Run all methods\n",
    "    filename='../Output/final_dataset2.csv'\n",
    "    comNormal.out_hh.to_csv(filename, mode='a', header=False)\n",
    "    comP2PDict=cp2p.P2PCommunity(Data) # initialize\n",
    "    comP2PDict.getPrices(comNormal) \n",
    "    comP2PDict.getP2PCommunity()\n",
    "    comP2PDict.endP2P()\n",
    "    comP2PDict.out_hh.to_csv(filename, mode='a', header=False)\n",
    "    return "
   ]
  },
  {
   "cell_type": "markdown",
   "metadata": {},
   "source": [
    "A full year simulation of a 100 household community takes 13 minutes in a hp pair workstation z840"
   ]
  },
  {
   "cell_type": "code",
   "execution_count": 7,
   "metadata": {},
   "outputs": [
    {
     "name": "stdout",
     "output_type": "stream",
     "text": [
      "######################\n",
      "Getting demand and PV profiles\n",
      "inside\n",
      "----------------------------------\n",
      "Country: DE\n",
      "Data resolution: 15.0\n",
      "Original year: 2010.0\n",
      "Sample size: 74.0\n",
      "Average consumption per year: 4685.069393693686\n",
      "Country: DE\n",
      "Total generation per year: PV    1535.83138\n",
      "dtype: float64\n",
      "Capacity factor: PV    17.53\n",
      "dtype: float64%\n",
      "######################\n",
      "Getting PV distribution\n",
      "Country: DE\n",
      "0123456789101112131415161718192021222324252627282930313233343536373839404142434445464748495051525354555657585960616263646566676869707172737475767778798081828384858687888990919293949596979899######################\n",
      "Getting demand and PV profiles\n",
      "inside\n",
      "----------------------------------\n",
      "Country: DE\n",
      "Data resolution: 15.0\n",
      "Original year: 2010.0\n",
      "Sample size: 74.0\n",
      "Average consumption per year: 4685.069393693686\n",
      "Country: DE\n",
      "Total generation per year: PV    1535.83138\n",
      "dtype: float64\n",
      "Capacity factor: PV    17.53\n",
      "dtype: float64%\n",
      "######################\n",
      "Getting PV distribution\n",
      "Country: DE\n",
      "01234567891011121314151617181920212223242526272829303132333435363738394041424344454647484950515253545556575859606162636465666768697071727374757677787980818283848586878889909192939495969798990123456789101112131415161718192021222324252627282930313233343536373839404142434445464748495051525354555657585960616263646566676869707172737475767778798081828384858687888990919293949596979899CPU times: user 13min 10s, sys: 2.75 s, total: 13min 12s\n",
      "Wall time: 13min 10s\n"
     ]
    }
   ],
   "source": [
    "%%time\n",
    "run_comm(1)"
   ]
  },
  {
   "cell_type": "markdown",
   "metadata": {},
   "source": [
    "Once several runs are made (1000 in the paper's case), we proceed to plot the results using R.\n",
    "\n",
    "Figure 1 is produced using the output from the previous dataset (final_dataset.csv)"
   ]
  },
  {
   "cell_type": "markdown",
   "metadata": {},
   "source": [
    "To produce Figure 2 B, C and D, 1000 simulations were used (only maximum power import and export from  final_dataset.csv, rearrenged in peak_tidy.csv).\n",
    "\n",
    "to produce Figure 2 A the following approach was used:"
   ]
  },
  {
   "cell_type": "markdown",
   "metadata": {},
   "source": [
    "## In order to take a look a the peaks parallel should be set to False. "
   ]
  },
  {
   "cell_type": "code",
   "execution_count": 8,
   "metadata": {},
   "outputs": [
    {
     "name": "stdout",
     "output_type": "stream",
     "text": [
      "######################\n",
      "Getting demand and PV profiles\n",
      "inside\n",
      "----------------------------------\n",
      "Country: DE\n",
      "Data resolution: 15.0\n",
      "Original year: 2010.0\n",
      "Sample size: 74.0\n",
      "Average consumption per year: 4685.069393693686\n",
      "Country: DE\n",
      "Total generation per year: PV    1535.83138\n",
      "dtype: float64\n",
      "Capacity factor: PV    17.53\n",
      "dtype: float64%\n",
      "######################\n",
      "Getting PV distribution\n",
      "Country: DE\n",
      "0123456789101112131415161718192021222324252627282930313233343536373839404142434445464748495051525354555657585960616263646566676869707172737475767778798081828384858687888990919293949596979899######################\n",
      "Getting demand and PV profiles\n",
      "inside\n",
      "----------------------------------\n",
      "Country: DE\n",
      "Data resolution: 15.0\n",
      "Original year: 2010.0\n",
      "Sample size: 74.0\n",
      "Average consumption per year: 4685.069393693686\n",
      "Country: DE\n",
      "Total generation per year: PV    1535.83138\n",
      "dtype: float64\n",
      "Capacity factor: PV    17.53\n",
      "dtype: float64%\n",
      "######################\n",
      "Getting PV distribution\n",
      "Country: DE\n",
      "01234567891011121314151617181920212223242526272829303132333435363738394041424344454647484950515253545556575859606162636465666768697071727374757677787980818283848586878889909192939495969798990123456789101112131415161718192021222324252627282930313233343536373839404142434445464748495051525354555657585960616263646566676869707172737475767778798081828384858687888990919293949596979899"
     ]
    }
   ],
   "source": [
    "Data={'community_size':100, # number of households\n",
    "     'timestep':0.25, # data resolution 0.25 = 15 min\n",
    "     'seed':1, # For reproducibility\n",
    "     'country_code':'DE', # other countries can be used (with other timesteps)\n",
    "     'pv_penetration':50, # % of community with PV\n",
    "     'batt_penetration':50, # % of households with PV that also have Battery\n",
    "     'retail_price':0.28, # flat retail price\n",
    "     'export_price':0.04, # flat FiT or export price\n",
    "     'predet_bhv':False, # different behaviours can be used (False, 'high',\n",
    "                         # 'medium', 'low'). Gets the corresponding group of \n",
    "                         # the survey according to their answers on trading.\n",
    "                         # The distribution is divided in three slots.\n",
    "           \n",
    "     'ILR':1, # inverter load ratio, default to 1\n",
    "     'test_sc':False, # To test SC with P2P price structure\n",
    "     'cut':'q0', # Quartiles of trading, similar to predet_bhv, but with higher\n",
    "                 # resolution. The distribution is divided in ten slots.\n",
    "     'PtC':False, # Possibility to use Production to consumption ratio, \n",
    "                   # instead of random allocation of PV capacities accross community\n",
    "     'parallel':False # If multithreading is to be used, it deletes \n",
    "                      # attributes from the class to run quicker.\n",
    "     }\n",
    "    # Run SC community and save aggregated results\n",
    "comP2PDict={}\n",
    "comNormal=cp2p.SCCommunity(Data) # initialize\n",
    "comNormal.runAll() # Run all methods\n",
    "comP2PDict=cp2p.P2PCommunity(Data) # initialize\n",
    "comP2PDict.getPrices(comNormal) \n",
    "comP2PDict.getP2PCommunity()\n",
    "comP2PDict.endP2P()"
   ]
  },
  {
   "cell_type": "code",
   "execution_count": 11,
   "metadata": {},
   "outputs": [],
   "source": [
    "df=pd.read_csv('../Output/final_week.csv')"
   ]
  },
  {
   "cell_type": "code",
   "execution_count": 12,
   "metadata": {},
   "outputs": [
    {
     "data": {
      "text/html": [
       "<div>\n",
       "<style scoped>\n",
       "    .dataframe tbody tr th:only-of-type {\n",
       "        vertical-align: middle;\n",
       "    }\n",
       "\n",
       "    .dataframe tbody tr th {\n",
       "        vertical-align: top;\n",
       "    }\n",
       "\n",
       "    .dataframe thead th {\n",
       "        text-align: right;\n",
       "    }\n",
       "</style>\n",
       "<table border=\"1\" class=\"dataframe\">\n",
       "  <thead>\n",
       "    <tr style=\"text-align: right;\">\n",
       "      <th></th>\n",
       "      <th>Unnamed: 0</th>\n",
       "      <th>Unnamed: 1</th>\n",
       "      <th>p2p</th>\n",
       "      <th>sc</th>\n",
       "    </tr>\n",
       "  </thead>\n",
       "  <tbody>\n",
       "    <tr>\n",
       "      <th>0</th>\n",
       "      <td>0</td>\n",
       "      <td>0</td>\n",
       "      <td>34.681209</td>\n",
       "      <td>30.582234</td>\n",
       "    </tr>\n",
       "    <tr>\n",
       "      <th>1</th>\n",
       "      <td>0</td>\n",
       "      <td>1</td>\n",
       "      <td>28.007648</td>\n",
       "      <td>25.012338</td>\n",
       "    </tr>\n",
       "    <tr>\n",
       "      <th>2</th>\n",
       "      <td>0</td>\n",
       "      <td>2</td>\n",
       "      <td>23.844875</td>\n",
       "      <td>21.878803</td>\n",
       "    </tr>\n",
       "    <tr>\n",
       "      <th>3</th>\n",
       "      <td>0</td>\n",
       "      <td>3</td>\n",
       "      <td>22.473065</td>\n",
       "      <td>21.181540</td>\n",
       "    </tr>\n",
       "    <tr>\n",
       "      <th>4</th>\n",
       "      <td>0</td>\n",
       "      <td>4</td>\n",
       "      <td>23.663219</td>\n",
       "      <td>22.193382</td>\n",
       "    </tr>\n",
       "  </tbody>\n",
       "</table>\n",
       "</div>"
      ],
      "text/plain": [
       "   Unnamed: 0  Unnamed: 1        p2p         sc\n",
       "0           0           0  34.681209  30.582234\n",
       "1           0           1  28.007648  25.012338\n",
       "2           0           2  23.844875  21.878803\n",
       "3           0           3  22.473065  21.181540\n",
       "4           0           4  23.663219  22.193382"
      ]
     },
     "execution_count": 12,
     "metadata": {},
     "output_type": "execute_result"
    }
   ],
   "source": [
    "df.head()"
   ]
  },
  {
   "cell_type": "code",
   "execution_count": 13,
   "metadata": {},
   "outputs": [
    {
     "data": {
      "text/plain": [
       "<matplotlib.axes._subplots.AxesSubplot at 0x7f6632157160>"
      ]
     },
     "execution_count": 13,
     "metadata": {},
     "output_type": "execute_result"
    },
    {
     "data": {
      "image/png": "[encoded data removed]",
      "text/plain": [
       "<Figure size 432x288 with 1 Axes>"
      ]
     },
     "metadata": {
      "needs_background": "light"
     },
     "output_type": "display_data"
    }
   ],
   "source": [
    "df.loc[:,['p2p','sc']].plot()"
   ]
  },
  {
   "cell_type": "markdown",
   "metadata": {},
   "source": [
    "### To explore prosumer decision strategies impact we run the following function:"
   ]
  },
  {
   "cell_type": "code",
   "execution_count": 9,
   "metadata": {},
   "outputs": [],
   "source": [
    "def run_comm_decisions(bhv):\n",
    "    '''\n",
    "    Using a predetermined seed to initialize a pseudorandom number generator.\n",
    "    Writes aggregated results of SC and P2P communities on a file.\n",
    "    '''\n",
    "    # Predefined data\n",
    "    Data={'community_size':100, # number of households\n",
    "     'timestep':0.25, # data resolution 0.25 = 15 min\n",
    "     'seed':1, # For reproducibility\n",
    "     'country_code':'DE', # other countries can be used (with other timesteps)\n",
    "     'pv_penetration':50, # % of community with PV\n",
    "     'batt_penetration':50, # % of households with PV that also have Battery\n",
    "     'retail_price':0.28, # flat retail price\n",
    "     'export_price':0.04, # flat FiT or export price\n",
    "     'predet_bhv':bhv, # different behaviours can be used (False, 'high',\n",
    "                         # 'medium', 'low'). Gets the corresponding group of \n",
    "                         # the survey according to their answers on trading.\n",
    "                         # The distribution is divided in three slots.\n",
    "           \n",
    "     'ILR':1, # inverter load ratio, default to 1\n",
    "     'test_sc':False, # To test SC with P2P price structure\n",
    "     'cut':'q0', # Quartiles of trading, similar to predet_bhv, but with higher\n",
    "                 # resolution. The distribution is divided in ten slots.\n",
    "     'PtC':False, # Possibility to use Production to consumption ratio, \n",
    "                   # instead of random allocation of PV capacities accross community\n",
    "     'parallel':True # If multithreading is to be used, it deletes \n",
    "                      # attributes from the class to run quicker.\n",
    "     }\n",
    "    # Run SC community and save aggregated results$\n",
    "    comP2PDict={}\n",
    "    comNormal=cp2p.SCCommunity(Data) # initialize\n",
    "    comNormal.runAll() # Run all methods\n",
    "    filename='../Output/optimal_trading2.csv'\n",
    "    comNormal.out_hh.to_csv(filename, mode='a', header=False)\n",
    "    comP2PDict=cp2p.P2PCommunity(Data) # initialize\n",
    "    comP2PDict.getPrices(comNormal) \n",
    "    comP2PDict.getP2PCommunity()\n",
    "    comP2PDict.endP2P()\n",
    "    comP2PDict.out_hh.to_csv(filename, mode='a', header=False)\n",
    "    return "
   ]
  },
  {
   "cell_type": "code",
   "execution_count": 10,
   "metadata": {},
   "outputs": [],
   "source": [
    "bhv_arr=[False, 'high','medium', 'low']"
   ]
  },
  {
   "cell_type": "code",
   "execution_count": 11,
   "metadata": {},
   "outputs": [
    {
     "name": "stdout",
     "output_type": "stream",
     "text": [
      "######################\n",
      "######################\n",
      "######################\n",
      "######################\n",
      "Getting demand and PV profiles\n",
      "Getting demand and PV profiles\n",
      "Getting demand and PV profiles\n",
      "Getting demand and PV profiles\n",
      "inside\n",
      "inside\n",
      "inside\n",
      "inside\n",
      "----------------------------------\n",
      "----------------------------------\n",
      "----------------------------------\n",
      "----------------------------------\n",
      "Country: DE\n",
      "Country: DE\n",
      "Country: DE\n",
      "Country: DE\n",
      "Data resolution: 15.0\n",
      "Data resolution: 15.0\n",
      "Original year: 2010.0\n",
      "Data resolution: 15.0\n",
      "Data resolution: 15.0\n",
      "Original year: 2010.0\n",
      "Sample size: 74.0\n",
      "Original year: 2010.0\n",
      "Original year: 2010.0\n",
      "Sample size: 74.0\n",
      "Sample size: 74.0\n",
      "Sample size: 74.0\n",
      "Average consumption per year: 4685.069393693686\n",
      "Average consumption per year: 4685.069393693686\n",
      "Average consumption per year: 4685.069393693686\n",
      "Average consumption per year: 4685.069393693686\n",
      "Country: DE\n",
      "Country: DE\n",
      "Total generation per year: PV    1535.83138\n",
      "dtype: float64\n",
      "Capacity factor: PV    17.53\n",
      "dtype: float64%\n",
      "Country: DE\n",
      "######################\n",
      "Getting PV distribution\n",
      "Total generation per year: PV    1535.83138\n",
      "dtype: float64\n",
      "Capacity factor: PV    17.53\n",
      "dtype: float64%\n",
      "Total generation per year: PV    1535.83138\n",
      "dtype: float64\n",
      "Capacity factor: PV    17.53\n",
      "dtype: float64%\n",
      "######################\n",
      "Getting PV distribution\n",
      "######################\n",
      "Getting PV distribution\n",
      "Country: DE\n",
      "Total generation per year: PV    1535.83138\n",
      "dtype: float64\n",
      "Capacity factor: PV    17.53\n",
      "dtype: float64%\n",
      "######################\n",
      "Getting PV distribution\n",
      "Country: DE\n",
      "Country: DE\n",
      "Country: DE\n",
      "Country: DE\n",
      "0123456789101112131415161718192021222324252627282930313233343536373839404142434445464748495051525354555657585960616263646566676869707172737475767778798081828384858687888990919293949596979899######################\n",
      "Getting demand and PV profiles\n",
      "inside\n",
      "----------------------------------\n",
      "Country: DE\n",
      "Data resolution: 15.0\n",
      "Original year: 2010.0\n",
      "Sample size: 74.0\n",
      "0123456789101112131415161718192021222324252627282930313233343536373839404142434445464748495051525354555657585960616263646566676869707172737475767778798081828384858687888990919293949596979899######################\n",
      "Getting demand and PV profiles\n",
      "inside\n",
      "----------------------------------\n",
      "Country: DE\n",
      "Data resolution: 15.0\n",
      "Original year: 2010.0\n",
      "Sample size: 74.0\n",
      "0123456789101112131415161718192021222324252627282930313233343536373839404142434445464748495051525354555657585960616263646566676869707172737475767778798081828384858687888990919293949596979899######################\n",
      "Getting demand and PV profiles\n",
      "inside\n",
      "----------------------------------\n",
      "Country: DE\n",
      "Data resolution: 15.0\n",
      "Original year: 2010.0\n",
      "Sample size: 74.0\n",
      "0123456789101112131415161718192021222324252627282930313233343536373839404142434445464748495051525354555657585960616263646566676869707172737475767778798081828384858687888990919293949596979899######################\n",
      "Getting demand and PV profiles\n",
      "inside\n",
      "----------------------------------\n",
      "Country: DE\n",
      "Data resolution: 15.0\n",
      "Original year: 2010.0\n",
      "Sample size: 74.0\n",
      "Average consumption per year: 4685.069393693686\n",
      "Average consumption per year: 4685.069393693686\n",
      "Average consumption per year: 4685.069393693686\n",
      "Average consumption per year: 4685.069393693686\n",
      "Country: DE\n",
      "Total generation per year: PV    1535.83138\n",
      "dtype: float64\n",
      "Capacity factor: PV    17.53\n",
      "dtype: float64%\n",
      "######################\n",
      "Getting PV distribution\n",
      "Country: DE\n",
      "Country: DE\n",
      "Total generation per year: PV    1535.83138\n",
      "dtype: float64\n",
      "Capacity factor: PV    17.53\n",
      "dtype: float64%\n",
      "######################\n",
      "Getting PV distribution\n",
      "Country: DE\n",
      "Country: DE\n",
      "Total generation per year: PV    1535.83138\n",
      "dtype: float64\n",
      "Capacity factor: PV    17.53\n",
      "dtype: float64%\n",
      "######################\n",
      "Getting PV distribution\n",
      "Country: DE\n",
      "Country: DE\n",
      "Total generation per year: PV    1535.83138\n",
      "dtype: float64\n",
      "Capacity factor: PV    17.53\n",
      "dtype: float64%\n",
      "######################\n",
      "Getting PV distribution\n",
      "Country: DE\n",
      "01234567891011121314151617181920212223242526272829303132333435363738394041424344454647484950515253545556575859606162636465666768697071727374757677787980818283848586878889909192939495969798990123456789101112131415161718192021222324252627282930313233343536373839404142434445464748495051525354555657585960616263646566676869707172737475767778798081828384858687888990919293949596979899012345678910111213141516171819202122232425262728293031323334353637383940414243444546474849505152535455565758596061626364656667686970717273747576777879808182838485868788899091929394959697989901234567891011121314151617181920212223242526272829303132333435363738394041424344454647484950515253545556575859606162636465666768697071727374757677787980818283848586878889909192939495969798990123456789101112131415161718192021222324252627282930313233343536373839404142434445464748495051525354555657585960616263646566676869707172737475767778798081828384858687888990919293949596979899012345678910111213141516171819202122232425262728293031323334353637383940414243444546474849505152535455565758596061626364656667686970717273747576777879808182838485868788899091929394959697989901234567891011121314151617181920212223242526272829303132333435363738394041424344454647484950515253545556575859606162636465666768697071727374757677787980818283848586878889909192939495969798990123456789101112131415161718192021222324252627282930313233343536373839404142434445464748495051525354555657585960616263646566676869707172737475767778798081828384858687888990919293949596979899"
     ]
    }
   ],
   "source": [
    "#Run this for different cuts\n",
    "mp.freeze_support()\n",
    "pool=mp.Pool(processes=20)\n",
    "pool.starmap_async(run_comm_decisions, zip([bhv for bhv in bhv_arr]))\n",
    "pool.close()\n",
    "pool.join()"
   ]
  },
  {
   "cell_type": "markdown",
   "metadata": {},
   "source": [
    "# Supplementary Information "
   ]
  },
  {
   "cell_type": "markdown",
   "metadata": {},
   "source": [
    "Willingness to sell electricity Figure was made using table df_core.csv which are the answers from the survey for the questions regarding trading decisions depending on price, SOC and time of the day. Figure is made in R (Graphs_P3.R)"
   ]
  },
  {
   "cell_type": "markdown",
   "metadata": {},
   "source": [
    "To compare SC communities with SC communities with P2P price structure and P2P communities we use the following function. The figures were made using the script P2P_SC.R"
   ]
  },
  {
   "cell_type": "code",
   "execution_count": 12,
   "metadata": {},
   "outputs": [],
   "source": [
    "def run_comm_comparison(seed):\n",
    "    Data={'community_size':100,\n",
    "     'timestep':0.25,\n",
    "     'seed':seed,\n",
    "     'country_code':'DE',\n",
    "     'pv_penetration':50,\n",
    "     'batt_penetration':50,\n",
    "     'retail_price':0.28,\n",
    "     'export_price':0.04,\n",
    "     'predet_bhv':False,\n",
    "     'ILR':1,\n",
    "     'test_sc':True,\n",
    "     'cut':'q0',\n",
    "      'PtC':False,\n",
    "      'parallel':True\n",
    "     }\n",
    "    #######################################\n",
    "    # Create the SC community\n",
    "    comP2PDict={}\n",
    "    comNormal=cp2p.SCCommunity(Data)\n",
    "    comNormal.runAll()\n",
    "    filename='../Output/sc_vs_p2p_2.csv'\n",
    "    comNormal.out_hh.to_csv(filename, mode='a', header=False)\n",
    "    #######################################\n",
    "    # Create the SC community with P2P price structure\n",
    "    comP2PDictSC=cp2p.P2PCommunity(Data)\n",
    "    comP2PDictSC.getPrices(comNormal)\n",
    "    comP2PDictSC.getP2PCommunity()\n",
    "    comP2PDictSC.endP2P()\n",
    "    comP2PDict.out_hh.to_csv(filename, mode='a', header=False)\n",
    "    #######################################\n",
    "    # Create the P2P community  \n",
    "    Data.update(test_sc=False)\n",
    "    comNormal=cp2p.SCCommunity(Data)\n",
    "    comNormal.runAll()\n",
    "    comP2PDict=cp2p.P2PCommunity(Data)\n",
    "    comP2PDict.getPrices(comNormal)\n",
    "    comP2PDict.getP2PCommunity()\n",
    "    comP2PDict.endP2P()\n",
    "    comP2PDict.out_hh.to_csv(filename, mode='a', header=False)\n",
    "    return "
   ]
  },
  {
   "cell_type": "code",
   "execution_count": 13,
   "metadata": {},
   "outputs": [
    {
     "name": "stdout",
     "output_type": "stream",
     "text": [
      "######################\n",
      "Getting demand and PV profiles\n",
      "inside\n",
      "----------------------------------\n",
      "Country: DE\n",
      "Data resolution: 15.0\n",
      "Original year: 2010.0\n",
      "Sample size: 74.0\n",
      "Average consumption per year: 4685.069393693686\n",
      "Country: DE\n",
      "Total generation per year: PV    1535.83138\n",
      "dtype: float64\n",
      "Capacity factor: PV    17.53\n",
      "dtype: float64%\n",
      "######################\n",
      "Getting PV distribution\n",
      "Country: DE\n",
      "0123456789101112131415161718192021222324252627282930313233343536373839404142434445464748495051525354555657585960616263646566676869707172737475767778798081828384858687888990919293949596979899######################\n",
      "Getting demand and PV profiles\n",
      "inside\n",
      "----------------------------------\n",
      "Country: DE\n",
      "Data resolution: 15.0\n",
      "Original year: 2010.0\n",
      "Sample size: 74.0\n",
      "Average consumption per year: 4685.069393693686\n",
      "Country: DE\n",
      "Total generation per year: PV    1535.83138\n",
      "dtype: float64\n",
      "Capacity factor: PV    17.53\n",
      "dtype: float64%\n",
      "######################\n",
      "Getting PV distribution\n",
      "Country: DE\n",
      "01234567891011121314151617181920212223242526272829303132333435363738394041424344454647484950515253545556575859606162636465666768697071727374757677787980818283848586878889909192939495969798990123456789101112131415161718192021222324252627282930313233343536373839404142434445464748495051525354555657585960616263646566676869707172737475767778798081828384858687888990919293949596979899"
     ]
    },
    {
     "ename": "AttributeError",
     "evalue": "'dict' object has no attribute 'out_hh'",
     "output_type": "error",
     "traceback": [
      "\u001b[0;31m---------------------------------------------------------------------------\u001b[0m",
      "\u001b[0;31mAttributeError\u001b[0m                            Traceback (most recent call last)",
      "\u001b[0;32m<ipython-input-13-908826c01325>\u001b[0m in \u001b[0;36m<module>\u001b[0;34m\u001b[0m\n\u001b[0;32m----> 1\u001b[0;31m \u001b[0mrun_comm_comparison\u001b[0m\u001b[0;34m(\u001b[0m\u001b[0;36m1\u001b[0m\u001b[0;34m)\u001b[0m\u001b[0;34m\u001b[0m\u001b[0;34m\u001b[0m\u001b[0m\n\u001b[0m",
      "\u001b[0;32m<ipython-input-12-1daaddf3c86e>\u001b[0m in \u001b[0;36mrun_comm_comparison\u001b[0;34m(seed)\u001b[0m\n\u001b[1;32m     28\u001b[0m     \u001b[0mcomP2PDictSC\u001b[0m\u001b[0;34m.\u001b[0m\u001b[0mgetP2PCommunity\u001b[0m\u001b[0;34m(\u001b[0m\u001b[0;34m)\u001b[0m\u001b[0;34m\u001b[0m\u001b[0;34m\u001b[0m\u001b[0m\n\u001b[1;32m     29\u001b[0m     \u001b[0mcomP2PDictSC\u001b[0m\u001b[0;34m.\u001b[0m\u001b[0mendP2P\u001b[0m\u001b[0;34m(\u001b[0m\u001b[0;34m)\u001b[0m\u001b[0;34m\u001b[0m\u001b[0;34m\u001b[0m\u001b[0m\n\u001b[0;32m---> 30\u001b[0;31m     \u001b[0mcomP2PDict\u001b[0m\u001b[0;34m.\u001b[0m\u001b[0mout_hh\u001b[0m\u001b[0;34m.\u001b[0m\u001b[0mto_csv\u001b[0m\u001b[0;34m(\u001b[0m\u001b[0mfilename\u001b[0m\u001b[0;34m,\u001b[0m \u001b[0mmode\u001b[0m\u001b[0;34m=\u001b[0m\u001b[0;34m'a'\u001b[0m\u001b[0;34m,\u001b[0m \u001b[0mheader\u001b[0m\u001b[0;34m=\u001b[0m\u001b[0;32mFalse\u001b[0m\u001b[0;34m)\u001b[0m\u001b[0;34m\u001b[0m\u001b[0;34m\u001b[0m\u001b[0m\n\u001b[0m\u001b[1;32m     31\u001b[0m     \u001b[0;31m#######################################\u001b[0m\u001b[0;34m\u001b[0m\u001b[0;34m\u001b[0m\u001b[0;34m\u001b[0m\u001b[0m\n\u001b[1;32m     32\u001b[0m     \u001b[0;31m# Create the P2P community\u001b[0m\u001b[0;34m\u001b[0m\u001b[0;34m\u001b[0m\u001b[0;34m\u001b[0m\u001b[0m\n",
      "\u001b[0;31mAttributeError\u001b[0m: 'dict' object has no attribute 'out_hh'"
     ]
    }
   ],
   "source": [
    "run_comm_comparison(1)"
   ]
  },
  {
   "cell_type": "markdown",
   "metadata": {},
   "source": [
    "Finally, to get the results for the sensitivity analysis, we iterate over community sizes, PV and battery penetrations, which results in the dataset sensitivity.csv and sensitivity_means.csv for the mean values. Figures were made using the script sensitivity.R"
   ]
  },
  {
   "cell_type": "markdown",
   "metadata": {},
   "source": [
    "For optimal window, let-s see the weekly duck curve reduction"
   ]
  },
  {
   "cell_type": "code",
   "execution_count": 14,
   "metadata": {},
   "outputs": [
    {
     "name": "stdout",
     "output_type": "stream",
     "text": [
      "######################\n",
      "Getting demand and PV profiles\n",
      "inside\n",
      "----------------------------------\n",
      "Country: DE\n",
      "Data resolution: 15.0\n",
      "Original year: 2010.0\n",
      "Sample size: 74.0\n",
      "Average consumption per year: 4685.069393693686\n",
      "Country: DE\n",
      "Total generation per year: PV    1535.83138\n",
      "dtype: float64\n",
      "Capacity factor: PV    17.53\n",
      "dtype: float64%\n",
      "######################\n",
      "Getting PV distribution\n",
      "Country: DE\n",
      "0123456789101112131415161718192021222324252627282930313233343536373839404142434445464748495051525354555657585960616263646566676869707172737475767778798081828384858687888990919293949596979899######################\n",
      "Getting demand and PV profiles\n",
      "inside\n",
      "----------------------------------\n",
      "Country: DE\n",
      "Data resolution: 15.0\n",
      "Original year: 2010.0\n",
      "Sample size: 74.0\n",
      "Average consumption per year: 4685.069393693686\n",
      "Country: DE\n",
      "Total generation per year: PV    1535.83138\n",
      "dtype: float64\n",
      "Capacity factor: PV    17.53\n",
      "dtype: float64%\n",
      "######################\n",
      "Getting PV distribution\n",
      "Country: DE\n",
      "01234567891011121314151617181926272829303132333435363738394041424344454647484950515253545556575859606162636465666768697071727374757677787980818283848586878889909192939495969798990123456789101112131415161718192021222324252627282930313233343536373839404142434445464748495051525354555657585960616263646566676869707172737475767778798081828384858687888990919293949596979899######################\n",
      "Getting demand and PV profiles\n",
      "inside\n",
      "----------------------------------\n",
      "Country: DE\n",
      "Data resolution: 15.0\n",
      "Original year: 2010.0\n",
      "Sample size: 74.0\n",
      "Average consumption per year: 4685.069393693686\n",
      "Country: DE\n",
      "Total generation per year: PV    1535.83138\n",
      "dtype: float64\n",
      "Capacity factor: PV    17.53\n",
      "dtype: float64%\n",
      "######################\n",
      "Getting PV distribution\n",
      "Country: DE\n",
      "01234567891011121314151617181920212223242526272829303132333435363738394041424344454647484950515253545556575859606162636465666768697071727374757677787980818283848586878889909192939495969798990123456789101112131415161718192021222324252627282930313233343536373839404142434445464748495051525354555657585960616263646566676869707172737475767778798081828384858687888990919293949596979899######################\n",
      "Getting demand and PV profiles\n",
      "inside\n",
      "----------------------------------\n",
      "Country: DE\n",
      "Data resolution: 15.0\n",
      "Original year: 2010.0\n",
      "Sample size: 74.0\n",
      "Average consumption per year: 4685.069393693686\n",
      "Country: DE\n",
      "Total generation per year: PV    1535.83138\n",
      "dtype: float64\n",
      "Capacity factor: PV    17.53\n",
      "dtype: float64%\n",
      "######################\n",
      "Getting PV distribution\n",
      "Country: DE\n",
      "01234567891011121314151617181920212223242526272829303132333435363738394041424344454647484950515253545556575859606162636465666768697071727374757677787980818283848586878889909192939495969798990123456789101112131415161718192021222324252627282930313233343536373839404142434445464748495051525354555657585960616263646566676869707172737475767778798081828384858687888990919293949596979899"
     ]
    }
   ],
   "source": [
    "Data={'community_size':100, # number of households\n",
    "     'timestep':0.25, # data resolution 0.25 = 15 min\n",
    "     'seed':1, # For reproducibility\n",
    "     'country_code':'DE', # other countries can be used (with other timesteps)\n",
    "     'pv_penetration':50, # % of community with PV\n",
    "     'batt_penetration':50, # % of households with PV that also have Battery\n",
    "     'retail_price':0.28, # flat retail price\n",
    "     'export_price':0.04, # flat FiT or export price\n",
    "     'predet_bhv':'low', # different behaviours can be used (False, 'high',\n",
    "                         # 'medium', 'low'). Gets the corresponding group of \n",
    "                         # the survey according to their answers on trading.\n",
    "                         # The distribution is divided in three slots.\n",
    "           \n",
    "     'ILR':1, # inverter load ratio, default to 1\n",
    "     'test_sc':False, # To test SC with P2P price structure\n",
    "     'cut':'q0', # Quartiles of trading, similar to predet_bhv, but with higher\n",
    "                 # resolution. The distribution is divided in ten slots.\n",
    "     'PtC':False, # Possibility to use Production to consumption ratio, \n",
    "                   # instead of random allocation of PV capacities accross community\n",
    "     'parallel':False # If multithreading is to be used, it deletes \n",
    "                      # attributes from the class to run quicker.\n",
    "     }\n",
    "    # Run SC community and save aggregated results\n",
    "comP2PDict={}\n",
    "comNormal=cp2p.SCCommunity(Data) # initialize\n",
    "comNormal.runAll() # Run all methods\n",
    "comP2PDict_low=cp2p.P2PCommunity(Data) # initialize\n",
    "comP2PDict_low.getPrices(comNormal) \n",
    "comP2PDict_low.getP2PCommunity()\n",
    "comP2PDict_low.endP2P()\n",
    "Data.update(predet_bhv='medium')\n",
    "comP2PDict_med=cp2p.P2PCommunity(Data) # initialize\n",
    "comP2PDict_med.getPrices(comNormal) \n",
    "comP2PDict_med.getP2PCommunity()\n",
    "comP2PDict_med.endP2P()\n",
    "Data.update(predet_bhv='high')\n",
    "comP2PDict_high=cp2p.P2PCommunity(Data) # initialize\n",
    "comP2PDict_high.getPrices(comNormal) \n",
    "comP2PDict_high.getP2PCommunity()\n",
    "comP2PDict_high.endP2P()"
   ]
  },
  {
   "cell_type": "code",
   "execution_count": 24,
   "metadata": {},
   "outputs": [
    {
     "name": "stdout",
     "output_type": "stream",
     "text": [
      "True\n",
      "4.013384491313637\n",
      "True\n",
      "3.8638011421518783\n",
      "False\n",
      "-0.008226359173050146\n",
      "True\n",
      "0.020860901196004922\n",
      "True\n",
      "0.38421991049182225\n",
      "5.16578765115009\n",
      "4.781567740658268\n",
      "0.5707598780069575\n",
      "0.4881680752033266\n"
     ]
    }
   ],
   "source": [
    "comP2PDict_high.getKPI(comNormal)"
   ]
  },
  {
   "cell_type": "code",
   "execution_count": 26,
   "metadata": {},
   "outputs": [],
   "source": [
    "df=pd.read_csv('../Output/week_power.csv')"
   ]
  },
  {
   "cell_type": "code",
   "execution_count": 29,
   "metadata": {},
   "outputs": [
    {
     "data": {
      "text/plain": [
       "<matplotlib.axes._subplots.AxesSubplot at 0x7f74fa5d2198>"
      ]
     },
     "execution_count": 29,
     "metadata": {},
     "output_type": "execute_result"
    },
    {
     "data": {
      "image/png": "[encoded data removed]",
      "text/plain": [
       "<Figure size 432x288 with 1 Axes>"
      ]
     },
     "metadata": {
      "needs_background": "light"
     },
     "output_type": "display_data"
    }
   ],
   "source": [
    "df.loc[:,['p2p','sc']].plot()"
   ]
  },
  {
   "cell_type": "code",
   "execution_count": 30,
   "metadata": {},
   "outputs": [
    {
     "name": "stdout",
     "output_type": "stream",
     "text": [
      "True\n",
      "2.0511740535368688\n",
      "True\n",
      "1.9747244919995026\n",
      "False\n",
      "-0.008175069662993528\n",
      "True\n",
      "0.0006875000000000075\n",
      "True\n",
      "0.15374570690103084\n",
      "4.935313447559299\n",
      "4.781567740658268\n",
      "0.5707598780069575\n",
      "0.4939975014377199\n"
     ]
    }
   ],
   "source": [
    "comP2PDict_med.getKPI(comNormal)"
   ]
  },
  {
   "cell_type": "code",
   "execution_count": 31,
   "metadata": {},
   "outputs": [],
   "source": [
    "df2=pd.read_csv('../Output/week_power.csv')"
   ]
  },
  {
   "cell_type": "code",
   "execution_count": 32,
   "metadata": {},
   "outputs": [
    {
     "name": "stdout",
     "output_type": "stream",
     "text": [
      "True\n",
      "0.8496348230851467\n",
      "True\n",
      "0.8179679786358847\n",
      "False\n",
      "-0.0004917912025645954\n",
      "False\n",
      "0.0\n",
      "True\n",
      "0.085031100930677\n",
      "4.866598841588945\n",
      "4.781567740658268\n",
      "0.5707598780069575\n",
      "0.5218290096722497\n"
     ]
    }
   ],
   "source": [
    "comP2PDict_low.getKPI(comNormal)"
   ]
  },
  {
   "cell_type": "code",
   "execution_count": 33,
   "metadata": {},
   "outputs": [],
   "source": [
    "df3=pd.read_csv('../Output/week_power.csv')"
   ]
  },
  {
   "cell_type": "code",
   "execution_count": 85,
   "metadata": {},
   "outputs": [
    {
     "data": {
      "text/plain": [
       "Text(0.5, 0, 'time [hours]')"
      ]
     },
     "execution_count": 85,
     "metadata": {},
     "output_type": "execute_result"
    },
    {
     "data": {
      "image/png": "[encoded data removed]",
      "text/plain": [
       "<Figure size 720x720 with 1 Axes>"
      ]
     },
     "metadata": {
      "needs_background": "light"
     },
     "output_type": "display_data"
    }
   ],
   "source": [
    "fig,ax=plt.subplots(figsize=(10,10))\n",
    "df.loc[:,['sc','p2p']].plot(ax=ax)\n",
    "df2.loc[:,['p2p']].plot(ax=ax)\n",
    "df3.loc[:,['p2p']].plot(ax=ax)\n",
    "ax.legend([\"SC\", \"P2P High\",'P2P Medium', 'P2P Low'])\n",
    "ax.set_ylabel('Power [kW]')\n",
    "ax.set_xlabel('Time [hours]')"
   ]
  },
  {
   "cell_type": "code",
   "execution_count": 67,
   "metadata": {},
   "outputs": [
    {
     "data": {
      "text/plain": [
       "Unnamed: 1         NaN\n",
       "p2p                NaN\n",
       "sc            0.131395\n",
       "dtype: float64"
      ]
     },
     "execution_count": 67,
     "metadata": {},
     "output_type": "execute_result"
    }
   ],
   "source": [
    "(df.groupby('Unnamed: 0').max()-df.groupby('Unnamed: 0').min()).diff(axis=1).max()/174"
   ]
  },
  {
   "cell_type": "code",
   "execution_count": 66,
   "metadata": {},
   "outputs": [
    {
     "data": {
      "text/plain": [
       "Unnamed: 1         NaN\n",
       "p2p                NaN\n",
       "sc            0.087218\n",
       "dtype: float64"
      ]
     },
     "execution_count": 66,
     "metadata": {},
     "output_type": "execute_result"
    }
   ],
   "source": [
    "(df2.groupby('Unnamed: 0').max()-df2.groupby('Unnamed: 0').min()).diff(axis=1).max()/174"
   ]
  },
  {
   "cell_type": "code",
   "execution_count": 65,
   "metadata": {},
   "outputs": [
    {
     "data": {
      "text/plain": [
       "Unnamed: 1         NaN\n",
       "p2p                NaN\n",
       "sc            0.043956\n",
       "dtype: float64"
      ]
     },
     "execution_count": 65,
     "metadata": {},
     "output_type": "execute_result"
    }
   ],
   "source": [
    "(df3.groupby('Unnamed: 0').max()-df3.groupby('Unnamed: 0').min()).diff(axis=1).max()/174\n"
   ]
  },
  {
   "cell_type": "code",
   "execution_count": null,
   "metadata": {},
   "outputs": [],
   "source": [
    "df.loc[:,['p2p','sc']].plot()"
   ]
  },
  {
   "cell_type": "code",
   "execution_count": 83,
   "metadata": {},
   "outputs": [
    {
     "data": {
      "text/plain": [
       "Unnamed: 1     23.000000\n",
       "p2p           159.894092\n",
       "sc            174.141665\n",
       "dtype: float64"
      ]
     },
     "execution_count": 83,
     "metadata": {},
     "output_type": "execute_result"
    }
   ],
   "source": [
    "(df2.groupby('Unnamed: 0').max()-df2.groupby('Unnamed: 0').min()).max()"
   ]
  },
  {
   "cell_type": "code",
   "execution_count": 79,
   "metadata": {},
   "outputs": [
    {
     "data": {
      "text/plain": [
       "0.0977011494252874"
      ]
     },
     "execution_count": 79,
     "metadata": {},
     "output_type": "execute_result"
    }
   ],
   "source": [
    "1-157/174"
   ]
  },
  {
   "cell_type": "code",
   "execution_count": 80,
   "metadata": {},
   "outputs": [
    {
     "data": {
      "text/plain": [
       "Unnamed: 1    0.867908\n",
       "p2p           0.095505\n",
       "sc           -0.000115\n",
       "dtype: float64"
      ]
     },
     "execution_count": 80,
     "metadata": {},
     "output_type": "execute_result"
    }
   ],
   "source": [
    "1-(df.groupby('Unnamed: 0').max()-df.groupby('Unnamed: 0').min()).max()/174.121665"
   ]
  },
  {
   "cell_type": "code",
   "execution_count": 81,
   "metadata": {},
   "outputs": [
    {
     "data": {
      "text/plain": [
       "Unnamed: 1    0.867908\n",
       "p2p           0.081711\n",
       "sc           -0.000115\n",
       "dtype: float64"
      ]
     },
     "execution_count": 81,
     "metadata": {},
     "output_type": "execute_result"
    }
   ],
   "source": [
    "1-(df2.groupby('Unnamed: 0').max()-df2.groupby('Unnamed: 0').min()).max()/174.121665"
   ]
  },
  {
   "cell_type": "code",
   "execution_count": 82,
   "metadata": {},
   "outputs": [
    {
     "data": {
      "text/plain": [
       "Unnamed: 1    0.867908\n",
       "p2p           0.034744\n",
       "sc           -0.000115\n",
       "dtype: float64"
      ]
     },
     "execution_count": 82,
     "metadata": {},
     "output_type": "execute_result"
    }
   ],
   "source": [
    "1-(df3.groupby('Unnamed: 0').max()-df3.groupby('Unnamed: 0').min()).max()/174.121665"
   ]
  },
  {
   "cell_type": "code",
   "execution_count": null,
   "metadata": {},
   "outputs": [],
   "source": []
  },
  {
   "cell_type": "code",
   "execution_count": 23,
   "metadata": {},
   "outputs": [
    {
     "data": {
      "text/plain": [
       "Index(['SCR', 'SSR', 'EFC', 'Demand_peak', 'Inj_peak', 'avg_dod', 'Total_load',\n",
       "       'TotalPV', 'bill', 'Imported', 'Exported', 'Batt_revenue',\n",
       "       'Batt_penetration', 'PV_penetration', 'seed', 'hh', 'type', 'SCR_comm',\n",
       "       'SSR_comm', 'Bill_comm', 'cut', 'Comm', 'predet_bhv'],\n",
       "      dtype='object')"
      ]
     },
     "execution_count": 23,
     "metadata": {},
     "output_type": "execute_result"
    }
   ],
   "source": [
    "comP2PDict_low.out_hh.keys()"
   ]
  },
  {
   "cell_type": "code",
   "execution_count": null,
   "metadata": {},
   "outputs": [],
   "source": []
  }
 ],
 "metadata": {
  "kernelspec": {
   "display_name": "alenv",
   "language": "python",
   "name": "alenv"
  },
  "language_info": {
   "codemirror_mode": {
    "name": "ipython",
    "version": 3
   },
   "file_extension": ".py",
   "mimetype": "text/x-python",
   "name": "python",
   "nbconvert_exporter": "python",
   "pygments_lexer": "ipython3",
   "version": "3.7.2"
  }
 },
 "nbformat": 4,
 "nbformat_minor": 4
}
