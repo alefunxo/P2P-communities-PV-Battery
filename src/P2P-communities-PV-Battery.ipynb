{
 "cells": [
  {
   "cell_type": "markdown",
   "metadata": {},
   "source": [
    "# Integration of prosumer peer-to-peer trading decisions into energy community modelling"
   ]
  },
  {
   "cell_type": "markdown",
   "metadata": {},
   "source": [
    "\n"
   ]
  },
  {
   "cell_type": "code",
   "execution_count": 1,
   "metadata": {},
   "outputs": [],
   "source": [
    "import pandas as pd\n",
    "import numpy as np\n",
    "import matplotlib.pyplot as plt\n",
    "import sys  \n",
    "import os\n",
    "import pickle\n",
    "import threading\n",
    "import multiprocessing as mp"
   ]
  },
  {
   "cell_type": "code",
   "execution_count": 2,
   "metadata": {},
   "outputs": [],
   "source": [
    "import warnings\n",
    "import Classes_definition_2021 as cp2p\n",
    "from pandas.plotting import register_matplotlib_converters\n",
    "register_matplotlib_converters()\n",
    "warnings.filterwarnings('error')\n",
    "%load_ext autoreload\n",
    "%autoreload 2"
   ]
  },
  {
   "cell_type": "markdown",
   "metadata": {},
   "source": [
    "To explore answers from the survey please see Survey_results_19032020.ipynb\n",
    "Here we use the processed answers to compare SC and P2P communities on similar basis at the individual, community and grid levels. See Table 1 of the SI."
   ]
  },
  {
   "cell_type": "markdown",
   "metadata": {},
   "source": [
    "To run the community you only have to run the following function.\n",
    "Behind the scenes there is the Classes_definition.py script\n",
    "\n",
    "Figures were made using the script Graphs_P3.R"
   ]
  },
  {
   "cell_type": "code",
   "execution_count": 3,
   "metadata": {},
   "outputs": [],
   "source": [
    "def run_comm(seed):\n",
    "    '''\n",
    "    Using a predetermined seed to initialize a pseudorandom number generator.\n",
    "    Writes aggregated results of SC and P2P communities on a file.\n",
    "    '''\n",
    "    # Predefined data\n",
    "    Data={'community_size':100, # number of households\n",
    "     'timestep':0.25, # data resolution 0.25 = 15 min\n",
    "     'seed':seed, # For reproducibility\n",
    "     'country_code':'DE', # other countries can be used (with other timesteps)\n",
    "     'pv_penetration':50, # % of community with PV\n",
    "     'batt_penetration':50, # % of households with PV that also have Battery\n",
    "     'retail_price':0.28, # flat retail price\n",
    "     'export_price':0.04, # flat FiT or export price\n",
    "     'predet_bhv':False, # different behaviours can be used (False, 'high',\n",
    "                         # 'medium', 'low'). Gets the corresponding group of \n",
    "                         # the survey according to their answers on trading.\n",
    "                         # The distribution is divided in three slots.\n",
    "           \n",
    "     'ILR':1, # inverter load ratio, default to 1\n",
    "     'test_sc':False, # To test SC with P2P price structure\n",
    "     'cut':'q0', # Quartiles of trading, similar to predet_bhv, but with higher\n",
    "                 # resolution. The distribution is divided in ten slots.\n",
    "     'PtC':False, # Possibility to use Production to consumption ratio, \n",
    "                   # instead of random allocation of PV capacities accross community\n",
    "     'parallel':True # If multithreading is to be used, it deletes \n",
    "                      # attributes from the class to run quicker.\n",
    "     }\n",
    "    # Run SC community and save aggregated results\n",
    "    comP2PDict={}\n",
    "    comNormal=cp2p.SCCommunity(Data) # initialize\n",
    "    comNormal.runAll() # Run all methods\n",
    "    filename='Community_dataset.csv'\n",
    "    pd.DataFrame.from_dict(comNormal.out, orient='index').T.to_csv(filename, mode='a', header=False)\n",
    "    \n",
    "    \n",
    "    comP2PDict=cp2p.P2PCommunity(Data) # initialize\n",
    "    comP2PDict.getPrices(comNormal) \n",
    "    comP2PDict.getP2PCommunity()\n",
    "    comP2PDict.endP2P()\n",
    "    comP2PDict.out_hh.to_csv(filename, mode='a', header=False)\n",
    "    return"
   ]
  },
  {
   "cell_type": "code",
   "execution_count": 4,
   "metadata": {},
   "outputs": [
    {
     "name": "stdout",
     "output_type": "stream",
     "text": [
      "######################\n",
      "Getting demand and PV profiles\n",
      "inside\n",
      "----------------------------------\n",
      "Country: DE\n",
      "Data resolution: 15.0\n",
      "Original year: 2010.0\n",
      "Sample size: 74.0\n",
      "Average consumption per year: 4685.069393693686\n",
      "Country: DE\n",
      "Total generation per year: PV    1535.83138\n",
      "dtype: float64\n",
      "Capacity factor: PV    17.53\n",
      "dtype: float64%\n",
      "######################\n",
      "Getting PV distribution\n",
      "Country: DE\n",
      "0123456789101112131415161718192021222324252627282930313233343536373839404142434445464748495051525354555657585960616263646566676869707172737475767778798081828384858687888990919293949596979899######################\n",
      "Getting demand and PV profiles\n",
      "inside\n",
      "----------------------------------\n",
      "Country: DE\n",
      "Data resolution: 15.0\n",
      "Original year: 2010.0\n",
      "Sample size: 74.0\n",
      "Average consumption per year: 4685.069393693686\n",
      "Country: DE\n",
      "Total generation per year: PV    1535.83138\n",
      "dtype: float64\n",
      "Capacity factor: PV    17.53\n",
      "dtype: float64%\n",
      "######################\n",
      "Getting PV distribution\n",
      "Country: DE\n",
      "01234567891011121314151617181920212223242526272829303132333435363738394041424344454647484950515253545556575859606162636465666768697071727374757677787980818283848586878889909192939495969798990123456789101112131415161718192021222324252627282930313233343536373839404142434445464748495051525354555657585960616263646566676869707172737475767778798081828384858687888990919293949596979899CPU times: user 13min 20s, sys: 7.54 s, total: 13min 27s\n",
      "Wall time: 13min 18s\n"
     ]
    }
   ],
   "source": [
    "%%time\n",
    "run_comm(1)"
   ]
  },
  {
   "cell_type": "markdown",
   "metadata": {},
   "source": [
    "Once several runs are made (1000 in the paper's case), we proceed to plot the results using R.\n",
    "\n",
    "Figure 1 is produced using the output from the previous dataset (final_dataset.csv)"
   ]
  },
  {
   "cell_type": "markdown",
   "metadata": {},
   "source": [
    "To produce Figure 2 B, C and D, 1000 simulations were used (only maximum power import and export from  final_dataset.csv, rearrenged in peak_tidy.csv).\n",
    "\n",
    "to produce Figure 2 A the following approach was used:"
   ]
  },
  {
   "cell_type": "markdown",
   "metadata": {},
   "source": [
    "## In order to take a look at the peaks parallel should be set to False. "
   ]
  },
  {
   "cell_type": "code",
   "execution_count": 5,
   "metadata": {},
   "outputs": [
    {
     "name": "stdout",
     "output_type": "stream",
     "text": [
      "######################\n",
      "Getting demand and PV profiles\n",
      "inside\n",
      "----------------------------------\n",
      "Country: DE\n",
      "Data resolution: 15.0\n",
      "Original year: 2010.0\n",
      "Sample size: 74.0\n",
      "Average consumption per year: 4685.069393693686\n",
      "Country: DE\n",
      "Total generation per year: PV    1535.83138\n",
      "dtype: float64\n",
      "Capacity factor: PV    17.53\n",
      "dtype: float64%\n",
      "######################\n",
      "Getting PV distribution\n",
      "Country: DE\n",
      "0123456789101112131415161718192021222324252627282930313233343536373839404142434445464748495051525354555657585960616263646566676869707172737475767778798081828384858687888990919293949596979899######################\n",
      "Getting demand and PV profiles\n",
      "inside\n",
      "----------------------------------\n",
      "Country: DE\n",
      "Data resolution: 15.0\n",
      "Original year: 2010.0\n",
      "Sample size: 74.0\n",
      "Average consumption per year: 4685.069393693686\n",
      "Country: DE\n",
      "Total generation per year: PV    1535.83138\n",
      "dtype: float64\n",
      "Capacity factor: PV    17.53\n",
      "dtype: float64%\n",
      "######################\n",
      "Getting PV distribution\n",
      "Country: DE\n",
      "01234567891011121314151617181920212223242526272829303132333435363738394041424344454647484950515253545556575859606162636465666768697071727374757677787980818283848586878889909192939495969798990123456789101112131415161718192021222324252627282930313233343536373839404142434445464748495051525354555657585960616263646566676869707172737475767778798081828384858687888990919293949596979899"
     ]
    }
   ],
   "source": [
    "Data={'community_size':100, # number of households\n",
    "     'timestep':0.25, # data resolution 0.25 = 15 min\n",
    "     'seed':164, # For reproducibility\n",
    "     'country_code':'DE', # other countries can be used (with other timesteps)\n",
    "     'pv_penetration':50, # % of community with PV\n",
    "     'batt_penetration':50, # % of households with PV that also have Battery\n",
    "     'retail_price':0.28, # flat retail price\n",
    "     'export_price':0.04, # flat FiT or export price\n",
    "     'predet_bhv':False, # different behaviours can be used (False, 'high',\n",
    "                         # 'medium', 'low'). Gets the corresponding group of \n",
    "                         # the survey according to their answers on trading.\n",
    "                         # The distribution is divided in three slots.\n",
    "           \n",
    "     'ILR':1, # inverter load ratio, default to 1\n",
    "     'test_sc':False, # To test SC with P2P price structure\n",
    "     'cut':'q0', # Quartiles of trading, similar to predet_bhv, but with higher\n",
    "                 # resolution. The distribution is divided in ten slots.\n",
    "     'PtC':False, # Possibility to use Production to consumption ratio, \n",
    "                   # instead of random allocation of PV capacities accross community\n",
    "     'parallel':False # If multithreading is to be used, it deletes \n",
    "                      # attributes from the class to run quicker.\n",
    "     }\n",
    "    # Run SC community and save aggregated results\n",
    "comP2PDict={}\n",
    "comNormal=cp2p.SCCommunity(Data) # initialize\n",
    "comNormal.runAll() # Run all methods\n",
    "comP2PDict=cp2p.P2PCommunity(Data) # initialize\n",
    "comP2PDict.getPrices(comNormal) \n",
    "comP2PDict.getP2PCommunity()\n",
    "comP2PDict.endP2P()"
   ]
  },
  {
   "cell_type": "markdown",
   "metadata": {},
   "source": [
    "### To explore prosumer decision strategies impact we run the following function:"
   ]
  },
  {
   "cell_type": "code",
   "execution_count": 6,
   "metadata": {},
   "outputs": [],
   "source": [
    "def run_comm_decisions(bhv):\n",
    "    '''\n",
    "    Using a predetermined seed to initialize a pseudorandom number generator.\n",
    "    Writes aggregated results of SC and P2P communities on a file.\n",
    "    '''\n",
    "    # Predefined data\n",
    "    Data={'community_size':100, # number of households\n",
    "     'timestep':0.25, # data resolution 0.25 = 15 min\n",
    "     'seed':1, # For reproducibility\n",
    "     'country_code':'DE', # other countries can be used (with other timesteps)\n",
    "     'pv_penetration':50, # % of community with PV\n",
    "     'batt_penetration':50, # % of households with PV that also have Battery\n",
    "     'retail_price':0.28, # flat retail price\n",
    "     'export_price':0.04, # flat FiT or export price\n",
    "     'predet_bhv':bhv, # different behaviours can be used (False, 'high',\n",
    "                         # 'medium', 'low'). Gets the corresponding group of \n",
    "                         # the survey according to their answers on trading.\n",
    "                         # The distribution is divided in three slots.\n",
    "           \n",
    "     'ILR':1, # inverter load ratio, default to 1\n",
    "     'test_sc':False, # To test SC with P2P price structure\n",
    "     'cut':'q0', # Quartiles of trading, similar to predet_bhv, but with higher\n",
    "                 # resolution. The distribution is divided in ten slots.\n",
    "     'PtC':False, # Possibility to use Production to consumption ratio, \n",
    "                   # instead of random allocation of PV capacities accross community\n",
    "     'parallel':True # If multithreading is to be used, it deletes \n",
    "                      # attributes from the class to run quicker.\n",
    "     }\n",
    "    # Run SC community and save aggregated results$\n",
    "    comP2PDict={}\n",
    "    comNormal=cp2p.SCCommunity(Data) # initialize\n",
    "    comNormal.runAll() # Run all methods\n",
    "    #filename='../Output/optimal_trading2.csv'\n",
    "    #comNormal.out_hh.to_csv(filename, mode='a', header=False)\n",
    "    comP2PDict=cp2p.P2PCommunity(Data) # initialize\n",
    "    comP2PDict.getPrices(comNormal) \n",
    "    comP2PDict.getP2PCommunity()\n",
    "    comP2PDict.endP2P()\n",
    "    #comP2PDict.out_hh.to_csv(filename, mode='a', header=False)\n",
    "    return "
   ]
  },
  {
   "cell_type": "code",
   "execution_count": 7,
   "metadata": {},
   "outputs": [],
   "source": [
    "bhv_arr=[False, 'high','medium', 'low']"
   ]
  },
  {
   "cell_type": "code",
   "execution_count": 8,
   "metadata": {},
   "outputs": [
    {
     "name": "stdout",
     "output_type": "stream",
     "text": [
      "######################\n",
      "######################\n",
      "######################\n",
      "######################\n",
      "Getting demand and PV profiles\n",
      "Getting demand and PV profiles\n",
      "Getting demand and PV profiles\n",
      "Getting demand and PV profiles\n",
      "inside\n",
      "inside\n",
      "inside\n",
      "inside\n",
      "----------------------------------\n",
      "----------------------------------\n",
      "----------------------------------\n",
      "----------------------------------\n",
      "Country: DE\n",
      "Country: DE\n",
      "Country: DE\n",
      "Country: DE\n",
      "Data resolution: 15.0\n",
      "Data resolution: 15.0\n",
      "Data resolution: 15.0\n",
      "Data resolution: 15.0\n",
      "Original year: 2010.0\n",
      "Original year: 2010.0\n",
      "Original year: 2010.0\n",
      "Original year: 2010.0\n",
      "Sample size: 74.0\n",
      "Sample size: 74.0\n",
      "Sample size: 74.0\n",
      "Sample size: 74.0\n",
      "Average consumption per year: 4685.069393693686\n",
      "Average consumption per year: 4685.069393693686\n",
      "Average consumption per year: 4685.069393693686\n",
      "Average consumption per year: 4685.069393693686\n",
      "Country: DE\n",
      "Country: DE\n",
      "Country: DE\n",
      "Total generation per year: PV    1535.83138\n",
      "dtype: float64\n",
      "Capacity factor: PV    17.53\n",
      "dtype: float64%Country: DE\n",
      "\n",
      "######################\n",
      "Getting PV distribution\n",
      "Total generation per year: PV    1535.83138\n",
      "dtype: float64\n",
      "Capacity factor: PV    17.53\n",
      "dtype: float64%\n",
      "Total generation per year: PV    1535.83138\n",
      "dtype: float64\n",
      "Capacity factor: PV    17.53\n",
      "dtype: float64%\n",
      "Total generation per year: PV    1535.83138\n",
      "dtype: float64\n",
      "Capacity factor: PV    17.53\n",
      "dtype: float64%\n",
      "######################\n",
      "Getting PV distribution\n",
      "######################\n",
      "Getting PV distribution\n",
      "######################\n",
      "Getting PV distribution\n",
      "Country: DE\n",
      "Country: DE\n",
      "Country: DE\n",
      "Country: DE\n",
      "0123456789101112131415161718192021222324252627282930313233343536373839404142434445464748495051525354555657585960616263646566676869707172737475767778798081828384858687888990919293949596979899######################\n",
      "Getting demand and PV profiles\n",
      "inside\n",
      "----------------------------------\n",
      "Country: DE\n",
      "Data resolution: 15.0\n",
      "Original year: 2010.0\n",
      "Sample size: 74.0\n",
      "0123456789101112131415161718192021222324252627282930313233343536373839404142434445464748495051525354555657585960616263646566676869707172737475767778798081828384858687888990919293949596979899######################\n",
      "Getting demand and PV profiles\n",
      "inside\n",
      "----------------------------------\n",
      "Country: DE\n",
      "Data resolution: 15.0\n",
      "Original year: 2010.0\n",
      "Sample size: 74.0\n",
      "0123456789101112131415161718192021222324252627282930313233343536373839404142434445464748495051525354555657585960616263646566676869707172737475767778798081828384858687888990919293949596979899######################\n",
      "Getting demand and PV profiles\n",
      "inside\n",
      "----------------------------------\n",
      "Country: DE\n",
      "Data resolution: 15.0\n",
      "Original year: 2010.0\n",
      "Sample size: 74.0\n",
      "0123456789101112131415161718192021222324252627282930313233343536373839404142434445464748495051525354555657585960616263646566676869707172737475767778798081828384858687888990919293949596979899######################\n",
      "Getting demand and PV profiles\n",
      "inside\n",
      "----------------------------------\n",
      "Country: DE\n",
      "Data resolution: 15.0\n",
      "Original year: 2010.0\n",
      "Sample size: 74.0\n",
      "Average consumption per year: 4685.069393693686\n",
      "Average consumption per year: 4685.069393693686\n",
      "Average consumption per year: 4685.069393693686\n",
      "Average consumption per year: 4685.069393693686\n",
      "Country: DE\n",
      "Total generation per year: PV    1535.83138\n",
      "dtype: float64\n",
      "Capacity factor: PV    17.53\n",
      "dtype: float64%Country: DE\n",
      "\n",
      "######################\n",
      "Getting PV distribution\n",
      "Country: DE\n",
      "Total generation per year: PV    1535.83138\n",
      "dtype: float64\n",
      "Capacity factor: PV    17.53\n",
      "dtype: float64%\n",
      "Country: DE\n",
      "######################\n",
      "Getting PV distribution\n",
      "Total generation per year: PV    1535.83138\n",
      "dtype: float64\n",
      "Capacity factor: PV    17.53\n",
      "dtype: float64%\n",
      "Total generation per year: PV    1535.83138\n",
      "dtype: float64\n",
      "Capacity factor: PV    17.53\n",
      "dtype: float64%\n",
      "######################\n",
      "Getting PV distribution\n",
      "######################\n",
      "Getting PV distribution\n",
      "Country: DE\n",
      "Country: DE\n",
      "Country: DE\n",
      "Country: DE\n",
      "01234567891011121314151617181920212223242526272829303132333435363738394041424344454647484950515253545556575859606162636465666768697071727374757677787980818283848586878889909192939495969798990123456789101112131415161718192021222324252627282930313233343536373839404142434445464748495051525354555657585960616263646566676869707172737475767778798081828384858687888990919293949596979899012345678910111213141516171819202122232425262728293031323334353637383940414243444546474849505152535455565758596061626364656667686970717273747576777879808182838485868788899091929394959697989901234567891011121314151617181920212223242526272829303132333435363738394041424344454647484950515253545556575859606162636465666768697071727374757677787980818283848586878889909192939495969798990123456789101112131415161718192021222324252627282930313233343536373839404142434445464748495051525354555657585960616263646566676869707172737475767778798081828384858687888990919293949596979899012345678910111213141516171819202122232425262728293031323334353637383940414243444546474849505152535455565758596061626364656667686970717273747576777879808182838485868788899091929394959697989901234567891011121314151617181920212223242526272829303132333435363738394041424344454647484950515253545556575859606162636465666768697071727374757677787980818283848586878889909192939495969798990123456789101112131415161718192021222324252627282930313233343536373839404142434445464748495051525354555657585960616263646566676869707172737475767778798081828384858687888990919293949596979899"
     ]
    }
   ],
   "source": [
    "#Run this for different cuts\n",
    "mp.freeze_support()\n",
    "pool=mp.Pool(processes=20)\n",
    "pool.starmap_async(run_comm_decisions, zip([bhv for bhv in bhv_arr]))\n",
    "pool.close()\n",
    "pool.join()"
   ]
  },
  {
   "cell_type": "markdown",
   "metadata": {},
   "source": [
    "# Supplementary Information "
   ]
  },
  {
   "cell_type": "markdown",
   "metadata": {},
   "source": [
    "Willingness to sell electricity Figure was made using table df_core.csv which are the answers from the survey for the questions regarding trading decisions depending on price, SOC and time of the day. Figure is made in R (Graphs_P3.R)"
   ]
  },
  {
   "cell_type": "markdown",
   "metadata": {},
   "source": [
    "To compare SC communities with SC communities with P2P price structure and P2P communities we use the following function. The figures were made using the script P2P_SC.R"
   ]
  },
  {
   "cell_type": "code",
   "execution_count": 9,
   "metadata": {},
   "outputs": [],
   "source": [
    "def run_comm_comparison(seed):\n",
    "    Data={'community_size':100,\n",
    "     'timestep':0.25,\n",
    "     'seed':seed,\n",
    "     'country_code':'DE',\n",
    "     'pv_penetration':50,\n",
    "     'batt_penetration':50,\n",
    "     'retail_price':0.28,\n",
    "     'export_price':0.04,\n",
    "     'predet_bhv':False,\n",
    "     'ILR':1,\n",
    "     'test_sc':True,\n",
    "     'cut':'q0',\n",
    "      'PtC':False,\n",
    "      'parallel':True\n",
    "     }\n",
    "    #######################################\n",
    "    # Create the SC community\n",
    "    comP2PDict={}\n",
    "    comNormal=cp2p.SCCommunity(Data)\n",
    "    comNormal.runAll()\n",
    "    filename='../Output/sc_vs_p2p_2.csv'\n",
    "    #comNormal.out_hh.to_csv(filename, mode='a', header=False)\n",
    "    #######################################\n",
    "    # Create the SC community with P2P price structure\n",
    "    comP2PDictSC=cp2p.P2PCommunity(Data)\n",
    "    comP2PDictSC.getPrices(comNormal)\n",
    "    comP2PDictSC.getP2PCommunity()\n",
    "    comP2PDictSC.endP2P()\n",
    "    #comP2PDict.out_hh.to_csv(filename, mode='a', header=False)\n",
    "    ########################################\n",
    "    # Create the P2P community  \n",
    "    Data.update(test_sc=False)\n",
    "    comNormal=cp2p.SCCommunity(Data)\n",
    "    comNormal.runAll()\n",
    "    comP2PDict=cp2p.P2PCommunity(Data)\n",
    "    comP2PDict.getPrices(comNormal)\n",
    "    comP2PDict.getP2PCommunity()\n",
    "    comP2PDict.endP2P()\n",
    "    #comP2PDict.out_hh.to_csv(filename, mode='a', header=False)\n",
    "    return "
   ]
  },
  {
   "cell_type": "code",
   "execution_count": 10,
   "metadata": {},
   "outputs": [
    {
     "name": "stdout",
     "output_type": "stream",
     "text": [
      "######################\n",
      "Getting demand and PV profiles\n",
      "inside\n",
      "----------------------------------\n",
      "Country: DE\n",
      "Data resolution: 15.0\n",
      "Original year: 2010.0\n",
      "Sample size: 74.0\n",
      "Average consumption per year: 4685.069393693686\n",
      "Country: DE\n",
      "Total generation per year: PV    1535.83138\n",
      "dtype: float64\n",
      "Capacity factor: PV    17.53\n",
      "dtype: float64%\n",
      "######################\n",
      "Getting PV distribution\n",
      "Country: DE\n",
      "0123456789101112131415161718192021222324252627282930313233343536373839404142434445464748495051525354555657585960616263646566676869707172737475767778798081828384858687888990919293949596979899######################\n",
      "Getting demand and PV profiles\n",
      "inside\n",
      "----------------------------------\n",
      "Country: DE\n",
      "Data resolution: 15.0\n",
      "Original year: 2010.0\n",
      "Sample size: 74.0\n",
      "Average consumption per year: 4685.069393693686\n",
      "Country: DE\n",
      "Total generation per year: PV    1535.83138\n",
      "dtype: float64\n",
      "Capacity factor: PV    17.53\n",
      "dtype: float64%\n",
      "######################\n",
      "Getting PV distribution\n",
      "Country: DE\n",
      "01234567891011121314151617181920212223242526272829303132333435363738394041424344454647484950515253545556575859606162636465666768697071727374757677787980818283848586878889909192939495969798990123456789101112131415161718192021222324252627282930313233343536373839404142434445464748495051525354555657585960616263646566676869707172737475767778798081828384858687888990919293949596979899######################\n",
      "Getting demand and PV profiles\n",
      "inside\n",
      "----------------------------------\n",
      "Country: DE\n",
      "Data resolution: 15.0\n",
      "Original year: 2010.0\n",
      "Sample size: 74.0\n",
      "Average consumption per year: 4685.069393693686\n",
      "Country: DE\n",
      "Total generation per year: PV    1535.83138\n",
      "dtype: float64\n",
      "Capacity factor: PV    17.53\n",
      "dtype: float64%\n",
      "######################\n",
      "Getting PV distribution\n",
      "Country: DE\n",
      "0123456789101112131415161718192021222324252627282930313233343536373839404142434445464748495051525354555657585960616263646566676869707172737475767778798081828384858687888990919293949596979899######################\n",
      "Getting demand and PV profiles\n",
      "inside\n",
      "----------------------------------\n",
      "Country: DE\n",
      "Data resolution: 15.0\n",
      "Original year: 2010.0\n",
      "Sample size: 74.0\n",
      "Average consumption per year: 4685.069393693686\n",
      "Country: DE\n",
      "Total generation per year: PV    1535.83138\n",
      "dtype: float64\n",
      "Capacity factor: PV    17.53\n",
      "dtype: float64%\n",
      "######################\n",
      "Getting PV distribution\n",
      "Country: DE\n",
      "01234567891011121314151617181920212223242526272829303132333435363738394041424344454647484950515253545556575859606162636465666768697071727374757677787980818283848586878889909192939495969798990123456789101112131415161718192021222324252627282930313233343536373839404142434445464748495051525354555657585960616263646566676869707172737475767778798081828384858687888990919293949596979899"
     ]
    }
   ],
   "source": [
    "run_comm_comparison(1)"
   ]
  },
  {
   "cell_type": "markdown",
   "metadata": {},
   "source": [
    "Finally, to get the results for the sensitivity analysis, we iterate over community sizes, PV and battery penetrations, which results in the dataset sensitivity.csv and sensitivity_means.csv for the mean values. Figures were made using the script sensitivity.R"
   ]
  },
  {
   "cell_type": "markdown",
   "metadata": {},
   "source": [
    "### For the duck-curve results of the section on decision-making strategies, we take a look at the three predetermined types of behavior"
   ]
  },
  {
   "cell_type": "code",
   "execution_count": 11,
   "metadata": {},
   "outputs": [
    {
     "name": "stdout",
     "output_type": "stream",
     "text": [
      "######################\n",
      "Getting demand and PV profiles\n",
      "inside\n",
      "----------------------------------\n",
      "Country: DE\n",
      "Data resolution: 15.0\n",
      "Original year: 2010.0\n",
      "Sample size: 74.0\n",
      "Average consumption per year: 4685.069393693686\n",
      "Country: DE\n",
      "Total generation per year: PV    1535.83138\n",
      "dtype: float64\n",
      "Capacity factor: PV    17.53\n",
      "dtype: float64%\n",
      "######################\n",
      "Getting PV distribution\n",
      "Country: DE\n",
      "0123456789101112131415161718192021222324252627282930313233343536373839404142434445464748495051525354555657585960616263646566676869707172737475767778798081828384858687888990919293949596979899######################\n",
      "Getting demand and PV profiles\n",
      "inside\n",
      "----------------------------------\n",
      "Country: DE\n",
      "Data resolution: 15.0\n",
      "Original year: 2010.0\n",
      "Sample size: 74.0\n",
      "Average consumption per year: 4685.069393693686\n",
      "Country: DE\n",
      "Total generation per year: PV    1535.83138\n",
      "dtype: float64\n",
      "Capacity factor: PV    17.53\n",
      "dtype: float64%\n",
      "######################\n",
      "Getting PV distribution\n",
      "Country: DE\n",
      "01234567891011121314151617181920212223242526272829303132333435363738394041424344454647484950515253545556575859606162636465666768697071727374757677787980818283848586878889909192939495969798990123456789101112131415161718192021222324252627282930313233343536373839404142434445464748495051525354555657585960616263646566676869707172737475767778798081828384858687888990919293949596979899######################\n",
      "Getting demand and PV profiles\n",
      "inside\n",
      "----------------------------------\n",
      "Country: DE\n",
      "Data resolution: 15.0\n",
      "Original year: 2010.0\n",
      "Sample size: 74.0\n",
      "Average consumption per year: 4685.069393693686\n",
      "Country: DE\n",
      "Total generation per year: PV    1535.83138\n",
      "dtype: float64\n",
      "Capacity factor: PV    17.53\n",
      "dtype: float64%\n",
      "######################\n",
      "Getting PV distribution\n",
      "Country: DE\n",
      "01234567891011121314151617181920212223242526272829303132333435363738394041424344454647484950515253545556575859606162636465666768697071727374757677787980818283848586878889909192939495969798990123456789101112131415161718192021222324252627282930313233343536373839404142434445464748495051525354555657585960616263646566676869707172737475767778798081828384858687888990919293949596979899######################\n",
      "Getting demand and PV profiles\n",
      "inside\n",
      "----------------------------------\n",
      "Country: DE\n",
      "Data resolution: 15.0\n",
      "Original year: 2010.0\n",
      "Sample size: 74.0\n",
      "Average consumption per year: 4685.069393693686\n",
      "Country: DE\n",
      "Total generation per year: PV    1535.83138\n",
      "dtype: float64\n",
      "Capacity factor: PV    17.53\n",
      "dtype: float64%\n",
      "######################\n",
      "Getting PV distribution\n",
      "Country: DE\n",
      "01234567891011121314151617181920212223242526272829303132333435363738394041424344454647484950515253545556575859606162636465666768697071727374757677787980818283848586878889909192939495969798990123456789101112131415161718192021222324252627282930313233343536373839404142434445464748495051525354555657585960616263646566676869707172737475767778798081828384858687888990919293949596979899"
     ]
    }
   ],
   "source": [
    "Data={'community_size':100, # number of households\n",
    "     'timestep':0.25, # data resolution 0.25 = 15 min\n",
    "     'seed':164, # For reproducibility\n",
    "     'country_code':'DE', # other countries can be used (with other timesteps)\n",
    "     'pv_penetration':50, # % of community with PV\n",
    "     'batt_penetration':50, # % of households with PV that also have Battery\n",
    "     'retail_price':0.28, # flat retail price\n",
    "     'export_price':0.04, # flat FiT or export price\n",
    "     'predet_bhv':'low', # different behaviours can be used (False, 'high',\n",
    "                         # 'medium', 'low'). Gets the corresponding group of \n",
    "                         # the survey according to their answers on trading.\n",
    "                         # The distribution is divided in three slots.\n",
    "           \n",
    "     'ILR':1, # inverter load ratio, default to 1\n",
    "     'test_sc':False, # To test SC with P2P price structure\n",
    "     'cut':'q0', # Quartiles of trading, similar to predet_bhv, but with higher\n",
    "                 # resolution. The distribution is divided in ten slots.\n",
    "     'PtC':False, # Possibility to use Production to consumption ratio, \n",
    "                   # instead of random allocation of PV capacities accross community\n",
    "     'parallel':False # If multithreading is to be used, it deletes \n",
    "                      # attributes from the class to run quicker.\n",
    "     }\n",
    "    # Run SC community and save aggregated results\n",
    "comP2PDict={}\n",
    "comNormal=cp2p.SCCommunity(Data) # initialize\n",
    "comNormal.runAll() # Run all methods\n",
    "comP2PDict_low=cp2p.P2PCommunity(Data) # initialize\n",
    "comP2PDict_low.getPrices(comNormal) \n",
    "comP2PDict_low.getP2PCommunity()\n",
    "comP2PDict_low.endP2P()\n",
    "Data.update(predet_bhv='medium')\n",
    "comP2PDict_med=cp2p.P2PCommunity(Data) # initialize\n",
    "comP2PDict_med.getPrices(comNormal) \n",
    "comP2PDict_med.getP2PCommunity()\n",
    "comP2PDict_med.endP2P()\n",
    "Data.update(predet_bhv='high')\n",
    "comP2PDict_high=cp2p.P2PCommunity(Data) # initialize\n",
    "comP2PDict_high.getPrices(comNormal) \n",
    "comP2PDict_high.getP2PCommunity()\n",
    "comP2PDict_high.endP2P()"
   ]
  },
  {
   "cell_type": "markdown",
   "metadata": {},
   "source": [
    "#### getKPI creates a file called week_power.csv in the Output folder, with the average power exchanges at the community level"
   ]
  },
  {
   "cell_type": "code",
   "execution_count": 12,
   "metadata": {},
   "outputs": [
    {
     "data": {
      "text/plain": [
       "2"
      ]
     },
     "execution_count": 12,
     "metadata": {},
     "output_type": "execute_result"
    }
   ],
   "source": [
    "1+1"
   ]
  },
  {
   "cell_type": "code",
   "execution_count": 94,
   "metadata": {},
   "outputs": [
    {
     "name": "stdout",
     "output_type": "stream",
     "text": [
      "True\n",
      "1.2194063098988153\n",
      "True\n",
      "1.229886249239641\n",
      "False\n",
      "-7.750888888602425e-06\n",
      "True\n",
      "0.0009238333333334015\n",
      "True\n",
      "0.13245320346373468\n",
      "4.871987273151623\n",
      "4.739534069687888\n",
      "0.6158460553544145\n",
      "0.5533930528363354\n"
     ]
    }
   ],
   "source": [
    "comP2PDict_low.getKPI(comNormal)"
   ]
  },
  {
   "cell_type": "code",
   "execution_count": 95,
   "metadata": {},
   "outputs": [
    {
     "name": "stdout",
     "output_type": "stream",
     "text": [
      "True\n",
      "2.3491630191187554\n",
      "True\n",
      "2.369352422554037\n",
      "False\n",
      "-0.0005975668603189765\n",
      "False\n",
      "0.0\n",
      "True\n",
      "0.25695055946102485\n",
      "4.996484629148913\n",
      "4.739534069687888\n",
      "0.6158460553544145\n",
      "0.5272703714772835\n"
     ]
    }
   ],
   "source": [
    "comP2PDict_med.getKPI(comNormal)"
   ]
  },
  {
   "cell_type": "code",
   "execution_count": 96,
   "metadata": {},
   "outputs": [
    {
     "name": "stdout",
     "output_type": "stream",
     "text": [
      "True\n",
      "2.7326276661993347\n",
      "True\n",
      "2.75611267849618\n",
      "False\n",
      "-0.008192506182785553\n",
      "True\n",
      "0.03572383333333329\n",
      "True\n",
      "0.2419839785578013\n",
      "4.98151804824569\n",
      "4.739534069687888\n",
      "0.6158460553544145\n",
      "0.5753209574764951\n"
     ]
    }
   ],
   "source": [
    "comP2PDict_high.getKPI(comNormal)"
   ]
  },
  {
   "cell_type": "code",
   "execution_count": 13,
   "metadata": {},
   "outputs": [],
   "source": [
    "df_low=pd.read_csv('../Output/week_power_low.csv')\n",
    "df_med=pd.read_csv('../Output/week_power_med.csv')\n",
    "df_high=pd.read_csv('../Output/week_power_high.csv')"
   ]
  },
  {
   "cell_type": "code",
   "execution_count": 14,
   "metadata": {},
   "outputs": [
    {
     "data": {
      "text/plain": [
       "Text(0.5, 0, 'Time [hours]')"
      ]
     },
     "execution_count": 14,
     "metadata": {},
     "output_type": "execute_result"
    },
    {
     "data": {
      "image/png": "[encoded data removed]",
      "text/plain": [
       "<Figure size 720x720 with 1 Axes>"
      ]
     },
     "metadata": {
      "needs_background": "light"
     },
     "output_type": "display_data"
    }
   ],
   "source": [
    "fig,ax=plt.subplots(figsize=(10,10))\n",
    "#df_fig2.loc[:,['sc','p2p']].plot(ax=ax)\n",
    "df_high.loc[:,['sc','p2p']].plot(ax=ax)\n",
    "df_med.loc[:,['p2p']].plot(ax=ax)\n",
    "df_low.loc[:,['p2p']].plot(ax=ax)\n",
    "ax.legend([\"SC\", \"P2P High\",'P2P Medium', 'P2P Low'])\n",
    "ax.set_ylabel('Power [kW]')\n",
    "ax.set_xlabel('Time [hours]')"
   ]
  },
  {
   "cell_type": "markdown",
   "metadata": {},
   "source": [
    "The Excel file strategies_peak_week.xlsx provides the calculations for the values in the paper refering to peak to peak amplitude."
   ]
  }
 ],
 "metadata": {
  "kernelspec": {
   "display_name": "alenv",
   "language": "python",
   "name": "alenv"
  },
  "language_info": {
   "codemirror_mode": {
    "name": "ipython",
    "version": 3
   },
   "file_extension": ".py",
   "mimetype": "text/x-python",
   "name": "python",
   "nbconvert_exporter": "python",
   "pygments_lexer": "ipython3",
   "version": "3.7.2"
  }
 },
 "nbformat": 4,
 "nbformat_minor": 4
}
