{
 "cells": [
  {
   "cell_type": "code",
   "execution_count": 1,
   "metadata": {},
   "outputs": [
    {
     "data": {
      "text/html": [
       "<style>.container { width:80% !important; }</style>"
      ],
      "text/plain": [
       "<IPython.core.display.HTML object>"
      ]
     },
     "metadata": {},
     "output_type": "display_data"
    }
   ],
   "source": [
    "from IPython.core.display import display, HTML\n",
    "display(HTML(\"<style>.container { width:80% !important; }</style>\"))"
   ]
  },
  {
   "cell_type": "code",
   "execution_count": 2,
   "metadata": {},
   "outputs": [],
   "source": [
    "import sys,os\n",
    "import numpy as np\n",
    "import pandas as pd\n",
    "import matplotlib.pyplot as plt\n",
    "from pathlib import Path\n",
    "import itertools\n",
    "from itertools import groupby\n",
    "from matplotlib.patches import FancyBboxPatch\n",
    "import seaborn as sns\n",
    "sns.set_style(\"white\")"
   ]
  },
  {
   "cell_type": "markdown",
   "metadata": {},
   "source": [
    "# Load the survey results"
   ]
  },
  {
   "cell_type": "code",
   "execution_count": 10,
   "metadata": {},
   "outputs": [],
   "source": [
    "colnames=['Finished','p2p_Filter1','p2p_dem_Gender','p2p_dem__age','p2p_dem__birth','p2p_dem_househ_sit','p2p_dem_househ_size',\n",
    "          'p2p_dem_househ_kids','p2p_dem_activity','p2p_dem_activity_1_TEXT','p2p_dem_activity_3_TEXT',\n",
    "          'p2p_dem_activity_4_TEXT','p2p_dem_educ','p2p_dem_politics','P2P_Values_Env_1','P2P_Values_Env_2',\n",
    "          'P2P_Values_Env_3','P2P_Values_Env_4','P2P_Values_Env_5','p2p_dem2_energy','p2p_dem2_roof',\n",
    "          'p2p_dem2_roof_3_TEXT','p2p_dem2_space_1','p2p_dem2_levels','p2p_dem3_PV','p2p_dem3_PV_power_1',\n",
    "          'p2p_dem3_ESS','p2p_dem3_stroage_cap_1','p2p_dem3_technology_1','p2p_dem3_technology_2',\n",
    "          'p2p_dem3_technology_3','p2p_dem3_technology_4','p2p_check_forecast','p2p_check_forecast2',\n",
    "          'p2p_willingness','p2p_dec_4c30S_12h','p2p_dec_4c60S_12h','p2p_dec_4c90S_12h','p2p_dec_12c30S_12h',\n",
    "          'p2p_dec_12c60S_12h','p2p_dec_12c90S_12h','p2p_dec_20c30S_12h','p2p_dec_20c60S_12h','p2p_dec_20c90S_12h',\n",
    "          'p2p_dec_28c30S_12h','p2p_dec_28c60S_12h','p2p_dec_28c90S_12h','p2p_dec_check1','p2p_dec_4c30s_12h+',\n",
    "          'p2p_dec_4c60s_12h+','p2p_dec_4c90s_12h+','p2p_dec_12c30s_12h+','p2p_dec_12c60s_12h+','p2p_dec_12c90s_12h+',\n",
    "          'p2p_dec_20c30s_12h+','p2p_dec_20c60s_12h+','p2p_dec_20c90s_12h+','p2p_dec_28c30s_12h+','p2p_dec_28c60s_12h+',\n",
    "          'p2p_dec_28c90s_12h+','p2p_dec_check2','p2p_DecMod_1','p2p_DecMod_2','p2p_DecMod_3','p2p_DecMod_4',\n",
    "          'p2p_Degree_Autonomy','p2p_Willing_particip_2','p2p_Eval_1','p2p_willingn_reasons_1','p2p_willingn_reasons_2',\n",
    "          'p2p_willingn_reasons_3','p2p_willingn_reasons_4','p2p_willingn_reasons_5','p2p_willingn_reasons_6',\n",
    "          'p2p_willingn_reasons_7','p2p_willingn_reasons_8','p2p_willingn_reasons_9','p2p_willingn_reasons_10',\n",
    "          'p2p_willingn_reasons_11','p2p_willingn_reasons_12','p2p_willingn_reasons_13','p2p_willingn_reasons_14',\n",
    "          'p2p_willingn_reasons_15','p2p_willingn_reasons_15_TEXT','p2p_Willingn_comment','p2p_Nei_Pol',\n",
    "          'p2p_Nei_attach_1','p2p_Nei_attach_2','p2p_Nei_attach_3','p2p_Nei_attach_6','p2p_Emo_Nei_1','p2p_Emo_Nei_2',\n",
    "          'p2p_dem4_risk','p2p_Nei_attach_1.0','p2p_Nei_attach_2.0','P2P_CC_Emo_1','P2P_CC_Emo_2','P2P_CC_Emo_3',\n",
    "          'P2P_CC_Emo_4','P2P_CC_Emo_5','P2P_CC_Emo_6','P2P_CC_Emo_7','P2P_CC_Emo_8','P2P_CC_Emo_9','P2P_CC_Emo_10']"
   ]
  },
  {
   "cell_type": "code",
   "execution_count": 11,
   "metadata": {},
   "outputs": [],
   "source": [
    "df=pd.read_csv('P2P_Data_Germany_March2020_completes_200314_final.csv',usecols=colnames)"
   ]
  },
  {
   "cell_type": "code",
   "execution_count": 12,
   "metadata": {},
   "outputs": [
    {
     "data": {
      "text/plain": [
       "Index(['Finished', 'p2p_Filter1', 'p2p_dem_Gender', 'p2p_dem__birth',\n",
       "       'p2p_dem_househ_sit', 'p2p_dem_househ_size', 'p2p_dem_househ_kids',\n",
       "       'p2p_dem_activity', 'p2p_dem_activity_1_TEXT',\n",
       "       'p2p_dem_activity_3_TEXT',\n",
       "       ...\n",
       "       'P2P_CC_Emo_2', 'P2P_CC_Emo_3', 'P2P_CC_Emo_4', 'P2P_CC_Emo_5',\n",
       "       'P2P_CC_Emo_6', 'P2P_CC_Emo_7', 'P2P_CC_Emo_8', 'P2P_CC_Emo_9',\n",
       "       'P2P_CC_Emo_10', 'p2p_dem__age'],\n",
       "      dtype='object', length=105)"
      ]
     },
     "execution_count": 12,
     "metadata": {},
     "output_type": "execute_result"
    }
   ],
   "source": [
    "df.columns"
   ]
  },
  {
   "cell_type": "code",
   "execution_count": 13,
   "metadata": {},
   "outputs": [],
   "source": [
    "df=df.reset_index(drop=True)"
   ]
  },
  {
   "cell_type": "code",
   "execution_count": 14,
   "metadata": {},
   "outputs": [
    {
     "data": {
      "text/plain": [
       "Index(['Finished', 'p2p_Filter1', 'p2p_dem_Gender', 'p2p_dem__birth',\n",
       "       'p2p_dem_househ_sit', 'p2p_dem_househ_size', 'p2p_dem_househ_kids',\n",
       "       'p2p_dem_activity', 'p2p_dem_activity_1_TEXT',\n",
       "       'p2p_dem_activity_3_TEXT',\n",
       "       ...\n",
       "       'P2P_CC_Emo_2', 'P2P_CC_Emo_3', 'P2P_CC_Emo_4', 'P2P_CC_Emo_5',\n",
       "       'P2P_CC_Emo_6', 'P2P_CC_Emo_7', 'P2P_CC_Emo_8', 'P2P_CC_Emo_9',\n",
       "       'P2P_CC_Emo_10', 'p2p_dem__age'],\n",
       "      dtype='object', length=105)"
      ]
     },
     "execution_count": 14,
     "metadata": {},
     "output_type": "execute_result"
    }
   ],
   "source": [
    "df.keys()"
   ]
  },
  {
   "cell_type": "code",
   "execution_count": 15,
   "metadata": {},
   "outputs": [
    {
     "data": {
      "text/html": [
       "<div>\n",
       "<style scoped>\n",
       "    .dataframe tbody tr th:only-of-type {\n",
       "        vertical-align: middle;\n",
       "    }\n",
       "\n",
       "    .dataframe tbody tr th {\n",
       "        vertical-align: top;\n",
       "    }\n",
       "\n",
       "    .dataframe thead th {\n",
       "        text-align: right;\n",
       "    }\n",
       "</style>\n",
       "<table border=\"1\" class=\"dataframe\">\n",
       "  <thead>\n",
       "    <tr style=\"text-align: right;\">\n",
       "      <th></th>\n",
       "      <th>p2p_dem3_technology_2</th>\n",
       "      <th>p2p_dem3_technology_3</th>\n",
       "      <th>p2p_dem3_technology_4</th>\n",
       "      <th>p2p_check_forecast</th>\n",
       "      <th>p2p_check_forecast2</th>\n",
       "      <th>p2p_willingness</th>\n",
       "      <th>p2p_dec_4c30S_12h</th>\n",
       "      <th>p2p_dec_4c60S_12h</th>\n",
       "      <th>p2p_dec_4c90S_12h</th>\n",
       "      <th>p2p_dec_12c30S_12h</th>\n",
       "      <th>...</th>\n",
       "      <th>P2P_CC_Emo_2</th>\n",
       "      <th>P2P_CC_Emo_3</th>\n",
       "      <th>P2P_CC_Emo_4</th>\n",
       "      <th>P2P_CC_Emo_5</th>\n",
       "      <th>P2P_CC_Emo_6</th>\n",
       "      <th>P2P_CC_Emo_7</th>\n",
       "      <th>P2P_CC_Emo_8</th>\n",
       "      <th>P2P_CC_Emo_9</th>\n",
       "      <th>P2P_CC_Emo_10</th>\n",
       "      <th>p2p_dem__age</th>\n",
       "    </tr>\n",
       "  </thead>\n",
       "  <tbody>\n",
       "    <tr>\n",
       "      <th>0</th>\n",
       "      <td>1</td>\n",
       "      <td>1</td>\n",
       "      <td>1</td>\n",
       "      <td>5</td>\n",
       "      <td>5</td>\n",
       "      <td>2</td>\n",
       "      <td></td>\n",
       "      <td></td>\n",
       "      <td></td>\n",
       "      <td></td>\n",
       "      <td>...</td>\n",
       "      <td>1</td>\n",
       "      <td>6</td>\n",
       "      <td>1</td>\n",
       "      <td>6</td>\n",
       "      <td>2</td>\n",
       "      <td>5</td>\n",
       "      <td>2</td>\n",
       "      <td>4</td>\n",
       "      <td>6</td>\n",
       "      <td>33</td>\n",
       "    </tr>\n",
       "    <tr>\n",
       "      <th>1</th>\n",
       "      <td>5</td>\n",
       "      <td>5</td>\n",
       "      <td>3</td>\n",
       "      <td>5</td>\n",
       "      <td>5</td>\n",
       "      <td>1</td>\n",
       "      <td>2</td>\n",
       "      <td>1</td>\n",
       "      <td>1</td>\n",
       "      <td>2</td>\n",
       "      <td>...</td>\n",
       "      <td>1</td>\n",
       "      <td>2</td>\n",
       "      <td>1</td>\n",
       "      <td>4</td>\n",
       "      <td>3</td>\n",
       "      <td>1</td>\n",
       "      <td>2</td>\n",
       "      <td>2</td>\n",
       "      <td>1</td>\n",
       "      <td>53</td>\n",
       "    </tr>\n",
       "  </tbody>\n",
       "</table>\n",
       "<p>2 rows × 77 columns</p>\n",
       "</div>"
      ],
      "text/plain": [
       "   p2p_dem3_technology_2  p2p_dem3_technology_3  p2p_dem3_technology_4  \\\n",
       "0                      1                      1                      1   \n",
       "1                      5                      5                      3   \n",
       "\n",
       "   p2p_check_forecast  p2p_check_forecast2  p2p_willingness p2p_dec_4c30S_12h  \\\n",
       "0                   5                    5                2                     \n",
       "1                   5                    5                1                 2   \n",
       "\n",
       "  p2p_dec_4c60S_12h p2p_dec_4c90S_12h p2p_dec_12c30S_12h  ... P2P_CC_Emo_2  \\\n",
       "0                                                         ...            1   \n",
       "1                 1                 1                  2  ...            1   \n",
       "\n",
       "  P2P_CC_Emo_3 P2P_CC_Emo_4 P2P_CC_Emo_5 P2P_CC_Emo_6 P2P_CC_Emo_7  \\\n",
       "0            6            1            6            2            5   \n",
       "1            2            1            4            3            1   \n",
       "\n",
       "  P2P_CC_Emo_8 P2P_CC_Emo_9 P2P_CC_Emo_10 p2p_dem__age  \n",
       "0            2            4             6           33  \n",
       "1            2            2             1           53  \n",
       "\n",
       "[2 rows x 77 columns]"
      ]
     },
     "execution_count": 15,
     "metadata": {},
     "output_type": "execute_result"
    }
   ],
   "source": [
    "df.head(2).iloc[:,28:]"
   ]
  },
  {
   "cell_type": "code",
   "execution_count": 16,
   "metadata": {},
   "outputs": [
    {
     "data": {
      "text/html": [
       "<div>\n",
       "<style scoped>\n",
       "    .dataframe tbody tr th:only-of-type {\n",
       "        vertical-align: middle;\n",
       "    }\n",
       "\n",
       "    .dataframe tbody tr th {\n",
       "        vertical-align: top;\n",
       "    }\n",
       "\n",
       "    .dataframe thead th {\n",
       "        text-align: right;\n",
       "    }\n",
       "</style>\n",
       "<table border=\"1\" class=\"dataframe\">\n",
       "  <thead>\n",
       "    <tr style=\"text-align: right;\">\n",
       "      <th></th>\n",
       "      <th>Finished</th>\n",
       "      <th>p2p_Filter1</th>\n",
       "      <th>p2p_dem_Gender</th>\n",
       "      <th>p2p_dem__birth</th>\n",
       "      <th>p2p_dem_househ_sit</th>\n",
       "      <th>p2p_dem_househ_size</th>\n",
       "      <th>p2p_dem_househ_kids</th>\n",
       "      <th>p2p_dem_activity</th>\n",
       "      <th>p2p_dem_activity_1_TEXT</th>\n",
       "      <th>p2p_dem_activity_3_TEXT</th>\n",
       "      <th>...</th>\n",
       "      <th>P2P_CC_Emo_2</th>\n",
       "      <th>P2P_CC_Emo_3</th>\n",
       "      <th>P2P_CC_Emo_4</th>\n",
       "      <th>P2P_CC_Emo_5</th>\n",
       "      <th>P2P_CC_Emo_6</th>\n",
       "      <th>P2P_CC_Emo_7</th>\n",
       "      <th>P2P_CC_Emo_8</th>\n",
       "      <th>P2P_CC_Emo_9</th>\n",
       "      <th>P2P_CC_Emo_10</th>\n",
       "      <th>p2p_dem__age</th>\n",
       "    </tr>\n",
       "  </thead>\n",
       "  <tbody>\n",
       "    <tr>\n",
       "      <th>0</th>\n",
       "      <td>1</td>\n",
       "      <td>1</td>\n",
       "      <td>1</td>\n",
       "      <td>68</td>\n",
       "      <td>3</td>\n",
       "      <td>2</td>\n",
       "      <td>1</td>\n",
       "      <td>4</td>\n",
       "      <td></td>\n",
       "      <td></td>\n",
       "      <td>...</td>\n",
       "      <td>1</td>\n",
       "      <td>6</td>\n",
       "      <td>1</td>\n",
       "      <td>6</td>\n",
       "      <td>2</td>\n",
       "      <td>5</td>\n",
       "      <td>2</td>\n",
       "      <td>4</td>\n",
       "      <td>6</td>\n",
       "      <td>33</td>\n",
       "    </tr>\n",
       "    <tr>\n",
       "      <th>1</th>\n",
       "      <td>1</td>\n",
       "      <td>1</td>\n",
       "      <td>1</td>\n",
       "      <td>48</td>\n",
       "      <td>2</td>\n",
       "      <td>2</td>\n",
       "      <td>1</td>\n",
       "      <td>4</td>\n",
       "      <td></td>\n",
       "      <td></td>\n",
       "      <td>...</td>\n",
       "      <td>1</td>\n",
       "      <td>2</td>\n",
       "      <td>1</td>\n",
       "      <td>4</td>\n",
       "      <td>3</td>\n",
       "      <td>1</td>\n",
       "      <td>2</td>\n",
       "      <td>2</td>\n",
       "      <td>1</td>\n",
       "      <td>53</td>\n",
       "    </tr>\n",
       "    <tr>\n",
       "      <th>2</th>\n",
       "      <td>1</td>\n",
       "      <td>1</td>\n",
       "      <td>2</td>\n",
       "      <td>58</td>\n",
       "      <td>1</td>\n",
       "      <td>4</td>\n",
       "      <td>1</td>\n",
       "      <td>3</td>\n",
       "      <td></td>\n",
       "      <td></td>\n",
       "      <td>...</td>\n",
       "      <td>1</td>\n",
       "      <td>2</td>\n",
       "      <td>2</td>\n",
       "      <td>2</td>\n",
       "      <td>2</td>\n",
       "      <td>2</td>\n",
       "      <td>4</td>\n",
       "      <td>4</td>\n",
       "      <td>2</td>\n",
       "      <td>43</td>\n",
       "    </tr>\n",
       "    <tr>\n",
       "      <th>3</th>\n",
       "      <td>1</td>\n",
       "      <td>1</td>\n",
       "      <td>2</td>\n",
       "      <td>42</td>\n",
       "      <td>3</td>\n",
       "      <td>2</td>\n",
       "      <td>1</td>\n",
       "      <td>3</td>\n",
       "      <td></td>\n",
       "      <td>gf</td>\n",
       "      <td>...</td>\n",
       "      <td>6</td>\n",
       "      <td>4</td>\n",
       "      <td>3</td>\n",
       "      <td>5</td>\n",
       "      <td>5</td>\n",
       "      <td>3</td>\n",
       "      <td>4</td>\n",
       "      <td>4</td>\n",
       "      <td>4</td>\n",
       "      <td>59</td>\n",
       "    </tr>\n",
       "    <tr>\n",
       "      <th>4</th>\n",
       "      <td>1</td>\n",
       "      <td>1</td>\n",
       "      <td>1</td>\n",
       "      <td>72</td>\n",
       "      <td>2</td>\n",
       "      <td>2</td>\n",
       "      <td>1</td>\n",
       "      <td>3</td>\n",
       "      <td></td>\n",
       "      <td>Immobilienkauffrau</td>\n",
       "      <td>...</td>\n",
       "      <td>2</td>\n",
       "      <td>5</td>\n",
       "      <td>3</td>\n",
       "      <td>5</td>\n",
       "      <td>3</td>\n",
       "      <td>5</td>\n",
       "      <td>4</td>\n",
       "      <td>5</td>\n",
       "      <td>3</td>\n",
       "      <td>29</td>\n",
       "    </tr>\n",
       "  </tbody>\n",
       "</table>\n",
       "<p>5 rows × 105 columns</p>\n",
       "</div>"
      ],
      "text/plain": [
       "   Finished p2p_Filter1  p2p_dem_Gender  p2p_dem__birth  p2p_dem_househ_sit  \\\n",
       "0         1           1               1              68                   3   \n",
       "1         1           1               1              48                   2   \n",
       "2         1           1               2              58                   1   \n",
       "3         1           1               2              42                   3   \n",
       "4         1           1               1              72                   2   \n",
       "\n",
       "   p2p_dem_househ_size  p2p_dem_househ_kids  p2p_dem_activity  \\\n",
       "0                    2                    1                 4   \n",
       "1                    2                    1                 4   \n",
       "2                    4                    1                 3   \n",
       "3                    2                    1                 3   \n",
       "4                    2                    1                 3   \n",
       "\n",
       "  p2p_dem_activity_1_TEXT p2p_dem_activity_3_TEXT  ... P2P_CC_Emo_2  \\\n",
       "0                                                  ...            1   \n",
       "1                                                  ...            1   \n",
       "2                                                  ...            1   \n",
       "3                                              gf  ...            6   \n",
       "4                              Immobilienkauffrau  ...            2   \n",
       "\n",
       "   P2P_CC_Emo_3  P2P_CC_Emo_4  P2P_CC_Emo_5  P2P_CC_Emo_6  P2P_CC_Emo_7  \\\n",
       "0             6             1             6             2             5   \n",
       "1             2             1             4             3             1   \n",
       "2             2             2             2             2             2   \n",
       "3             4             3             5             5             3   \n",
       "4             5             3             5             3             5   \n",
       "\n",
       "   P2P_CC_Emo_8  P2P_CC_Emo_9  P2P_CC_Emo_10  p2p_dem__age  \n",
       "0             2             4              6            33  \n",
       "1             2             2              1            53  \n",
       "2             4             4              2            43  \n",
       "3             4             4              4            59  \n",
       "4             4             5              3            29  \n",
       "\n",
       "[5 rows x 105 columns]"
      ]
     },
     "execution_count": 16,
     "metadata": {},
     "output_type": "execute_result"
    }
   ],
   "source": [
    "df.head()"
   ]
  },
  {
   "cell_type": "markdown",
   "metadata": {},
   "source": [
    "# To normalize or not to normalize?"
   ]
  },
  {
   "cell_type": "code",
   "execution_count": 17,
   "metadata": {},
   "outputs": [],
   "source": [
    "norm=True"
   ]
  },
  {
   "cell_type": "code",
   "execution_count": 18,
   "metadata": {},
   "outputs": [],
   "source": [
    "def serie_map(serie,to_map):\n",
    "    serie.index=serie.index.map(to_map)\n",
    "    return serie"
   ]
  },
  {
   "cell_type": "code",
   "execution_count": 19,
   "metadata": {},
   "outputs": [],
   "source": [
    "dict_pol=dict(zip(np.arange(1,11), ['Extreme left','2','3','4','Center','6','7','8','9','Extreme right']))\n",
    "dict_rel=dict(zip(np.arange(1,6), ['Single','Relationship','Married','Divorced','Widow']))\n",
    "dict_sit=dict(zip(np.arange(1,6),['Student','Unemployed ','Full-time work','Part-time','Pensioner']))\n",
    "dict_edu=dict(zip(np.arange(1,7),['Secondary','Realschule','Abitur','Bachelor','Master','PhD']))\n",
    "dict_gend=dict(zip(np.arange(1,3),['Female','Male']))\n",
    "\n",
    "dict_likert_imp=dict(zip(np.arange(0,9),['Contrary to my\\nguiding principles','Not at all important','Low importance',\n",
    "                                         'Slightly important','Neutral','Moderately important','Very important',\n",
    "                                         'Extremely important','Paramount']))\n",
    "dict_ener=dict(zip(np.arange(1,5),['Fossil','Renewable','both','NA']))\n",
    "dict_roof=dict(zip(np.arange(1,4),['Slope','Flat','Other']))\n",
    "dict_tf=dict(zip(np.arange(1,3),['Yes','No']))\n",
    "dict_likert_int=dict(zip(np.arange(1,6),['Extremely unlikely','Unlikely','Neutral','Likely','Extremely likely']))\n",
    "dict_likert_agr=dict(zip(np.arange(1,8),['Strongly disagree','Disagree','Somewhat disagree','Neither agree or disagree',\n",
    "                                         'Somewhat agree','Agree','Strongly agree ']))\n",
    "dict_sell=dict(zip(np.arange(1,3),['Sell','Store']))\n",
    "dict_risk=dict(zip(np.arange(1,11), ['Totally averse','2','3','4','5','6','7','8','9','Risk taker']))"
   ]
  },
  {
   "cell_type": "markdown",
   "metadata": {},
   "source": [
    "# Socio-demographics "
   ]
  },
  {
   "cell_type": "code",
   "execution_count": 20,
   "metadata": {},
   "outputs": [
    {
     "data": {
      "image/png": "[encoded data removed]",
      "text/plain": [
       "<Figure size 720x720 with 4 Axes>"
      ]
     },
     "metadata": {
      "needs_background": "light"
     },
     "output_type": "display_data"
    }
   ],
   "source": [
    "fig,ax=plt.subplots(ncols=2,nrows=2,figsize=(10,10))\n",
    "if norm:\n",
    "    df.p2p_dem__birth.plot(kind='hist',ax=ax[0][0],density=1)\n",
    "    ax[0][0].text(x=50,y=0.03,s=round(df.p2p_dem__birth.mean(),1),color='r')\n",
    "    ax[0][0].text(x=40,y=0.03,s=round(df.p2p_dem__birth.median(),1),color='k')\n",
    "    ax[0][0].text(x=30,y=0.03,s=round(df.p2p_dem__birth.quantile(0.25),1),color='k')\n",
    "    ax[0][0].text(x=60,y=0.03,s=round(df.p2p_dem__birth.quantile(0.75),1),color='k')\n",
    "else:\n",
    "    df.p2p_dem__birth.plot(kind='hist',ax=ax[0][0])\n",
    "    ax[0][0].text(x=50,y=60,s=round(df.p2p_dem__birth.mean(),1),color='r')\n",
    "    ax[0][0].text(x=40,y=60,s=round(df.p2p_dem__birth.median(),1),color='k')\n",
    "    ax[0][0].text(x=30,y=60,s=round(df.p2p_dem__birth.quantile(0.25),1),color='k')\n",
    "    ax[0][0].text(x=60,y=60,s=round(df.p2p_dem__birth.quantile(0.75),1),color='k')\n",
    "ax[0][0].set_title('Age histogram')\n",
    "ax[0][0].axvline(x=df.p2p_dem__birth.mean(),color='r',linestyle='--')\n",
    "ax[0][0].axvline(x=df.p2p_dem__birth.median(),color='g',linestyle='--')\n",
    "ax[0][0].axvline(x=df.p2p_dem__birth.quantile(0.25),color='g',linestyle='--')\n",
    "ax[0][0].axvline(x=df.p2p_dem__birth.quantile(0.75),color='g',linestyle='--')\n",
    "\n",
    "serie_map(df.p2p_dem_househ_sit.sort_index().value_counts(normalize=norm,sort=False),dict_rel).plot(kind='bar',ax=ax[0][1])\n",
    "ax[0][1].set_title('Marital status')\n",
    "\n",
    "df.p2p_dem_househ_size.sort_index().value_counts(normalize=norm,sort=False).plot(kind='bar',ax=ax[1][0])\n",
    "ax[1][0].set_title('Number of people in the house')\n",
    "\n",
    "\n",
    "df.p2p_dem_househ_kids.sort_index().value_counts(normalize=norm,sort=False).plot(kind='bar',ax=ax[1][1])\n",
    "ax[1][1].set_title('Number of kids in the house')\n",
    "plt.tight_layout()"
   ]
  },
  {
   "cell_type": "code",
   "execution_count": 21,
   "metadata": {},
   "outputs": [
    {
     "data": {
      "image/png": "[encoded data removed]",
      "text/plain": [
       "<Figure size 720x720 with 4 Axes>"
      ]
     },
     "metadata": {
      "needs_background": "light"
     },
     "output_type": "display_data"
    }
   ],
   "source": [
    "fig,ax=plt.subplots(ncols=2,nrows=2,figsize=(10,10))\n",
    "\n",
    "serie_map(df.p2p_dem_activity.sort_index().value_counts(normalize=norm,sort=False),dict_sit).plot(kind='bar',ax=ax[0][0])\n",
    "ax[0][0].set_title('Type of job')\n",
    "\n",
    "serie_map(df.p2p_dem_activity.sort_index().value_counts(normalize=norm,sort=False),dict_edu).plot(kind='bar',ax=ax[0][1])\n",
    "ax[0][1].set_title('Education')\n",
    "#ax[0][1].text(x=4,y=70,s='A lot of highly \\neducated people???',color='r',rotation=90)\n",
    "\n",
    "serie_map(df.p2p_dem_politics.sort_index().value_counts(sort=False,normalize=norm),dict_pol).plot(kind='bar',ax=ax[1][0])\n",
    "ax[1][0].set_title('Politics [1,10]')\n",
    "ax[1][0].set_xlim([-1,8])\n",
    "#ax[1][0].set_xticks(df.p2p_dem_politics.value_counts().sort_index().index)\n",
    "\n",
    "#ax[1][0].text(x=0,y=10,s='More left',color='r',rotation=90)\n",
    "#ax[1][0].text(x=7,y=10,s='More right',color='r',rotation=90)\n",
    "\n",
    "serie_map(df.p2p_dem_Gender.sort_index().value_counts(sort=False,normalize=norm),dict_gend).plot(kind='bar',ax=ax[1][1])\n",
    "ax[1][1].set_title('Gender')\n",
    "\n",
    "\n",
    "plt.tight_layout()"
   ]
  },
  {
   "cell_type": "code",
   "execution_count": 23,
   "metadata": {},
   "outputs": [
    {
     "data": {
      "image/png": "[encoded data removed]",
      "text/plain": [
       "<Figure size 720x720 with 4 Axes>"
      ]
     },
     "metadata": {
      "needs_background": "light"
     },
     "output_type": "display_data"
    }
   ],
   "source": [
    "fig,ax=plt.subplots(ncols=2,nrows=2,figsize=(10,10))\n",
    "serie_map(df.p2p_dem2_energy.sort_index().value_counts(sort=False,normalize=norm),\n",
    "          dict_ener).plot(kind='bar',ax=ax[0][0])\n",
    "ax[0][0].set_title('Electricity type')\n",
    "\n",
    "serie_map(df.p2p_dem2_roof.sort_index().value_counts(sort=False,normalize=norm),\n",
    "          dict_roof).plot(kind='bar',ax=ax[0][1])\n",
    "\n",
    "ax[0][1].set_title('Roof')\n",
    "\n",
    "df.p2p_dem2_space_1.replace(r'^\\s*$', np.nan, regex=True).astype(float).plot(kind='hist',bins=20,ax=ax[1][0])\n",
    "ax[1][0].set_title('Surface')\n",
    "\n",
    "df.p2p_dem2_levels.replace(r'^\\s*$', np.nan, regex=True).replace('2+KG', 2.5, \n",
    "    regex=False).astype(float).value_counts(sort=False,normalize=norm).sort_index().plot(kind='bar',ax=ax[1][1])\n",
    "ax[1][1].set_title('Number of levels')\n",
    "\n",
    "plt.tight_layout()\n"
   ]
  },
  {
   "cell_type": "markdown",
   "metadata": {},
   "source": [
    "# Environmental awareness"
   ]
  },
  {
   "cell_type": "code",
   "execution_count": 24,
   "metadata": {},
   "outputs": [
    {
     "data": {
      "text/plain": [
       "0     1\n",
       "1     2\n",
       "2     3\n",
       "3     5\n",
       "4    34\n",
       "5    21\n",
       "6    58\n",
       "7    75\n",
       "8    52\n",
       "Name: P2P_Values_Env_1, dtype: int64"
      ]
     },
     "execution_count": 24,
     "metadata": {},
     "output_type": "execute_result"
    }
   ],
   "source": [
    "df.P2P_Values_Env_1.sort_index().value_counts(sort=False,normalize=False)"
   ]
  },
  {
   "cell_type": "markdown",
   "metadata": {},
   "source": [
    "1. distribution mean and sd x1 or x 2\n",
    "random regression\n"
   ]
  },
  {
   "cell_type": "code",
   "execution_count": 25,
   "metadata": {},
   "outputs": [
    {
     "data": {
      "image/png": "[encoded data removed]",
      "text/plain": [
       "<Figure size 720x720 with 4 Axes>"
      ]
     },
     "metadata": {
      "needs_background": "light"
     },
     "output_type": "display_data"
    }
   ],
   "source": [
    "fig,ax=plt.subplots(ncols=2,nrows=2,figsize=(10,10))\n",
    "serie_map(df.P2P_Values_Env_1.sort_index().value_counts(sort=False,normalize=norm),\n",
    "          dict_likert_imp).plot(kind='bar',ax=ax[0][0])\n",
    "ax[0][0].set_title('Respect of the earth')\n",
    "\n",
    "serie_map(df.P2P_Values_Env_2.sort_index().value_counts(sort=False,normalize=norm),\n",
    "          dict_likert_imp).plot(kind='bar',ax=ax[0][1])\n",
    "\n",
    "ax[0][1].set_title('Unity with nature')\n",
    "\n",
    "serie_map(df.P2P_Values_Env_3.sort_index().value_counts(sort=False,normalize=norm),\n",
    "          dict_likert_imp).plot(kind='bar',ax=ax[1][0])\n",
    "ax[1][0].set_title('Environmental protection')\n",
    "\n",
    "serie_map(df.P2P_Values_Env_4.sort_index().value_counts(sort=False,normalize=norm),\n",
    "          dict_likert_imp).plot(kind='bar',ax=ax[1][1])\n",
    "ax[1][1].set_title('Pollution prevention')\n",
    "\n",
    "plt.tight_layout()\n",
    "\n",
    "\n",
    "# ax[0][0].axvline(x=df.P2P_Values_Env_1.median(),color='g',linestyle='--')\n",
    "# if norm:\n",
    "    # ax[0][0].text(x=6,y=0.3,s=round(df.P2P_Values_Env_1.median(),1),color='k')\n",
    "# else:\n",
    "    # ax[0][0].text(x=6,y=60,s=round(df.P2P_Values_Env_1.median(),1),color='k')    \n",
    "\n",
    "# ax[0][1].axvline(x=df.P2P_Values_Env_2.median(),color='g',linestyle='--')\n",
    "# if norm:\n",
    "    # ax[0][1].text(x=6,y=0.25,s=round(df.P2P_Values_Env_2.median(),1),color='k')\n",
    "# else:\n",
    "    # ax[0][1].text(x=6,y=60,s=round(df.P2P_Values_Env_2.median(),1),color='k')    \n",
    "\n",
    "# ax[1][0].axvline(x=df.P2P_Values_Env_3.median(),color='g',linestyle='--')\n",
    "# if norm:\n",
    "    # ax[1][0].text(x=6,y=0.3,s=round(df.P2P_Values_Env_3.median(),1),color='k')\n",
    "# else:\n",
    "    # ax[1][0].text(x=6,y=60,s=round(df.P2P_Values_Env_3.median(),1),color='k')    \n",
    "\n",
    "\n",
    "# ax[1][1].axvline(x=round(df.P2P_Values_Env_4.median(),0),color='g',linestyle='--')\n",
    "# if norm:\n",
    "    # ax[1][1].text(x=6,y=0.3,s=round(df.P2P_Values_Env_4.median(),1),color='k')\n",
    "# else:\n",
    "    # ax[1][1].text(x=6,y=60,s=round(df.P2P_Values_Env_4.median(),1),color='k')    \n",
    "\n"
   ]
  },
  {
   "cell_type": "markdown",
   "metadata": {},
   "source": [
    "# Amount of people with PV"
   ]
  },
  {
   "cell_type": "code",
   "execution_count": 26,
   "metadata": {},
   "outputs": [
    {
     "data": {
      "image/png": "[encoded data removed]",
      "text/plain": [
       "<Figure size 720x720 with 4 Axes>"
      ]
     },
     "metadata": {
      "needs_background": "light"
     },
     "output_type": "display_data"
    }
   ],
   "source": [
    "fig,ax=plt.subplots(ncols=2,nrows=2,figsize=(10,10))\n",
    "serie_map(df.p2p_dem3_PV.sort_index().value_counts(sort=False,normalize=norm),\n",
    "          dict_tf).plot(kind='bar',ax=ax[0][0])\n",
    "ax[0][0].set_title('PV system')\n",
    "\n",
    "df.p2p_dem3_PV_power_1.replace(r'^\\s*$', np.nan, regex=True).replace('?', np.nan, \n",
    "    regex=False).astype(float).value_counts(sort=False,normalize=norm).sort_index().plot(kind='bar',ax=ax[0][1])\n",
    "\n",
    "ax[0][1].set_title('PV system size')\n",
    "\n",
    "serie_map(df.p2p_dem3_ESS.sort_index().value_counts(sort=False,normalize=norm),\n",
    "          dict_tf).plot(kind='bar',ax=ax[1][0])\n",
    "ax[1][0].set_title('Battery system')\n",
    "\n",
    "df.p2p_dem3_stroage_cap_1.replace(r'^\\s*$', np.nan, regex=True).astype(float).value_counts(\n",
    "    sort=False,normalize=norm).sort_index().plot(kind='bar',ax=ax[1][1])\n",
    "\n",
    "ax[1][1].set_title('Battery size')\n",
    "\n",
    "\n",
    "plt.tight_layout()\n"
   ]
  },
  {
   "cell_type": "markdown",
   "metadata": {},
   "source": [
    "# --------------------------------------------------------------------"
   ]
  },
  {
   "cell_type": "markdown",
   "metadata": {},
   "source": [
    "# Intention to acquire technology is unlikely"
   ]
  },
  {
   "cell_type": "code",
   "execution_count": 27,
   "metadata": {},
   "outputs": [
    {
     "data": {
      "image/png": "[encoded data removed]",
      "text/plain": [
       "<Figure size 720x720 with 4 Axes>"
      ]
     },
     "metadata": {
      "needs_background": "light"
     },
     "output_type": "display_data"
    }
   ],
   "source": [
    "#Wie groß ist Ihre Absicht in den nächsten 5 Jahren folgende Technologien zu erwerben?\n",
    "#How big is your intention to acquire the following technologies in the next 5 years?\n",
    "fig,ax=plt.subplots(ncols=2,nrows=2,figsize=(10,10))\n",
    "serie_map(df.p2p_dem3_technology_1.sort_index().value_counts(sort=False,normalize=norm),\n",
    "          dict_likert_int).plot(kind='bar',ax=ax[0][0])\n",
    "ax[0][0].set_title('EV')\n",
    "\n",
    "serie_map(df.p2p_dem3_technology_2.sort_index().value_counts(sort=False,normalize=norm),\n",
    "          dict_likert_int).plot(kind='bar',ax=ax[0][1])\n",
    "\n",
    "ax[0][1].set_title('PV')\n",
    "\n",
    "serie_map(df.p2p_dem3_technology_3.sort_index().value_counts(sort=False,normalize=norm),\n",
    "          dict_likert_int).plot(kind='bar',ax=ax[1][0])\n",
    "ax[1][0].set_title('Battery')\n",
    "\n",
    "serie_map(df.p2p_dem3_technology_4.sort_index().value_counts(sort=False,normalize=norm),\n",
    "          dict_likert_int).plot(kind='bar',ax=ax[1][1])\n",
    "ax[1][1].set_title('Heat pump')\n",
    "plt.tight_layout()\n"
   ]
  },
  {
   "cell_type": "code",
   "execution_count": 28,
   "metadata": {},
   "outputs": [
    {
     "data": {
      "text/plain": [
       "1    95\n",
       "2    35\n",
       "3    60\n",
       "4    41\n",
       "5    20\n",
       "Name: p2p_dem3_technology_2, dtype: int64"
      ]
     },
     "execution_count": 28,
     "metadata": {},
     "output_type": "execute_result"
    }
   ],
   "source": [
    "df.p2p_dem3_technology_2.sort_index().value_counts(sort=False,normalize=False)"
   ]
  },
  {
   "cell_type": "code",
   "execution_count": 29,
   "metadata": {},
   "outputs": [
    {
     "data": {
      "text/plain": [
       "1    79\n",
       "2    45\n",
       "3    62\n",
       "4    46\n",
       "5    19\n",
       "Name: p2p_dem3_technology_3, dtype: int64"
      ]
     },
     "execution_count": 29,
     "metadata": {},
     "output_type": "execute_result"
    }
   ],
   "source": [
    "df.p2p_dem3_technology_3.sort_index().value_counts(sort=False,normalize=False)"
   ]
  },
  {
   "cell_type": "markdown",
   "metadata": {},
   "source": [
    "# --------------------------------------------------------------------"
   ]
  },
  {
   "cell_type": "markdown",
   "metadata": {},
   "source": [
    "# Willingness to participate is high (176 vs 75, i.e., 70%)"
   ]
  },
  {
   "cell_type": "code",
   "execution_count": 34,
   "metadata": {},
   "outputs": [
    {
     "data": {
      "text/plain": [
       "<matplotlib.axes._subplots.AxesSubplot at 0x7f674bfff9e8>"
      ]
     },
     "execution_count": 34,
     "metadata": {},
     "output_type": "execute_result"
    }
   ],
   "source": [
    "df.p2p_check_forecast2.sort_index().value_counts(sort=False,normalize=norm).plot(kind='bar',ax=ax[1])\n"
   ]
  },
  {
   "cell_type": "code",
   "execution_count": 37,
   "metadata": {},
   "outputs": [
    {
     "data": {
      "image/png": "[encoded data removed]",
      "text/plain": [
       "<Figure size 720x360 with 1 Axes>"
      ]
     },
     "metadata": {
      "needs_background": "light"
     },
     "output_type": "display_data"
    }
   ],
   "source": [
    "\n",
    "fig,ax=plt.subplots(ncols=1,nrows=1,figsize=(10,5))\n",
    "\n",
    "serie_map(df.p2p_willingness.sort_index().value_counts(sort=False,normalize=norm),\n",
    "          dict_tf).plot(kind='bar',ax=ax)\n",
    "ax.set_title('Willingness to participate')\n",
    "\n",
    "plt.tight_layout()"
   ]
  },
  {
   "cell_type": "code",
   "execution_count": 38,
   "metadata": {},
   "outputs": [
    {
     "data": {
      "text/plain": [
       "1    176\n",
       "2     75\n",
       "Name: p2p_willingness, dtype: int64"
      ]
     },
     "execution_count": 38,
     "metadata": {},
     "output_type": "execute_result"
    }
   ],
   "source": [
    "df.p2p_willingness.sort_index().value_counts()"
   ]
  },
  {
   "cell_type": "code",
   "execution_count": 39,
   "metadata": {},
   "outputs": [],
   "source": [
    "from scipy.stats import ttest_rel,ttest_ind\n"
   ]
  },
  {
   "cell_type": "code",
   "execution_count": 40,
   "metadata": {},
   "outputs": [
    {
     "data": {
      "text/plain": [
       "Index(['Finished', 'p2p_Filter1', 'p2p_dem_Gender', 'p2p_dem__birth',\n",
       "       'p2p_dem_househ_sit', 'p2p_dem_househ_size', 'p2p_dem_househ_kids',\n",
       "       'p2p_dem_activity', 'p2p_dem_activity_1_TEXT',\n",
       "       'p2p_dem_activity_3_TEXT',\n",
       "       ...\n",
       "       'P2P_CC_Emo_2', 'P2P_CC_Emo_3', 'P2P_CC_Emo_4', 'P2P_CC_Emo_5',\n",
       "       'P2P_CC_Emo_6', 'P2P_CC_Emo_7', 'P2P_CC_Emo_8', 'P2P_CC_Emo_9',\n",
       "       'P2P_CC_Emo_10', 'p2p_dem__age'],\n",
       "      dtype='object', length=105)"
      ]
     },
     "execution_count": 40,
     "metadata": {},
     "output_type": "execute_result"
    }
   ],
   "source": [
    "df.keys()"
   ]
  },
  {
   "cell_type": "markdown",
   "metadata": {},
   "source": [
    "# Neither Gender, household size, marital status or political are significants for the difference between consumers and prosumers "
   ]
  },
  {
   "cell_type": "code",
   "execution_count": 41,
   "metadata": {},
   "outputs": [
    {
     "name": "stdout",
     "output_type": "stream",
     "text": [
      "Ttest_indResult(statistic=1.1752351013264466, pvalue=0.24102322999933026)\n",
      "Ttest_indResult(statistic=-0.8270646936446917, pvalue=0.40899227075761124)\n",
      "Ttest_indResult(statistic=1.1972977047664741, pvalue=0.2323291174829949)\n",
      "Ttest_indResult(statistic=-1.4558204552521559, pvalue=0.14670191473810928)\n"
     ]
    }
   ],
   "source": [
    "print(ttest_ind(*df.groupby('p2p_willingness')['p2p_dem_Gender'].apply(lambda x:list(x))))\n",
    "\n",
    "print(ttest_ind(*df.groupby('p2p_willingness')['p2p_dem_househ_sit'].apply(lambda x:list(x))))\n",
    "\n",
    "print(ttest_ind(*df.groupby('p2p_willingness')['p2p_dem_househ_size'].apply(lambda x:list(x))))\n",
    "\n",
    "print(ttest_ind(*df.groupby('p2p_willingness')['p2p_dem_politics'].apply(lambda x:list(x))))\n"
   ]
  },
  {
   "cell_type": "code",
   "execution_count": 42,
   "metadata": {},
   "outputs": [
    {
     "data": {
      "text/plain": [
       "Ttest_indResult(statistic=-2.716071845263318, pvalue=0.007069083637690224)"
      ]
     },
     "execution_count": 42,
     "metadata": {},
     "output_type": "execute_result"
    }
   ],
   "source": [
    "ttest_ind(*df.groupby('p2p_willingness')['p2p_dem_activity'].apply(lambda x:list(x))) #Education\n"
   ]
  },
  {
   "cell_type": "code",
   "execution_count": 43,
   "metadata": {},
   "outputs": [
    {
     "data": {
      "text/plain": [
       "Ttest_indResult(statistic=1.7002206023885764, pvalue=0.09033806381296211)"
      ]
     },
     "execution_count": 43,
     "metadata": {},
     "output_type": "execute_result"
    }
   ],
   "source": [
    "ttest_ind(*df.groupby('p2p_willingness')['p2p_dem_househ_kids'].apply(lambda x:list(x)))\n"
   ]
  },
  {
   "cell_type": "code",
   "execution_count": 44,
   "metadata": {},
   "outputs": [
    {
     "data": {
      "text/plain": [
       "{1: 'Yes', 2: 'No'}"
      ]
     },
     "execution_count": 44,
     "metadata": {},
     "output_type": "execute_result"
    }
   ],
   "source": [
    "dict_tf"
   ]
  },
  {
   "cell_type": "code",
   "execution_count": 45,
   "metadata": {},
   "outputs": [
    {
     "data": {
      "text/plain": [
       "p2p_willingness\n",
       "1    [48, 58, 42, 72, 47, 58, 56, 56, 54, 49, 27, 6...\n",
       "2    [68, 41, 53, 70, 45, 50, 46, 38, 63, 58, 44, 6...\n",
       "Name: p2p_dem__birth, dtype: object"
      ]
     },
     "execution_count": 45,
     "metadata": {},
     "output_type": "execute_result"
    }
   ],
   "source": [
    "df.groupby('p2p_willingness')['p2p_dem__birth'].apply(lambda x:list(x))"
   ]
  },
  {
   "cell_type": "code",
   "execution_count": 46,
   "metadata": {},
   "outputs": [
    {
     "data": {
      "text/plain": [
       "p2p_willingness\n",
       "1    49.420455\n",
       "2    45.960000\n",
       "Name: p2p_dem__birth, dtype: float64"
      ]
     },
     "execution_count": 46,
     "metadata": {},
     "output_type": "execute_result"
    }
   ],
   "source": [
    "df.groupby('p2p_willingness')['p2p_dem__birth'].mean()"
   ]
  },
  {
   "cell_type": "code",
   "execution_count": 47,
   "metadata": {},
   "outputs": [
    {
     "data": {
      "text/plain": [
       "Ttest_indResult(statistic=1.759554725698209, pvalue=0.07971136167069845)"
      ]
     },
     "execution_count": 47,
     "metadata": {},
     "output_type": "execute_result"
    }
   ],
   "source": [
    "ttest_ind(*df.groupby('p2p_willingness')['p2p_dem__birth'].apply(lambda x:list(x)))\n"
   ]
  },
  {
   "cell_type": "code",
   "execution_count": 48,
   "metadata": {},
   "outputs": [
    {
     "data": {
      "text/plain": [
       "Ttest_indResult(statistic=1.759554725698209, pvalue=0.07971136167069845)"
      ]
     },
     "execution_count": 48,
     "metadata": {},
     "output_type": "execute_result"
    }
   ],
   "source": [
    "ttest_ind(*df.groupby('p2p_willingness')['p2p_dem__birth'].apply(lambda x:list(x)))\n"
   ]
  },
  {
   "cell_type": "code",
   "execution_count": 49,
   "metadata": {},
   "outputs": [
    {
     "data": {
      "text/plain": [
       "Ttest_indResult(statistic=1.759554725698209, pvalue=0.07971136167069845)"
      ]
     },
     "execution_count": 49,
     "metadata": {},
     "output_type": "execute_result"
    }
   ],
   "source": [
    "ttest_ind(*df.groupby('p2p_willingness')['p2p_dem__birth'].apply(lambda x:list(x)))\n"
   ]
  },
  {
   "cell_type": "markdown",
   "metadata": {},
   "source": [
    "# Reasons why you cannot imagine participating in community"
   ]
  },
  {
   "cell_type": "markdown",
   "metadata": {},
   "source": [
    "A big amount of responses are because they want to remain independent (????), others are just satisfied with the supplier or believe the system is too complicated. Other reasons (less frequent) are lack of trust, lack of info about who they are trading with or just do not want to trade. "
   ]
  },
  {
   "cell_type": "code",
   "execution_count": 60,
   "metadata": {},
   "outputs": [
    {
     "data": {
      "text/plain": [
       "24"
      ]
     },
     "execution_count": 60,
     "metadata": {},
     "output_type": "execute_result"
    }
   ],
   "source": [
    "df.p2p_willingn_reasons_1.replace(r'^\\s*$', np.nan, regex=True).count()"
   ]
  },
  {
   "cell_type": "code",
   "execution_count": 62,
   "metadata": {},
   "outputs": [
    {
     "data": {
      "text/plain": [
       "Text(0, 0.5, 'Frequency')"
      ]
     },
     "execution_count": 62,
     "metadata": {},
     "output_type": "execute_result"
    },
    {
     "data": {
      "image/png": "[encoded data removed]",
      "text/plain": [
       "<Figure size 720x720 with 1 Axes>"
      ]
     },
     "metadata": {
      "needs_background": "light"
     },
     "output_type": "display_data"
    }
   ],
   "source": [
    "tmp=pd.DataFrame()\n",
    "tmp.loc[0,'Too complicated']=df.p2p_willingn_reasons_1.replace(r'^\\s*$', np.nan, regex=True).count()\n",
    "tmp.loc[0,'Not sharing']=df.p2p_willingn_reasons_2.replace(r'^\\s*$', np.nan, regex=True).count()\n",
    "tmp.loc[0,'bad relationship neighbours']=df.p2p_willingn_reasons_3.replace(r'^\\s*$', np.nan, regex=True).count()\n",
    "tmp.loc[0,'not trust']=df.p2p_willingn_reasons_4.replace(r'^\\s*$', np.nan, regex=True).count()\n",
    "tmp.loc[0,'confidence provider']=df.p2p_willingn_reasons_5.replace(r'^\\s*$', np.nan, regex=True).count()\n",
    "tmp.loc[0,'satisfied with supply']=df.p2p_willingn_reasons_6.replace(r'^\\s*$', np.nan, regex=True).count()\n",
    "tmp.loc[0,'Supply not secured']=df.p2p_willingn_reasons_7.replace(r'^\\s*$', np.nan, regex=True).count()\n",
    "tmp.loc[0,'data protection']=df.p2p_willingn_reasons_8.replace(r'^\\s*$', np.nan, regex=True).count()\n",
    "tmp.loc[0,'whom to trade with']=df.p2p_willingn_reasons_9.replace(r'^\\s*$', np.nan, regex=True).count()\n",
    "tmp.loc[0,'financial benefits of others not me']=df.p2p_willingn_reasons_10.replace(r'^\\s*$', np.nan, regex=True).count()\n",
    "tmp.loc[0,'inequality']=df.p2p_willingn_reasons_11.replace(r'^\\s*$', np.nan, regex=True).count()\n",
    "tmp.loc[0,'not want to deal with it']=df.p2p_willingn_reasons_12.replace(r'^\\s*$', np.nan, regex=True).count()\n",
    "tmp.loc[0,'job losses']=df.p2p_willingn_reasons_13.replace(r'^\\s*$', np.nan, regex=True).count()\n",
    "tmp.loc[0,'remain independent']=df.p2p_willingn_reasons_14.replace(r'^\\s*$', np.nan, regex=True).count()\n",
    "tmp.loc[0,'other']=df.p2p_willingn_reasons_15.replace(r'^\\s*$', np.nan, regex=True).count()\n",
    "\n",
    "fig,ax=plt.subplots(ncols=1,nrows=1,figsize=(10,10),sharex=True)\n",
    "tmp.T.plot(kind='bar',ax=ax)\n",
    "ax.set_ylabel('Frequency',size=18)"
   ]
  },
  {
   "cell_type": "code",
   "execution_count": 63,
   "metadata": {},
   "outputs": [
    {
     "data": {
      "text/html": [
       "<div>\n",
       "<style scoped>\n",
       "    .dataframe tbody tr th:only-of-type {\n",
       "        vertical-align: middle;\n",
       "    }\n",
       "\n",
       "    .dataframe tbody tr th {\n",
       "        vertical-align: top;\n",
       "    }\n",
       "\n",
       "    .dataframe thead th {\n",
       "        text-align: right;\n",
       "    }\n",
       "</style>\n",
       "<table border=\"1\" class=\"dataframe\">\n",
       "  <thead>\n",
       "    <tr style=\"text-align: right;\">\n",
       "      <th></th>\n",
       "      <th>Too complicated</th>\n",
       "      <th>Not sharing</th>\n",
       "      <th>bad relationship neighbours</th>\n",
       "      <th>not trust</th>\n",
       "      <th>confidence provider</th>\n",
       "      <th>satisfied with supply</th>\n",
       "      <th>Supply not secured</th>\n",
       "      <th>data protection</th>\n",
       "      <th>whom to trade with</th>\n",
       "      <th>financial benefits of others not me</th>\n",
       "      <th>inequality</th>\n",
       "      <th>not want to deal with it</th>\n",
       "      <th>job losses</th>\n",
       "      <th>remain independent</th>\n",
       "      <th>other</th>\n",
       "    </tr>\n",
       "  </thead>\n",
       "  <tbody>\n",
       "    <tr>\n",
       "      <th>0</th>\n",
       "      <td>0.32</td>\n",
       "      <td>0.16</td>\n",
       "      <td>0.066667</td>\n",
       "      <td>0.226667</td>\n",
       "      <td>0.186667</td>\n",
       "      <td>0.4</td>\n",
       "      <td>0.186667</td>\n",
       "      <td>0.08</td>\n",
       "      <td>0.24</td>\n",
       "      <td>0.08</td>\n",
       "      <td>0.173333</td>\n",
       "      <td>0.253333</td>\n",
       "      <td>0.0</td>\n",
       "      <td>0.586667</td>\n",
       "      <td>0.066667</td>\n",
       "    </tr>\n",
       "  </tbody>\n",
       "</table>\n",
       "</div>"
      ],
      "text/plain": [
       "   Too complicated  Not sharing  bad relationship neighbours  not trust  \\\n",
       "0             0.32         0.16                     0.066667   0.226667   \n",
       "\n",
       "   confidence provider  satisfied with supply  Supply not secured  \\\n",
       "0             0.186667                    0.4            0.186667   \n",
       "\n",
       "   data protection  whom to trade with  financial benefits of others not me  \\\n",
       "0             0.08                0.24                                 0.08   \n",
       "\n",
       "   inequality  not want to deal with it  job losses  remain independent  \\\n",
       "0    0.173333                  0.253333         0.0            0.586667   \n",
       "\n",
       "      other  \n",
       "0  0.066667  "
      ]
     },
     "execution_count": 63,
     "metadata": {},
     "output_type": "execute_result"
    }
   ],
   "source": [
    "tmp/75"
   ]
  },
  {
   "cell_type": "markdown",
   "metadata": {},
   "source": [
    "Independency: remain ind+not sharing? = 0.5866+0.16=0.7466\n",
    "\n",
    "Complexity: too complicated +  not want to deal with it=0.32+0.2533=0.5733\n",
    "\n",
    "Supply satisfaction: Supply satisfaction and confidence provider=0.4+0.1866 =0.5866"
   ]
  },
  {
   "cell_type": "markdown",
   "metadata": {},
   "source": [
    "# Trading"
   ]
  },
  {
   "cell_type": "markdown",
   "metadata": {},
   "source": [
    "# Risk and trade"
   ]
  },
  {
   "cell_type": "markdown",
   "metadata": {},
   "source": [
    "Of those trading, most of them are familiar with trading and have a slight inclination to trade"
   ]
  },
  {
   "cell_type": "markdown",
   "metadata": {},
   "source": [
    "risk aversion vs not want to be part of it, and PV/battery owners"
   ]
  },
  {
   "cell_type": "markdown",
   "metadata": {},
   "source": [
    "## Q1: Are there statistically significant differences on risk aversion by willingness to participate in the P2P community?"
   ]
  },
  {
   "cell_type": "code",
   "execution_count": 64,
   "metadata": {},
   "outputs": [],
   "source": [
    "import scipy"
   ]
  },
  {
   "cell_type": "code",
   "execution_count": 65,
   "metadata": {},
   "outputs": [
    {
     "name": "stdout",
     "output_type": "stream",
     "text": [
      "Statistics=0.948, p=0.000\n",
      "The null hypothesis that the data are normally distributed is REJECTED\n"
     ]
    }
   ],
   "source": [
    "stat, p = scipy.stats.shapiro(df.loc[df.p2p_willingness==1,'p2p_dem4_risk'])\n",
    "print('Statistics=%.3f, p=%.3f' % (stat, p))\n",
    "# interpret\n",
    "alpha = 0.05\n",
    "if p > alpha:\n",
    "    print('The null hypothesis that the data are normally distributed cannot be rejected')\n",
    "else:\n",
    "    print('The null hypothesis that the data are normally distributed is REJECTED')"
   ]
  },
  {
   "cell_type": "code",
   "execution_count": 66,
   "metadata": {},
   "outputs": [
    {
     "name": "stdout",
     "output_type": "stream",
     "text": [
      "Statistics=0.938, p=0.001\n",
      "The null hypothesis that the data are normally distributed is REJECTED\n"
     ]
    }
   ],
   "source": [
    "stat, p = scipy.stats.shapiro(df.loc[df.p2p_willingness==2,'p2p_dem4_risk'])\n",
    "print('Statistics=%.3f, p=%.3f' % (stat, p))\n",
    "# interpret\n",
    "alpha = 0.05\n",
    "if p > alpha:\n",
    "    print('The null hypothesis that the data are normally distributed cannot be rejected')\n",
    "else:\n",
    "    print('The null hypothesis that the data are normally distributed is REJECTED')"
   ]
  },
  {
   "cell_type": "markdown",
   "metadata": {},
   "source": [
    "In both cases, the distribution is not normally distributed, thus a non-parametric test should be used. In this case we use Mann-Whitney U test. The Mann-Whitney U test is the non-parametric equivalent to the independent t-test and the appropriate analysis to compare differences that come from the same population when the dependent variable is ordinal. The Mann-Whitney U test compares the number of times a score from one sample is ranked higher than a score from another sample.  The scores from both samples will be ranked together; rank 1 is used for the lowest score, rank 2 for the next lowest score, and so on. When scores have the same value, a tie is determined.  The scores are ranked and those ranks are added together and then divided by the number of scores. Each of the tied scores is then assigned the same ranking (Cramer, 1998).  Once the data is ranked, calculations will be carried out on the ranks.  Given the nonparametric nature of this statistical analysis, there are fewer assumptions to assess.  The data must come from random samples of the population,  the data are independent, meaning that scores from one participant are not dependent on scores of the others,  and the measure of the two samples have at least an ordinal scale of measurement (Brace, Kemp & Sneglar, 2006)."
   ]
  },
  {
   "cell_type": "code",
   "execution_count": 67,
   "metadata": {},
   "outputs": [
    {
     "name": "stdout",
     "output_type": "stream",
     "text": [
      "Statistics=5213.000, p=0.004\n",
      "There are statistically significant differences on risk aversion by willingness to participate in the P2P community.\n"
     ]
    }
   ],
   "source": [
    "stat, p = scipy.stats.mannwhitneyu(df.loc[df.p2p_willingness==1,'p2p_dem4_risk'],df.loc[df.p2p_willingness==2,'p2p_dem4_risk'])\n",
    "print('Statistics=%.3f, p=%.3f' % (stat, p))\n",
    "# interpret\n",
    "alpha = 0.05\n",
    "if p > alpha:\n",
    "    print('Same distribution (fail to reject H0)')\n",
    "else:\n",
    "    print('There are statistically significant differences on risk aversion by willingness to participate in the P2P community.')\n",
    "    \n"
   ]
  },
  {
   "cell_type": "code",
   "execution_count": 68,
   "metadata": {},
   "outputs": [
    {
     "data": {
      "text/plain": [
       "5.704545454545454"
      ]
     },
     "execution_count": 68,
     "metadata": {},
     "output_type": "execute_result"
    }
   ],
   "source": [
    "df.loc[df.p2p_willingness==1,'p2p_dem4_risk'].mean()"
   ]
  },
  {
   "cell_type": "code",
   "execution_count": 69,
   "metadata": {},
   "outputs": [
    {
     "data": {
      "text/plain": [
       "4.773333333333333"
      ]
     },
     "execution_count": 69,
     "metadata": {},
     "output_type": "execute_result"
    }
   ],
   "source": [
    "df.loc[df.p2p_willingness==2,'p2p_dem4_risk'].mean()"
   ]
  },
  {
   "cell_type": "markdown",
   "metadata": {},
   "source": [
    "## Answer: Yes, there are statistically significant differences on risk aversion by willingness to participate in the P2P community, being the group that expressed its willingness to participate in the project more risk  taker than the group that expressed no interest on the community."
   ]
  },
  {
   "cell_type": "markdown",
   "metadata": {},
   "source": [
    "## Q2: Are there statistically significant differences on risk aversion by ownership of PV?"
   ]
  },
  {
   "cell_type": "code",
   "execution_count": 70,
   "metadata": {},
   "outputs": [
    {
     "name": "stdout",
     "output_type": "stream",
     "text": [
      "Statistics=0.930, p=0.032\n",
      "The null hypothesis that the data are normally distributed is REJECTED\n"
     ]
    }
   ],
   "source": [
    "stat, p = scipy.stats.shapiro(df.loc[df.p2p_dem3_PV==1,'p2p_dem4_risk'])\n",
    "print('Statistics=%.3f, p=%.3f' % (stat, p))\n",
    "# interpret\n",
    "alpha = 0.05\n",
    "if p > alpha:\n",
    "    print('The null hypothesis that the data are normally distributed cannot be rejected')\n",
    "else:\n",
    "    print('The null hypothesis that the data are normally distributed is REJECTED')"
   ]
  },
  {
   "cell_type": "code",
   "execution_count": 71,
   "metadata": {},
   "outputs": [
    {
     "name": "stdout",
     "output_type": "stream",
     "text": [
      "Statistics=0.949, p=0.000\n",
      "The null hypothesis that the data are normally distributed is REJECTED\n"
     ]
    }
   ],
   "source": [
    "stat, p = scipy.stats.shapiro(df.loc[df.p2p_dem3_PV==2,'p2p_dem4_risk'])\n",
    "print('Statistics=%.3f, p=%.3f' % (stat, p))\n",
    "# interpret\n",
    "alpha = 0.05\n",
    "if p > alpha:\n",
    "    print('The null hypothesis that the data are normally distributed cannot be rejected')\n",
    "else:\n",
    "    print('The null hypothesis that the data are normally distributed is REJECTED')"
   ]
  },
  {
   "cell_type": "code",
   "execution_count": 72,
   "metadata": {},
   "outputs": [
    {
     "name": "stdout",
     "output_type": "stream",
     "text": [
      "Statistics=3532.000, p=0.344\n",
      "Same distribution (fail to reject H0)\n"
     ]
    }
   ],
   "source": [
    "stat, p = scipy.stats.mannwhitneyu(df.loc[df.p2p_dem3_PV==1,'p2p_dem4_risk'],df.loc[df.p2p_dem3_PV==2,'p2p_dem4_risk'])\n",
    "print('Statistics=%.3f, p=%.3f' % (stat, p))\n",
    "# interpret\n",
    "alpha = 0.05\n",
    "if p > alpha:\n",
    "    print('Same distribution (fail to reject H0)')\n",
    "else:\n",
    "    print('There are statistically significant differences on risk aversion by willingness to participate in the P2P community.')\n",
    "    \n"
   ]
  },
  {
   "cell_type": "code",
   "execution_count": 73,
   "metadata": {},
   "outputs": [
    {
     "data": {
      "text/plain": [
       "5.588235294117647"
      ]
     },
     "execution_count": 73,
     "metadata": {},
     "output_type": "execute_result"
    }
   ],
   "source": [
    "df.loc[df.p2p_dem3_PV==1,'p2p_dem4_risk'].mean()"
   ]
  },
  {
   "cell_type": "code",
   "execution_count": 74,
   "metadata": {},
   "outputs": [
    {
     "data": {
      "text/plain": [
       "5.400921658986175"
      ]
     },
     "execution_count": 74,
     "metadata": {},
     "output_type": "execute_result"
    }
   ],
   "source": [
    "df.loc[df.p2p_dem3_PV==2,'p2p_dem4_risk'].mean()"
   ]
  },
  {
   "cell_type": "markdown",
   "metadata": {},
   "source": [
    "## Answer: No, there are not statistically significant differences on risk aversion by PV ownership."
   ]
  },
  {
   "cell_type": "code",
   "execution_count": 75,
   "metadata": {},
   "outputs": [
    {
     "data": {
      "image/png": "[encoded data removed]",
      "text/plain": [
       "<Figure size 720x720 with 4 Axes>"
      ]
     },
     "metadata": {
      "needs_background": "light"
     },
     "output_type": "display_data"
    }
   ],
   "source": [
    "#Wir bitten Sie auf einer Skala von 1 (stimme gar nicht zu) bis 7 (stimme vollkommen zu) \n",
    "#anzugeben, inwiefern Sie den nachfolgenden Aussagen über Ihre Nachbarschaft zustimmen bzw. diese ablehnen. \n",
    "#how much you agree or disagree with the following statements about your neighborhood.\n",
    "fig,ax=plt.subplots(ncols=2,nrows=2,figsize=(10,10))\n",
    "serie_map(df.p2p_Nei_Pol.value_counts(sort=False,normalize=norm).sort_index(),\n",
    "          dict_pol).plot(kind='bar',ax=ax[0][0])\n",
    "ax[0][0].set_title('Political orientation of neighbours ')\n",
    "\n",
    "\n",
    "serie_map(df.p2p_dem4_risk.sort_index().value_counts(sort=False,normalize=norm),\n",
    "          dict_risk).plot(kind='bar',ax=ax[0][1])\n",
    "ax[0][1].set_title('Risk aversion')\n",
    "serie_map(df.loc[:,'p2p_Nei_attach_1.0'].sort_index().value_counts(sort=False,normalize=norm),\n",
    "          dict_likert_agr).plot(kind='bar',ax=ax[1][0])\n",
    "ax[1][0].set_title('I am familiar with trading')\n",
    "\n",
    "serie_map(df.loc[:,'p2p_Nei_attach_2.0'].sort_index().value_counts(sort=False,normalize=norm),\n",
    "          dict_likert_agr).plot(kind='bar',ax=ax[1][1])\n",
    "ax[1][1].set_title('I have a high tendency to trade')\n",
    "#fig.suptitle('My neighborhood',size=18)\n",
    "plt.tight_layout()\n",
    "\n",
    "\n",
    "\n"
   ]
  },
  {
   "cell_type": "code",
   "execution_count": 76,
   "metadata": {},
   "outputs": [
    {
     "data": {
      "text/plain": [
       "62.15139442231075"
      ]
     },
     "execution_count": 76,
     "metadata": {},
     "output_type": "execute_result"
    }
   ],
   "source": [
    "(df.loc[:,'p2p_Nei_attach_1.0'].sort_index().value_counts(sort=False,normalize=False)/251*100)[4:].sum()"
   ]
  },
  {
   "cell_type": "code",
   "execution_count": 77,
   "metadata": {},
   "outputs": [
    {
     "data": {
      "text/plain": [
       "42.62948207171315"
      ]
     },
     "execution_count": 77,
     "metadata": {},
     "output_type": "execute_result"
    }
   ],
   "source": [
    "df.loc[:,'p2p_Nei_attach_2.0'].sort_index().value_counts(sort=False,normalize=norm)[4:].sum()*100"
   ]
  },
  {
   "cell_type": "markdown",
   "metadata": {},
   "source": [
    "# -------------------------------------------------------"
   ]
  },
  {
   "cell_type": "markdown",
   "metadata": {},
   "source": [
    "# One graph two colors"
   ]
  },
  {
   "cell_type": "code",
   "execution_count": 78,
   "metadata": {},
   "outputs": [],
   "source": [
    "new_cols=['p2p_dec_4c30S_12h','p2p_dec_4c30s_12h+','p2p_dec_4c60S_12h','p2p_dec_4c60s_12h+', 'p2p_dec_4c90S_12h','p2p_dec_4c90s_12h+',\n",
    "       'p2p_dec_12c30S_12h', 'p2p_dec_12c30s_12h+', 'p2p_dec_12c60S_12h','p2p_dec_12c60s_12h+', 'p2p_dec_12c90S_12h','p2p_dec_12c90s_12h+',\n",
    "       'p2p_dec_20c30S_12h', 'p2p_dec_20c30s_12h+', 'p2p_dec_20c60S_12h', 'p2p_dec_20c60s_12h+','p2p_dec_20c90S_12h','p2p_dec_20c90s_12h+',\n",
    "       'p2p_dec_28c30S_12h', 'p2p_dec_28c30s_12h+', 'p2p_dec_28c60S_12h','p2p_dec_28c60s_12h+', 'p2p_dec_28c90S_12h','p2p_dec_28c90s_12h+']"
   ]
  },
  {
   "cell_type": "code",
   "execution_count": 79,
   "metadata": {},
   "outputs": [
    {
     "data": {
      "text/plain": [
       "176"
      ]
     },
     "execution_count": 79,
     "metadata": {},
     "output_type": "execute_result"
    }
   ],
   "source": [
    "df[df.p2p_willingness==1].shape[0]"
   ]
  },
  {
   "cell_type": "code",
   "execution_count": 80,
   "metadata": {},
   "outputs": [],
   "source": [
    "if norm:\n",
    "    df_core=pd.DataFrame([(df.loc[df.p2p_willingness==1,new_cols]==1).sum()/df[df.p2p_willingness==1].shape[0],np.zeros(24),np.zeros(24),np.zeros(24)]).T\n",
    "else:\n",
    "    df_core=pd.DataFrame([(df.loc[df.p2p_willingness==1,new_cols]==1).sum(),np.zeros(24),np.zeros(24),np.zeros(24)]).T"
   ]
  },
  {
   "cell_type": "code",
   "execution_count": 81,
   "metadata": {},
   "outputs": [],
   "source": [
    "df_core.columns=['Sell','Price','SOC', 'sp']"
   ]
  },
  {
   "cell_type": "code",
   "execution_count": 82,
   "metadata": {},
   "outputs": [],
   "source": [
    "for price in ['4c','12c','20c','28c']:\n",
    "\n",
    "    list_cents=[col for col in df_core.index if price in col]\n",
    "    df_core.loc[list_cents,'Price']=int(price[:-1])\n",
    "for soc in [30,60,90]:\n",
    "\n",
    "    list_soc=[col for col in df_core.index if str(soc) in col]\n",
    "    df_core.loc[list_soc,'SOC']=soc\n",
    "for sp in ['12h','12h+']:\n",
    "\n",
    "    list_sp=[col for col in df_core.index if sp in col]\n",
    "    df_core.loc[list_sp,'sp']=sp\n"
   ]
  },
  {
   "cell_type": "code",
   "execution_count": 73,
   "metadata": {},
   "outputs": [],
   "source": [
    "df_core.to_csv('../Input/df_core.csv')"
   ]
  },
  {
   "cell_type": "code",
   "execution_count": 83,
   "metadata": {},
   "outputs": [
    {
     "data": {
      "text/html": [
       "<div>\n",
       "<style scoped>\n",
       "    .dataframe tbody tr th:only-of-type {\n",
       "        vertical-align: middle;\n",
       "    }\n",
       "\n",
       "    .dataframe tbody tr th {\n",
       "        vertical-align: top;\n",
       "    }\n",
       "\n",
       "    .dataframe thead th {\n",
       "        text-align: right;\n",
       "    }\n",
       "</style>\n",
       "<table border=\"1\" class=\"dataframe\">\n",
       "  <thead>\n",
       "    <tr style=\"text-align: right;\">\n",
       "      <th></th>\n",
       "      <th>Sell</th>\n",
       "      <th>Price</th>\n",
       "      <th>SOC</th>\n",
       "      <th>sp</th>\n",
       "    </tr>\n",
       "  </thead>\n",
       "  <tbody>\n",
       "    <tr>\n",
       "      <th>p2p_dec_4c30S_12h</th>\n",
       "      <td>0.0</td>\n",
       "      <td>4.0</td>\n",
       "      <td>30.0</td>\n",
       "      <td>12h</td>\n",
       "    </tr>\n",
       "    <tr>\n",
       "      <th>p2p_dec_4c30s_12h+</th>\n",
       "      <td>0.0</td>\n",
       "      <td>4.0</td>\n",
       "      <td>30.0</td>\n",
       "      <td>12h+</td>\n",
       "    </tr>\n",
       "    <tr>\n",
       "      <th>p2p_dec_4c60S_12h</th>\n",
       "      <td>0.0</td>\n",
       "      <td>4.0</td>\n",
       "      <td>60.0</td>\n",
       "      <td>12h</td>\n",
       "    </tr>\n",
       "    <tr>\n",
       "      <th>p2p_dec_4c60s_12h+</th>\n",
       "      <td>0.0</td>\n",
       "      <td>4.0</td>\n",
       "      <td>60.0</td>\n",
       "      <td>12h+</td>\n",
       "    </tr>\n",
       "    <tr>\n",
       "      <th>p2p_dec_4c90S_12h</th>\n",
       "      <td>0.0</td>\n",
       "      <td>4.0</td>\n",
       "      <td>90.0</td>\n",
       "      <td>12h</td>\n",
       "    </tr>\n",
       "    <tr>\n",
       "      <th>p2p_dec_4c90s_12h+</th>\n",
       "      <td>0.0</td>\n",
       "      <td>4.0</td>\n",
       "      <td>90.0</td>\n",
       "      <td>12h+</td>\n",
       "    </tr>\n",
       "    <tr>\n",
       "      <th>p2p_dec_12c30S_12h</th>\n",
       "      <td>0.0</td>\n",
       "      <td>12.0</td>\n",
       "      <td>30.0</td>\n",
       "      <td>12h</td>\n",
       "    </tr>\n",
       "    <tr>\n",
       "      <th>p2p_dec_12c30s_12h+</th>\n",
       "      <td>0.0</td>\n",
       "      <td>12.0</td>\n",
       "      <td>30.0</td>\n",
       "      <td>12h+</td>\n",
       "    </tr>\n",
       "    <tr>\n",
       "      <th>p2p_dec_12c60S_12h</th>\n",
       "      <td>0.0</td>\n",
       "      <td>12.0</td>\n",
       "      <td>60.0</td>\n",
       "      <td>12h</td>\n",
       "    </tr>\n",
       "    <tr>\n",
       "      <th>p2p_dec_12c60s_12h+</th>\n",
       "      <td>0.0</td>\n",
       "      <td>12.0</td>\n",
       "      <td>60.0</td>\n",
       "      <td>12h+</td>\n",
       "    </tr>\n",
       "    <tr>\n",
       "      <th>p2p_dec_12c90S_12h</th>\n",
       "      <td>0.0</td>\n",
       "      <td>12.0</td>\n",
       "      <td>90.0</td>\n",
       "      <td>12h</td>\n",
       "    </tr>\n",
       "    <tr>\n",
       "      <th>p2p_dec_12c90s_12h+</th>\n",
       "      <td>0.0</td>\n",
       "      <td>12.0</td>\n",
       "      <td>90.0</td>\n",
       "      <td>12h+</td>\n",
       "    </tr>\n",
       "    <tr>\n",
       "      <th>p2p_dec_20c30S_12h</th>\n",
       "      <td>0.0</td>\n",
       "      <td>20.0</td>\n",
       "      <td>30.0</td>\n",
       "      <td>12h</td>\n",
       "    </tr>\n",
       "    <tr>\n",
       "      <th>p2p_dec_20c30s_12h+</th>\n",
       "      <td>0.0</td>\n",
       "      <td>20.0</td>\n",
       "      <td>30.0</td>\n",
       "      <td>12h+</td>\n",
       "    </tr>\n",
       "    <tr>\n",
       "      <th>p2p_dec_20c60S_12h</th>\n",
       "      <td>0.0</td>\n",
       "      <td>20.0</td>\n",
       "      <td>60.0</td>\n",
       "      <td>12h</td>\n",
       "    </tr>\n",
       "    <tr>\n",
       "      <th>p2p_dec_20c60s_12h+</th>\n",
       "      <td>0.0</td>\n",
       "      <td>20.0</td>\n",
       "      <td>60.0</td>\n",
       "      <td>12h+</td>\n",
       "    </tr>\n",
       "    <tr>\n",
       "      <th>p2p_dec_20c90S_12h</th>\n",
       "      <td>0.0</td>\n",
       "      <td>20.0</td>\n",
       "      <td>90.0</td>\n",
       "      <td>12h</td>\n",
       "    </tr>\n",
       "    <tr>\n",
       "      <th>p2p_dec_20c90s_12h+</th>\n",
       "      <td>0.0</td>\n",
       "      <td>20.0</td>\n",
       "      <td>90.0</td>\n",
       "      <td>12h+</td>\n",
       "    </tr>\n",
       "    <tr>\n",
       "      <th>p2p_dec_28c30S_12h</th>\n",
       "      <td>0.0</td>\n",
       "      <td>28.0</td>\n",
       "      <td>30.0</td>\n",
       "      <td>12h</td>\n",
       "    </tr>\n",
       "    <tr>\n",
       "      <th>p2p_dec_28c30s_12h+</th>\n",
       "      <td>0.0</td>\n",
       "      <td>28.0</td>\n",
       "      <td>30.0</td>\n",
       "      <td>12h+</td>\n",
       "    </tr>\n",
       "    <tr>\n",
       "      <th>p2p_dec_28c60S_12h</th>\n",
       "      <td>0.0</td>\n",
       "      <td>28.0</td>\n",
       "      <td>60.0</td>\n",
       "      <td>12h</td>\n",
       "    </tr>\n",
       "    <tr>\n",
       "      <th>p2p_dec_28c60s_12h+</th>\n",
       "      <td>0.0</td>\n",
       "      <td>28.0</td>\n",
       "      <td>60.0</td>\n",
       "      <td>12h+</td>\n",
       "    </tr>\n",
       "    <tr>\n",
       "      <th>p2p_dec_28c90S_12h</th>\n",
       "      <td>0.0</td>\n",
       "      <td>28.0</td>\n",
       "      <td>90.0</td>\n",
       "      <td>12h</td>\n",
       "    </tr>\n",
       "    <tr>\n",
       "      <th>p2p_dec_28c90s_12h+</th>\n",
       "      <td>0.0</td>\n",
       "      <td>28.0</td>\n",
       "      <td>90.0</td>\n",
       "      <td>12h+</td>\n",
       "    </tr>\n",
       "  </tbody>\n",
       "</table>\n",
       "</div>"
      ],
      "text/plain": [
       "                     Sell  Price   SOC    sp\n",
       "p2p_dec_4c30S_12h     0.0    4.0  30.0   12h\n",
       "p2p_dec_4c30s_12h+    0.0    4.0  30.0  12h+\n",
       "p2p_dec_4c60S_12h     0.0    4.0  60.0   12h\n",
       "p2p_dec_4c60s_12h+    0.0    4.0  60.0  12h+\n",
       "p2p_dec_4c90S_12h     0.0    4.0  90.0   12h\n",
       "p2p_dec_4c90s_12h+    0.0    4.0  90.0  12h+\n",
       "p2p_dec_12c30S_12h    0.0   12.0  30.0   12h\n",
       "p2p_dec_12c30s_12h+   0.0   12.0  30.0  12h+\n",
       "p2p_dec_12c60S_12h    0.0   12.0  60.0   12h\n",
       "p2p_dec_12c60s_12h+   0.0   12.0  60.0  12h+\n",
       "p2p_dec_12c90S_12h    0.0   12.0  90.0   12h\n",
       "p2p_dec_12c90s_12h+   0.0   12.0  90.0  12h+\n",
       "p2p_dec_20c30S_12h    0.0   20.0  30.0   12h\n",
       "p2p_dec_20c30s_12h+   0.0   20.0  30.0  12h+\n",
       "p2p_dec_20c60S_12h    0.0   20.0  60.0   12h\n",
       "p2p_dec_20c60s_12h+   0.0   20.0  60.0  12h+\n",
       "p2p_dec_20c90S_12h    0.0   20.0  90.0   12h\n",
       "p2p_dec_20c90s_12h+   0.0   20.0  90.0  12h+\n",
       "p2p_dec_28c30S_12h    0.0   28.0  30.0   12h\n",
       "p2p_dec_28c30s_12h+   0.0   28.0  30.0  12h+\n",
       "p2p_dec_28c60S_12h    0.0   28.0  60.0   12h\n",
       "p2p_dec_28c60s_12h+   0.0   28.0  60.0  12h+\n",
       "p2p_dec_28c90S_12h    0.0   28.0  90.0   12h\n",
       "p2p_dec_28c90s_12h+   0.0   28.0  90.0  12h+"
      ]
     },
     "execution_count": 83,
     "metadata": {},
     "output_type": "execute_result"
    }
   ],
   "source": [
    "df_core"
   ]
  },
  {
   "cell_type": "code",
   "execution_count": 84,
   "metadata": {},
   "outputs": [
    {
     "data": {
      "text/plain": [
       "(24, 4)"
      ]
     },
     "execution_count": 84,
     "metadata": {},
     "output_type": "execute_result"
    }
   ],
   "source": [
    "df_core.shape"
   ]
  },
  {
   "cell_type": "code",
   "execution_count": 87,
   "metadata": {},
   "outputs": [],
   "source": [
    "bhv_hh=pd.DataFrame(itertools.product(df_core.Price.unique(),df_core.SOC.unique(),df_core.sp.unique(),df.index),columns=['Price','SOC','surplus_time','hh'])"
   ]
  },
  {
   "cell_type": "code",
   "execution_count": 88,
   "metadata": {},
   "outputs": [],
   "source": [
    "bhv_hh['sell']=False"
   ]
  },
  {
   "cell_type": "code",
   "execution_count": 89,
   "metadata": {},
   "outputs": [],
   "source": [
    "bhv_hh.loc[:,'sell']=(df.loc[:,new_cols]==1).unstack().values"
   ]
  },
  {
   "cell_type": "code",
   "execution_count": 90,
   "metadata": {},
   "outputs": [
    {
     "data": {
      "text/plain": [
       "Int64Index([  1,   2,   3,   4,   5,   7,   9,  10,  11,  12,\n",
       "            ...\n",
       "            235, 236, 237, 240, 241, 242, 245, 247, 248, 250],\n",
       "           dtype='int64', length=176)"
      ]
     },
     "execution_count": 90,
     "metadata": {},
     "output_type": "execute_result"
    }
   ],
   "source": [
    "df.loc[df.p2p_willingness==1].index"
   ]
  },
  {
   "cell_type": "code",
   "execution_count": 91,
   "metadata": {},
   "outputs": [],
   "source": [
    "hh_will=[i for i in bhv_hh.hh.unique() if i in df.loc[df.p2p_willingness==1].index]"
   ]
  },
  {
   "cell_type": "code",
   "execution_count": 92,
   "metadata": {},
   "outputs": [],
   "source": [
    "bhv_hh.loc[~bhv_hh.hh.isin(hh_will),'will']=False\n",
    "bhv_hh.loc[bhv_hh.hh.isin(hh_will),'will']=True\n"
   ]
  },
  {
   "cell_type": "code",
   "execution_count": 85,
   "metadata": {},
   "outputs": [],
   "source": [
    "bhv_hh.to_csv('../Output/table_bhv.csv')"
   ]
  },
  {
   "cell_type": "code",
   "execution_count": 93,
   "metadata": {},
   "outputs": [
    {
     "data": {
      "text/html": [
       "<div>\n",
       "<style scoped>\n",
       "    .dataframe tbody tr th:only-of-type {\n",
       "        vertical-align: middle;\n",
       "    }\n",
       "\n",
       "    .dataframe tbody tr th {\n",
       "        vertical-align: top;\n",
       "    }\n",
       "\n",
       "    .dataframe thead th {\n",
       "        text-align: right;\n",
       "    }\n",
       "</style>\n",
       "<table border=\"1\" class=\"dataframe\">\n",
       "  <thead>\n",
       "    <tr style=\"text-align: right;\">\n",
       "      <th></th>\n",
       "      <th>Price</th>\n",
       "      <th>SOC</th>\n",
       "      <th>surplus_time</th>\n",
       "      <th>hh</th>\n",
       "      <th>sell</th>\n",
       "      <th>will</th>\n",
       "    </tr>\n",
       "  </thead>\n",
       "  <tbody>\n",
       "    <tr>\n",
       "      <th>0</th>\n",
       "      <td>4.0</td>\n",
       "      <td>30.0</td>\n",
       "      <td>12h</td>\n",
       "      <td>0</td>\n",
       "      <td>False</td>\n",
       "      <td>False</td>\n",
       "    </tr>\n",
       "    <tr>\n",
       "      <th>1</th>\n",
       "      <td>4.0</td>\n",
       "      <td>30.0</td>\n",
       "      <td>12h</td>\n",
       "      <td>1</td>\n",
       "      <td>False</td>\n",
       "      <td>True</td>\n",
       "    </tr>\n",
       "    <tr>\n",
       "      <th>2</th>\n",
       "      <td>4.0</td>\n",
       "      <td>30.0</td>\n",
       "      <td>12h</td>\n",
       "      <td>2</td>\n",
       "      <td>False</td>\n",
       "      <td>True</td>\n",
       "    </tr>\n",
       "    <tr>\n",
       "      <th>3</th>\n",
       "      <td>4.0</td>\n",
       "      <td>30.0</td>\n",
       "      <td>12h</td>\n",
       "      <td>3</td>\n",
       "      <td>False</td>\n",
       "      <td>True</td>\n",
       "    </tr>\n",
       "    <tr>\n",
       "      <th>4</th>\n",
       "      <td>4.0</td>\n",
       "      <td>30.0</td>\n",
       "      <td>12h</td>\n",
       "      <td>4</td>\n",
       "      <td>False</td>\n",
       "      <td>True</td>\n",
       "    </tr>\n",
       "    <tr>\n",
       "      <th>5</th>\n",
       "      <td>4.0</td>\n",
       "      <td>30.0</td>\n",
       "      <td>12h</td>\n",
       "      <td>5</td>\n",
       "      <td>False</td>\n",
       "      <td>True</td>\n",
       "    </tr>\n",
       "    <tr>\n",
       "      <th>6</th>\n",
       "      <td>4.0</td>\n",
       "      <td>30.0</td>\n",
       "      <td>12h</td>\n",
       "      <td>6</td>\n",
       "      <td>False</td>\n",
       "      <td>False</td>\n",
       "    </tr>\n",
       "    <tr>\n",
       "      <th>7</th>\n",
       "      <td>4.0</td>\n",
       "      <td>30.0</td>\n",
       "      <td>12h</td>\n",
       "      <td>7</td>\n",
       "      <td>False</td>\n",
       "      <td>True</td>\n",
       "    </tr>\n",
       "    <tr>\n",
       "      <th>8</th>\n",
       "      <td>4.0</td>\n",
       "      <td>30.0</td>\n",
       "      <td>12h</td>\n",
       "      <td>8</td>\n",
       "      <td>False</td>\n",
       "      <td>False</td>\n",
       "    </tr>\n",
       "    <tr>\n",
       "      <th>9</th>\n",
       "      <td>4.0</td>\n",
       "      <td>30.0</td>\n",
       "      <td>12h</td>\n",
       "      <td>9</td>\n",
       "      <td>False</td>\n",
       "      <td>True</td>\n",
       "    </tr>\n",
       "    <tr>\n",
       "      <th>10</th>\n",
       "      <td>4.0</td>\n",
       "      <td>30.0</td>\n",
       "      <td>12h</td>\n",
       "      <td>10</td>\n",
       "      <td>False</td>\n",
       "      <td>True</td>\n",
       "    </tr>\n",
       "    <tr>\n",
       "      <th>11</th>\n",
       "      <td>4.0</td>\n",
       "      <td>30.0</td>\n",
       "      <td>12h</td>\n",
       "      <td>11</td>\n",
       "      <td>False</td>\n",
       "      <td>True</td>\n",
       "    </tr>\n",
       "    <tr>\n",
       "      <th>12</th>\n",
       "      <td>4.0</td>\n",
       "      <td>30.0</td>\n",
       "      <td>12h</td>\n",
       "      <td>12</td>\n",
       "      <td>False</td>\n",
       "      <td>True</td>\n",
       "    </tr>\n",
       "    <tr>\n",
       "      <th>13</th>\n",
       "      <td>4.0</td>\n",
       "      <td>30.0</td>\n",
       "      <td>12h</td>\n",
       "      <td>13</td>\n",
       "      <td>False</td>\n",
       "      <td>True</td>\n",
       "    </tr>\n",
       "    <tr>\n",
       "      <th>14</th>\n",
       "      <td>4.0</td>\n",
       "      <td>30.0</td>\n",
       "      <td>12h</td>\n",
       "      <td>14</td>\n",
       "      <td>False</td>\n",
       "      <td>True</td>\n",
       "    </tr>\n",
       "    <tr>\n",
       "      <th>15</th>\n",
       "      <td>4.0</td>\n",
       "      <td>30.0</td>\n",
       "      <td>12h</td>\n",
       "      <td>15</td>\n",
       "      <td>False</td>\n",
       "      <td>True</td>\n",
       "    </tr>\n",
       "    <tr>\n",
       "      <th>16</th>\n",
       "      <td>4.0</td>\n",
       "      <td>30.0</td>\n",
       "      <td>12h</td>\n",
       "      <td>16</td>\n",
       "      <td>False</td>\n",
       "      <td>False</td>\n",
       "    </tr>\n",
       "    <tr>\n",
       "      <th>17</th>\n",
       "      <td>4.0</td>\n",
       "      <td>30.0</td>\n",
       "      <td>12h</td>\n",
       "      <td>17</td>\n",
       "      <td>False</td>\n",
       "      <td>True</td>\n",
       "    </tr>\n",
       "    <tr>\n",
       "      <th>18</th>\n",
       "      <td>4.0</td>\n",
       "      <td>30.0</td>\n",
       "      <td>12h</td>\n",
       "      <td>18</td>\n",
       "      <td>False</td>\n",
       "      <td>False</td>\n",
       "    </tr>\n",
       "    <tr>\n",
       "      <th>19</th>\n",
       "      <td>4.0</td>\n",
       "      <td>30.0</td>\n",
       "      <td>12h</td>\n",
       "      <td>19</td>\n",
       "      <td>False</td>\n",
       "      <td>True</td>\n",
       "    </tr>\n",
       "    <tr>\n",
       "      <th>20</th>\n",
       "      <td>4.0</td>\n",
       "      <td>30.0</td>\n",
       "      <td>12h</td>\n",
       "      <td>20</td>\n",
       "      <td>False</td>\n",
       "      <td>True</td>\n",
       "    </tr>\n",
       "    <tr>\n",
       "      <th>21</th>\n",
       "      <td>4.0</td>\n",
       "      <td>30.0</td>\n",
       "      <td>12h</td>\n",
       "      <td>21</td>\n",
       "      <td>False</td>\n",
       "      <td>True</td>\n",
       "    </tr>\n",
       "    <tr>\n",
       "      <th>22</th>\n",
       "      <td>4.0</td>\n",
       "      <td>30.0</td>\n",
       "      <td>12h</td>\n",
       "      <td>22</td>\n",
       "      <td>False</td>\n",
       "      <td>True</td>\n",
       "    </tr>\n",
       "    <tr>\n",
       "      <th>23</th>\n",
       "      <td>4.0</td>\n",
       "      <td>30.0</td>\n",
       "      <td>12h</td>\n",
       "      <td>23</td>\n",
       "      <td>False</td>\n",
       "      <td>True</td>\n",
       "    </tr>\n",
       "    <tr>\n",
       "      <th>24</th>\n",
       "      <td>4.0</td>\n",
       "      <td>30.0</td>\n",
       "      <td>12h</td>\n",
       "      <td>24</td>\n",
       "      <td>False</td>\n",
       "      <td>True</td>\n",
       "    </tr>\n",
       "    <tr>\n",
       "      <th>25</th>\n",
       "      <td>4.0</td>\n",
       "      <td>30.0</td>\n",
       "      <td>12h</td>\n",
       "      <td>25</td>\n",
       "      <td>False</td>\n",
       "      <td>True</td>\n",
       "    </tr>\n",
       "    <tr>\n",
       "      <th>26</th>\n",
       "      <td>4.0</td>\n",
       "      <td>30.0</td>\n",
       "      <td>12h</td>\n",
       "      <td>26</td>\n",
       "      <td>False</td>\n",
       "      <td>False</td>\n",
       "    </tr>\n",
       "    <tr>\n",
       "      <th>27</th>\n",
       "      <td>4.0</td>\n",
       "      <td>30.0</td>\n",
       "      <td>12h</td>\n",
       "      <td>27</td>\n",
       "      <td>False</td>\n",
       "      <td>False</td>\n",
       "    </tr>\n",
       "    <tr>\n",
       "      <th>28</th>\n",
       "      <td>4.0</td>\n",
       "      <td>30.0</td>\n",
       "      <td>12h</td>\n",
       "      <td>28</td>\n",
       "      <td>False</td>\n",
       "      <td>True</td>\n",
       "    </tr>\n",
       "    <tr>\n",
       "      <th>29</th>\n",
       "      <td>4.0</td>\n",
       "      <td>30.0</td>\n",
       "      <td>12h</td>\n",
       "      <td>29</td>\n",
       "      <td>False</td>\n",
       "      <td>True</td>\n",
       "    </tr>\n",
       "    <tr>\n",
       "      <th>...</th>\n",
       "      <td>...</td>\n",
       "      <td>...</td>\n",
       "      <td>...</td>\n",
       "      <td>...</td>\n",
       "      <td>...</td>\n",
       "      <td>...</td>\n",
       "    </tr>\n",
       "    <tr>\n",
       "      <th>5994</th>\n",
       "      <td>28.0</td>\n",
       "      <td>90.0</td>\n",
       "      <td>12h+</td>\n",
       "      <td>221</td>\n",
       "      <td>False</td>\n",
       "      <td>True</td>\n",
       "    </tr>\n",
       "    <tr>\n",
       "      <th>5995</th>\n",
       "      <td>28.0</td>\n",
       "      <td>90.0</td>\n",
       "      <td>12h+</td>\n",
       "      <td>222</td>\n",
       "      <td>False</td>\n",
       "      <td>True</td>\n",
       "    </tr>\n",
       "    <tr>\n",
       "      <th>5996</th>\n",
       "      <td>28.0</td>\n",
       "      <td>90.0</td>\n",
       "      <td>12h+</td>\n",
       "      <td>223</td>\n",
       "      <td>False</td>\n",
       "      <td>True</td>\n",
       "    </tr>\n",
       "    <tr>\n",
       "      <th>5997</th>\n",
       "      <td>28.0</td>\n",
       "      <td>90.0</td>\n",
       "      <td>12h+</td>\n",
       "      <td>224</td>\n",
       "      <td>False</td>\n",
       "      <td>True</td>\n",
       "    </tr>\n",
       "    <tr>\n",
       "      <th>5998</th>\n",
       "      <td>28.0</td>\n",
       "      <td>90.0</td>\n",
       "      <td>12h+</td>\n",
       "      <td>225</td>\n",
       "      <td>False</td>\n",
       "      <td>True</td>\n",
       "    </tr>\n",
       "    <tr>\n",
       "      <th>5999</th>\n",
       "      <td>28.0</td>\n",
       "      <td>90.0</td>\n",
       "      <td>12h+</td>\n",
       "      <td>226</td>\n",
       "      <td>False</td>\n",
       "      <td>True</td>\n",
       "    </tr>\n",
       "    <tr>\n",
       "      <th>6000</th>\n",
       "      <td>28.0</td>\n",
       "      <td>90.0</td>\n",
       "      <td>12h+</td>\n",
       "      <td>227</td>\n",
       "      <td>False</td>\n",
       "      <td>False</td>\n",
       "    </tr>\n",
       "    <tr>\n",
       "      <th>6001</th>\n",
       "      <td>28.0</td>\n",
       "      <td>90.0</td>\n",
       "      <td>12h+</td>\n",
       "      <td>228</td>\n",
       "      <td>False</td>\n",
       "      <td>False</td>\n",
       "    </tr>\n",
       "    <tr>\n",
       "      <th>6002</th>\n",
       "      <td>28.0</td>\n",
       "      <td>90.0</td>\n",
       "      <td>12h+</td>\n",
       "      <td>229</td>\n",
       "      <td>False</td>\n",
       "      <td>True</td>\n",
       "    </tr>\n",
       "    <tr>\n",
       "      <th>6003</th>\n",
       "      <td>28.0</td>\n",
       "      <td>90.0</td>\n",
       "      <td>12h+</td>\n",
       "      <td>230</td>\n",
       "      <td>False</td>\n",
       "      <td>True</td>\n",
       "    </tr>\n",
       "    <tr>\n",
       "      <th>6004</th>\n",
       "      <td>28.0</td>\n",
       "      <td>90.0</td>\n",
       "      <td>12h+</td>\n",
       "      <td>231</td>\n",
       "      <td>False</td>\n",
       "      <td>True</td>\n",
       "    </tr>\n",
       "    <tr>\n",
       "      <th>6005</th>\n",
       "      <td>28.0</td>\n",
       "      <td>90.0</td>\n",
       "      <td>12h+</td>\n",
       "      <td>232</td>\n",
       "      <td>False</td>\n",
       "      <td>False</td>\n",
       "    </tr>\n",
       "    <tr>\n",
       "      <th>6006</th>\n",
       "      <td>28.0</td>\n",
       "      <td>90.0</td>\n",
       "      <td>12h+</td>\n",
       "      <td>233</td>\n",
       "      <td>False</td>\n",
       "      <td>True</td>\n",
       "    </tr>\n",
       "    <tr>\n",
       "      <th>6007</th>\n",
       "      <td>28.0</td>\n",
       "      <td>90.0</td>\n",
       "      <td>12h+</td>\n",
       "      <td>234</td>\n",
       "      <td>False</td>\n",
       "      <td>False</td>\n",
       "    </tr>\n",
       "    <tr>\n",
       "      <th>6008</th>\n",
       "      <td>28.0</td>\n",
       "      <td>90.0</td>\n",
       "      <td>12h+</td>\n",
       "      <td>235</td>\n",
       "      <td>False</td>\n",
       "      <td>True</td>\n",
       "    </tr>\n",
       "    <tr>\n",
       "      <th>6009</th>\n",
       "      <td>28.0</td>\n",
       "      <td>90.0</td>\n",
       "      <td>12h+</td>\n",
       "      <td>236</td>\n",
       "      <td>False</td>\n",
       "      <td>True</td>\n",
       "    </tr>\n",
       "    <tr>\n",
       "      <th>6010</th>\n",
       "      <td>28.0</td>\n",
       "      <td>90.0</td>\n",
       "      <td>12h+</td>\n",
       "      <td>237</td>\n",
       "      <td>False</td>\n",
       "      <td>True</td>\n",
       "    </tr>\n",
       "    <tr>\n",
       "      <th>6011</th>\n",
       "      <td>28.0</td>\n",
       "      <td>90.0</td>\n",
       "      <td>12h+</td>\n",
       "      <td>238</td>\n",
       "      <td>False</td>\n",
       "      <td>False</td>\n",
       "    </tr>\n",
       "    <tr>\n",
       "      <th>6012</th>\n",
       "      <td>28.0</td>\n",
       "      <td>90.0</td>\n",
       "      <td>12h+</td>\n",
       "      <td>239</td>\n",
       "      <td>False</td>\n",
       "      <td>False</td>\n",
       "    </tr>\n",
       "    <tr>\n",
       "      <th>6013</th>\n",
       "      <td>28.0</td>\n",
       "      <td>90.0</td>\n",
       "      <td>12h+</td>\n",
       "      <td>240</td>\n",
       "      <td>False</td>\n",
       "      <td>True</td>\n",
       "    </tr>\n",
       "    <tr>\n",
       "      <th>6014</th>\n",
       "      <td>28.0</td>\n",
       "      <td>90.0</td>\n",
       "      <td>12h+</td>\n",
       "      <td>241</td>\n",
       "      <td>False</td>\n",
       "      <td>True</td>\n",
       "    </tr>\n",
       "    <tr>\n",
       "      <th>6015</th>\n",
       "      <td>28.0</td>\n",
       "      <td>90.0</td>\n",
       "      <td>12h+</td>\n",
       "      <td>242</td>\n",
       "      <td>False</td>\n",
       "      <td>True</td>\n",
       "    </tr>\n",
       "    <tr>\n",
       "      <th>6016</th>\n",
       "      <td>28.0</td>\n",
       "      <td>90.0</td>\n",
       "      <td>12h+</td>\n",
       "      <td>243</td>\n",
       "      <td>False</td>\n",
       "      <td>False</td>\n",
       "    </tr>\n",
       "    <tr>\n",
       "      <th>6017</th>\n",
       "      <td>28.0</td>\n",
       "      <td>90.0</td>\n",
       "      <td>12h+</td>\n",
       "      <td>244</td>\n",
       "      <td>False</td>\n",
       "      <td>False</td>\n",
       "    </tr>\n",
       "    <tr>\n",
       "      <th>6018</th>\n",
       "      <td>28.0</td>\n",
       "      <td>90.0</td>\n",
       "      <td>12h+</td>\n",
       "      <td>245</td>\n",
       "      <td>False</td>\n",
       "      <td>True</td>\n",
       "    </tr>\n",
       "    <tr>\n",
       "      <th>6019</th>\n",
       "      <td>28.0</td>\n",
       "      <td>90.0</td>\n",
       "      <td>12h+</td>\n",
       "      <td>246</td>\n",
       "      <td>False</td>\n",
       "      <td>False</td>\n",
       "    </tr>\n",
       "    <tr>\n",
       "      <th>6020</th>\n",
       "      <td>28.0</td>\n",
       "      <td>90.0</td>\n",
       "      <td>12h+</td>\n",
       "      <td>247</td>\n",
       "      <td>False</td>\n",
       "      <td>True</td>\n",
       "    </tr>\n",
       "    <tr>\n",
       "      <th>6021</th>\n",
       "      <td>28.0</td>\n",
       "      <td>90.0</td>\n",
       "      <td>12h+</td>\n",
       "      <td>248</td>\n",
       "      <td>False</td>\n",
       "      <td>True</td>\n",
       "    </tr>\n",
       "    <tr>\n",
       "      <th>6022</th>\n",
       "      <td>28.0</td>\n",
       "      <td>90.0</td>\n",
       "      <td>12h+</td>\n",
       "      <td>249</td>\n",
       "      <td>False</td>\n",
       "      <td>False</td>\n",
       "    </tr>\n",
       "    <tr>\n",
       "      <th>6023</th>\n",
       "      <td>28.0</td>\n",
       "      <td>90.0</td>\n",
       "      <td>12h+</td>\n",
       "      <td>250</td>\n",
       "      <td>False</td>\n",
       "      <td>True</td>\n",
       "    </tr>\n",
       "  </tbody>\n",
       "</table>\n",
       "<p>6024 rows × 6 columns</p>\n",
       "</div>"
      ],
      "text/plain": [
       "      Price   SOC surplus_time   hh   sell   will\n",
       "0       4.0  30.0          12h    0  False  False\n",
       "1       4.0  30.0          12h    1  False   True\n",
       "2       4.0  30.0          12h    2  False   True\n",
       "3       4.0  30.0          12h    3  False   True\n",
       "4       4.0  30.0          12h    4  False   True\n",
       "5       4.0  30.0          12h    5  False   True\n",
       "6       4.0  30.0          12h    6  False  False\n",
       "7       4.0  30.0          12h    7  False   True\n",
       "8       4.0  30.0          12h    8  False  False\n",
       "9       4.0  30.0          12h    9  False   True\n",
       "10      4.0  30.0          12h   10  False   True\n",
       "11      4.0  30.0          12h   11  False   True\n",
       "12      4.0  30.0          12h   12  False   True\n",
       "13      4.0  30.0          12h   13  False   True\n",
       "14      4.0  30.0          12h   14  False   True\n",
       "15      4.0  30.0          12h   15  False   True\n",
       "16      4.0  30.0          12h   16  False  False\n",
       "17      4.0  30.0          12h   17  False   True\n",
       "18      4.0  30.0          12h   18  False  False\n",
       "19      4.0  30.0          12h   19  False   True\n",
       "20      4.0  30.0          12h   20  False   True\n",
       "21      4.0  30.0          12h   21  False   True\n",
       "22      4.0  30.0          12h   22  False   True\n",
       "23      4.0  30.0          12h   23  False   True\n",
       "24      4.0  30.0          12h   24  False   True\n",
       "25      4.0  30.0          12h   25  False   True\n",
       "26      4.0  30.0          12h   26  False  False\n",
       "27      4.0  30.0          12h   27  False  False\n",
       "28      4.0  30.0          12h   28  False   True\n",
       "29      4.0  30.0          12h   29  False   True\n",
       "...     ...   ...          ...  ...    ...    ...\n",
       "5994   28.0  90.0         12h+  221  False   True\n",
       "5995   28.0  90.0         12h+  222  False   True\n",
       "5996   28.0  90.0         12h+  223  False   True\n",
       "5997   28.0  90.0         12h+  224  False   True\n",
       "5998   28.0  90.0         12h+  225  False   True\n",
       "5999   28.0  90.0         12h+  226  False   True\n",
       "6000   28.0  90.0         12h+  227  False  False\n",
       "6001   28.0  90.0         12h+  228  False  False\n",
       "6002   28.0  90.0         12h+  229  False   True\n",
       "6003   28.0  90.0         12h+  230  False   True\n",
       "6004   28.0  90.0         12h+  231  False   True\n",
       "6005   28.0  90.0         12h+  232  False  False\n",
       "6006   28.0  90.0         12h+  233  False   True\n",
       "6007   28.0  90.0         12h+  234  False  False\n",
       "6008   28.0  90.0         12h+  235  False   True\n",
       "6009   28.0  90.0         12h+  236  False   True\n",
       "6010   28.0  90.0         12h+  237  False   True\n",
       "6011   28.0  90.0         12h+  238  False  False\n",
       "6012   28.0  90.0         12h+  239  False  False\n",
       "6013   28.0  90.0         12h+  240  False   True\n",
       "6014   28.0  90.0         12h+  241  False   True\n",
       "6015   28.0  90.0         12h+  242  False   True\n",
       "6016   28.0  90.0         12h+  243  False  False\n",
       "6017   28.0  90.0         12h+  244  False  False\n",
       "6018   28.0  90.0         12h+  245  False   True\n",
       "6019   28.0  90.0         12h+  246  False  False\n",
       "6020   28.0  90.0         12h+  247  False   True\n",
       "6021   28.0  90.0         12h+  248  False   True\n",
       "6022   28.0  90.0         12h+  249  False  False\n",
       "6023   28.0  90.0         12h+  250  False   True\n",
       "\n",
       "[6024 rows x 6 columns]"
      ]
     },
     "execution_count": 93,
     "metadata": {},
     "output_type": "execute_result"
    }
   ],
   "source": [
    "bhv_hh"
   ]
  }
 ],
 "metadata": {
  "kernelspec": {
   "display_name": "alenv",
   "language": "python",
   "name": "alenv"
  },
  "language_info": {
   "codemirror_mode": {
    "name": "ipython",
    "version": 3
   },
   "file_extension": ".py",
   "mimetype": "text/x-python",
   "name": "python",
   "nbconvert_exporter": "python",
   "pygments_lexer": "ipython3",
   "version": "3.7.2"
  }
 },
 "nbformat": 4,
 "nbformat_minor": 4
}
