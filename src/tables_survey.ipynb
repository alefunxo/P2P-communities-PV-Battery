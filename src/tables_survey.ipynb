{
 "cells": [
  {
   "cell_type": "code",
   "execution_count": 1,
   "metadata": {},
   "outputs": [
    {
     "data": {
      "text/html": [
       "<style>.container { width:80% !important; }</style>"
      ],
      "text/plain": [
       "<IPython.core.display.HTML object>"
      ]
     },
     "metadata": {},
     "output_type": "display_data"
    }
   ],
   "source": [
    "from IPython.core.display import display, HTML\n",
    "display(HTML(\"<style>.container { width:80% !important; }</style>\"))"
   ]
  },
  {
   "cell_type": "code",
   "execution_count": 2,
   "metadata": {},
   "outputs": [],
   "source": [
    "import sys,os\n",
    "import numpy as np\n",
    "import pandas as pd\n",
    "import matplotlib.pyplot as plt\n",
    "from pathlib import Path\n",
    "import itertools\n",
    "from itertools import groupby\n",
    "from matplotlib.patches import FancyBboxPatch\n",
    "import seaborn as sns\n",
    "from scipy.stats import ttest_rel,ttest_ind\n",
    "from scipy.stats import chisquare,chi2_contingency\n",
    "sns.set_style(\"white\")"
   ]
  },
  {
   "cell_type": "markdown",
   "metadata": {},
   "source": [
    "Chi square tests were done in R"
   ]
  },
  {
   "cell_type": "markdown",
   "metadata": {},
   "source": [
    "# Load the survey results"
   ]
  },
  {
   "cell_type": "code",
   "execution_count": 3,
   "metadata": {},
   "outputs": [],
   "source": [
    "colnames=['Finished','p2p_Filter1','p2p_dem_Gender','p2p_dem__birth','p2p_dem_househ_sit','p2p_dem_househ_size',\n",
    "          'p2p_dem_househ_kids','p2p_dem_activity','p2p_dem_activity_1_TEXT','p2p_dem_activity_3_TEXT',\n",
    "          'p2p_dem_activity_4_TEXT','p2p_dem_educ','p2p_dem_politics','P2P_Values_Env_1','P2P_Values_Env_2',\n",
    "          'P2P_Values_Env_3','P2P_Values_Env_4','P2P_Values_Env_5','p2p_dem2_energy','p2p_dem2_roof',\n",
    "          'p2p_dem2_roof_3_TEXT','p2p_dem2_space_1','p2p_dem2_levels','p2p_dem3_PV','p2p_dem3_PV_power_1',\n",
    "          'p2p_dem3_ESS','p2p_dem3_stroage_cap_1','p2p_dem3_technology_1','p2p_dem3_technology_2',\n",
    "          'p2p_dem3_technology_3','p2p_dem3_technology_4','p2p_check_forecast','p2p_check_forecast2',\n",
    "          'p2p_willingness','p2p_dec_4c30S_12h','p2p_dec_4c60S_12h','p2p_dec_4c90S_12h','p2p_dec_12c30S_12h',\n",
    "          'p2p_dec_12c60S_12h','p2p_dec_12c90S_12h','p2p_dec_20c30S_12h','p2p_dec_20c60S_12h','p2p_dec_20c90S_12h',\n",
    "          'p2p_dec_28c30S_12h','p2p_dec_28c60S_12h','p2p_dec_28c90S_12h','p2p_dec_check1','p2p_dec_4c30s_12h+',\n",
    "          'p2p_dec_4c60s_12h+','p2p_dec_4c90s_12h+','p2p_dec_12c30s_12h+','p2p_dec_12c60s_12h+','p2p_dec_12c90s_12h+',\n",
    "          'p2p_dec_20c30s_12h+','p2p_dec_20c60s_12h+','p2p_dec_20c90s_12h+','p2p_dec_28c30s_12h+','p2p_dec_28c60s_12h+',\n",
    "          'p2p_dec_28c90s_12h+','p2p_dec_check2','p2p_DecMod_1','p2p_DecMod_2','p2p_DecMod_3','p2p_DecMod_4',\n",
    "          'p2p_Degree_Autonomy','p2p_Willing_particip_2','p2p_Eval_1','p2p_willingn_reasons_1','p2p_willingn_reasons_2',\n",
    "          'p2p_willingn_reasons_3','p2p_willingn_reasons_4','p2p_willingn_reasons_5','p2p_willingn_reasons_6',\n",
    "          'p2p_willingn_reasons_7','p2p_willingn_reasons_8','p2p_willingn_reasons_9','p2p_willingn_reasons_10',\n",
    "          'p2p_willingn_reasons_11','p2p_willingn_reasons_12','p2p_willingn_reasons_13','p2p_willingn_reasons_14',\n",
    "          'p2p_willingn_reasons_15','p2p_willingn_reasons_15_TEXT','p2p_Willingn_comment','p2p_Nei_Pol',\n",
    "          'p2p_Nei_attach_1','p2p_Nei_attach_2','p2p_Nei_attach_3','p2p_Nei_attach_6','p2p_Emo_Nei_1','p2p_Emo_Nei_2',\n",
    "          'p2p_dem4_risk','p2p_Nei_attach_1.0','p2p_Nei_attach_2.0','P2P_CC_Emo_1','P2P_CC_Emo_2','P2P_CC_Emo_3',\n",
    "          'P2P_CC_Emo_4','P2P_CC_Emo_5','P2P_CC_Emo_6','P2P_CC_Emo_7','P2P_CC_Emo_8','P2P_CC_Emo_9','P2P_CC_Emo_10']"
   ]
  },
  {
   "cell_type": "code",
   "execution_count": 4,
   "metadata": {},
   "outputs": [],
   "source": [
    "df=pd.read_csv('P2P_Data_Germany_March2020_completes_200314_final.csv',usecols=colnames)"
   ]
  },
  {
   "cell_type": "code",
   "execution_count": 5,
   "metadata": {},
   "outputs": [
    {
     "data": {
      "text/plain": [
       "(251, 104)"
      ]
     },
     "execution_count": 5,
     "metadata": {},
     "output_type": "execute_result"
    }
   ],
   "source": [
    "df.shape"
   ]
  },
  {
   "cell_type": "code",
   "execution_count": 6,
   "metadata": {},
   "outputs": [],
   "source": [
    "df=df.reset_index(drop=True)"
   ]
  },
  {
   "cell_type": "code",
   "execution_count": 7,
   "metadata": {},
   "outputs": [
    {
     "data": {
      "text/html": [
       "<div>\n",
       "<style scoped>\n",
       "    .dataframe tbody tr th:only-of-type {\n",
       "        vertical-align: middle;\n",
       "    }\n",
       "\n",
       "    .dataframe tbody tr th {\n",
       "        vertical-align: top;\n",
       "    }\n",
       "\n",
       "    .dataframe thead th {\n",
       "        text-align: right;\n",
       "    }\n",
       "</style>\n",
       "<table border=\"1\" class=\"dataframe\">\n",
       "  <thead>\n",
       "    <tr style=\"text-align: right;\">\n",
       "      <th></th>\n",
       "      <th>Finished</th>\n",
       "      <th>p2p_Filter1</th>\n",
       "      <th>p2p_dem_Gender</th>\n",
       "      <th>p2p_dem__birth</th>\n",
       "      <th>p2p_dem_househ_sit</th>\n",
       "      <th>p2p_dem_househ_size</th>\n",
       "      <th>p2p_dem_househ_kids</th>\n",
       "      <th>p2p_dem_activity</th>\n",
       "      <th>p2p_dem_activity_1_TEXT</th>\n",
       "      <th>p2p_dem_activity_3_TEXT</th>\n",
       "      <th>...</th>\n",
       "      <th>P2P_CC_Emo_1</th>\n",
       "      <th>P2P_CC_Emo_2</th>\n",
       "      <th>P2P_CC_Emo_3</th>\n",
       "      <th>P2P_CC_Emo_4</th>\n",
       "      <th>P2P_CC_Emo_5</th>\n",
       "      <th>P2P_CC_Emo_6</th>\n",
       "      <th>P2P_CC_Emo_7</th>\n",
       "      <th>P2P_CC_Emo_8</th>\n",
       "      <th>P2P_CC_Emo_9</th>\n",
       "      <th>P2P_CC_Emo_10</th>\n",
       "    </tr>\n",
       "  </thead>\n",
       "  <tbody>\n",
       "    <tr>\n",
       "      <th>0</th>\n",
       "      <td>1</td>\n",
       "      <td>1</td>\n",
       "      <td>1</td>\n",
       "      <td>68</td>\n",
       "      <td>3</td>\n",
       "      <td>2</td>\n",
       "      <td>1</td>\n",
       "      <td>4</td>\n",
       "      <td></td>\n",
       "      <td></td>\n",
       "      <td>...</td>\n",
       "      <td>5</td>\n",
       "      <td>1</td>\n",
       "      <td>6</td>\n",
       "      <td>1</td>\n",
       "      <td>6</td>\n",
       "      <td>2</td>\n",
       "      <td>5</td>\n",
       "      <td>2</td>\n",
       "      <td>4</td>\n",
       "      <td>6</td>\n",
       "    </tr>\n",
       "    <tr>\n",
       "      <th>1</th>\n",
       "      <td>1</td>\n",
       "      <td>1</td>\n",
       "      <td>1</td>\n",
       "      <td>48</td>\n",
       "      <td>2</td>\n",
       "      <td>2</td>\n",
       "      <td>1</td>\n",
       "      <td>4</td>\n",
       "      <td></td>\n",
       "      <td></td>\n",
       "      <td>...</td>\n",
       "      <td>7</td>\n",
       "      <td>1</td>\n",
       "      <td>2</td>\n",
       "      <td>1</td>\n",
       "      <td>4</td>\n",
       "      <td>3</td>\n",
       "      <td>1</td>\n",
       "      <td>2</td>\n",
       "      <td>2</td>\n",
       "      <td>1</td>\n",
       "    </tr>\n",
       "    <tr>\n",
       "      <th>2</th>\n",
       "      <td>1</td>\n",
       "      <td>1</td>\n",
       "      <td>2</td>\n",
       "      <td>58</td>\n",
       "      <td>1</td>\n",
       "      <td>4</td>\n",
       "      <td>1</td>\n",
       "      <td>3</td>\n",
       "      <td></td>\n",
       "      <td></td>\n",
       "      <td>...</td>\n",
       "      <td>3</td>\n",
       "      <td>1</td>\n",
       "      <td>2</td>\n",
       "      <td>2</td>\n",
       "      <td>2</td>\n",
       "      <td>2</td>\n",
       "      <td>2</td>\n",
       "      <td>4</td>\n",
       "      <td>4</td>\n",
       "      <td>2</td>\n",
       "    </tr>\n",
       "    <tr>\n",
       "      <th>3</th>\n",
       "      <td>1</td>\n",
       "      <td>1</td>\n",
       "      <td>2</td>\n",
       "      <td>42</td>\n",
       "      <td>3</td>\n",
       "      <td>2</td>\n",
       "      <td>1</td>\n",
       "      <td>3</td>\n",
       "      <td></td>\n",
       "      <td>gf</td>\n",
       "      <td>...</td>\n",
       "      <td>4</td>\n",
       "      <td>6</td>\n",
       "      <td>4</td>\n",
       "      <td>3</td>\n",
       "      <td>5</td>\n",
       "      <td>5</td>\n",
       "      <td>3</td>\n",
       "      <td>4</td>\n",
       "      <td>4</td>\n",
       "      <td>4</td>\n",
       "    </tr>\n",
       "    <tr>\n",
       "      <th>4</th>\n",
       "      <td>1</td>\n",
       "      <td>1</td>\n",
       "      <td>1</td>\n",
       "      <td>72</td>\n",
       "      <td>2</td>\n",
       "      <td>2</td>\n",
       "      <td>1</td>\n",
       "      <td>3</td>\n",
       "      <td></td>\n",
       "      <td>Immobilienkauffrau</td>\n",
       "      <td>...</td>\n",
       "      <td>5</td>\n",
       "      <td>2</td>\n",
       "      <td>5</td>\n",
       "      <td>3</td>\n",
       "      <td>5</td>\n",
       "      <td>3</td>\n",
       "      <td>5</td>\n",
       "      <td>4</td>\n",
       "      <td>5</td>\n",
       "      <td>3</td>\n",
       "    </tr>\n",
       "  </tbody>\n",
       "</table>\n",
       "<p>5 rows × 104 columns</p>\n",
       "</div>"
      ],
      "text/plain": [
       "   Finished p2p_Filter1  p2p_dem_Gender  p2p_dem__birth  p2p_dem_househ_sit  \\\n",
       "0         1           1               1              68                   3   \n",
       "1         1           1               1              48                   2   \n",
       "2         1           1               2              58                   1   \n",
       "3         1           1               2              42                   3   \n",
       "4         1           1               1              72                   2   \n",
       "\n",
       "   p2p_dem_househ_size  p2p_dem_househ_kids  p2p_dem_activity  \\\n",
       "0                    2                    1                 4   \n",
       "1                    2                    1                 4   \n",
       "2                    4                    1                 3   \n",
       "3                    2                    1                 3   \n",
       "4                    2                    1                 3   \n",
       "\n",
       "  p2p_dem_activity_1_TEXT p2p_dem_activity_3_TEXT  ... P2P_CC_Emo_1  \\\n",
       "0                                                  ...            5   \n",
       "1                                                  ...            7   \n",
       "2                                                  ...            3   \n",
       "3                                              gf  ...            4   \n",
       "4                              Immobilienkauffrau  ...            5   \n",
       "\n",
       "   P2P_CC_Emo_2  P2P_CC_Emo_3  P2P_CC_Emo_4  P2P_CC_Emo_5  P2P_CC_Emo_6  \\\n",
       "0             1             6             1             6             2   \n",
       "1             1             2             1             4             3   \n",
       "2             1             2             2             2             2   \n",
       "3             6             4             3             5             5   \n",
       "4             2             5             3             5             3   \n",
       "\n",
       "   P2P_CC_Emo_7  P2P_CC_Emo_8  P2P_CC_Emo_9  P2P_CC_Emo_10  \n",
       "0             5             2             4              6  \n",
       "1             1             2             2              1  \n",
       "2             2             4             4              2  \n",
       "3             3             4             4              4  \n",
       "4             5             4             5              3  \n",
       "\n",
       "[5 rows x 104 columns]"
      ]
     },
     "execution_count": 7,
     "metadata": {},
     "output_type": "execute_result"
    }
   ],
   "source": [
    "df.head()"
   ]
  },
  {
   "cell_type": "markdown",
   "metadata": {},
   "source": [
    "# To normalize or not to normalize?"
   ]
  },
  {
   "cell_type": "code",
   "execution_count": 8,
   "metadata": {},
   "outputs": [],
   "source": [
    "norm=True"
   ]
  },
  {
   "cell_type": "code",
   "execution_count": 9,
   "metadata": {},
   "outputs": [],
   "source": [
    "def serie_map(serie,to_map):\n",
    "    serie.index=serie.index.map(to_map)\n",
    "    return serie"
   ]
  },
  {
   "cell_type": "code",
   "execution_count": 10,
   "metadata": {},
   "outputs": [],
   "source": [
    "dict_pol=dict(zip(np.arange(1,11), ['Extreme left','2','3','4','Center','6','7','8','9','Extreme right']))\n",
    "dict_rel=dict(zip(np.arange(1,6), ['Single','Relationship','Married','Divorced','Widow']))\n",
    "dict_sit=dict(zip(np.arange(1,6),['Student','Unemployed ','Full-time work','Part-time','Pensioner']))\n",
    "dict_edu=dict(zip(np.arange(1,7),['Secondary','Realschule','Abitur','Bachelor','Master','PhD']))\n",
    "dict_gend=dict(zip(np.arange(1,3),['Female','Male']))\n",
    "\n",
    "dict_likert_imp=dict(zip(np.arange(0,9),['Contrary to my\\nguiding principles','Not at all important','Low importance',\n",
    "                                         'Slightly important','Neutral','Moderately important','Very important',\n",
    "                                         'Extremely important','Paramount']))\n",
    "dict_ener=dict(zip(np.arange(1,5),['Fossil','Renewable','both','NA']))\n",
    "dict_roof=dict(zip(np.arange(1,4),['Slope','Flat','Other']))\n",
    "dict_tf=dict(zip(np.arange(1,3),['Yes','No']))\n",
    "dict_likert_int=dict(zip(np.arange(1,6),['Extremely unlikely','Unlikely','Neutral','Likely','Extremely likely']))\n",
    "dict_likert_agr=dict(zip(np.arange(1,8),['Strongly disagree','Disagree','Somewhat disagree','Neither agree or disagree',\n",
    "                                         'Somewhat agree','Agree','Strongly agree ']))\n",
    "dict_sell=dict(zip(np.arange(1,3),['Sell','Store']))\n",
    "dict_risk=dict(zip(np.arange(1,11), ['Totally averse','2','3','4','5','6','7','8','9','Risk taker']))"
   ]
  },
  {
   "cell_type": "markdown",
   "metadata": {},
   "source": [
    "# Socio-demographics "
   ]
  },
  {
   "cell_type": "code",
   "execution_count": 11,
   "metadata": {},
   "outputs": [
    {
     "data": {
      "text/plain": [
       "0.701195219123506"
      ]
     },
     "execution_count": 11,
     "metadata": {},
     "output_type": "execute_result"
    }
   ],
   "source": [
    "176/251"
   ]
  },
  {
   "cell_type": "code",
   "execution_count": 12,
   "metadata": {},
   "outputs": [
    {
     "data": {
      "text/plain": [
       "(176, 104)"
      ]
     },
     "execution_count": 12,
     "metadata": {},
     "output_type": "execute_result"
    }
   ],
   "source": [
    "df.loc[df.p2p_willingness==1].shape"
   ]
  },
  {
   "cell_type": "code",
   "execution_count": 13,
   "metadata": {},
   "outputs": [
    {
     "data": {
      "text/plain": [
       "(75, 104)"
      ]
     },
     "execution_count": 13,
     "metadata": {},
     "output_type": "execute_result"
    }
   ],
   "source": [
    "df.loc[df.p2p_willingness==2].shape"
   ]
  },
  {
   "cell_type": "code",
   "execution_count": 15,
   "metadata": {},
   "outputs": [
    {
     "name": "stdout",
     "output_type": "stream",
     "text": [
      "0.5056818181818182\n",
      "0.5866666666666667\n"
     ]
    }
   ],
   "source": [
    "print(df.loc[(df.p2p_willingness==1) & (df.p2p_dem_Gender==1),'p2p_dem_Gender'].count()/176) # women participating\n",
    "print(df.loc[(df.p2p_willingness==2) & (df.p2p_dem_Gender==1),'p2p_dem_Gender'].count()/75) # women not part"
   ]
  },
  {
   "cell_type": "code",
   "execution_count": 16,
   "metadata": {},
   "outputs": [
    {
     "name": "stdout",
     "output_type": "stream",
     "text": [
      "False\n",
      "False\n",
      "False\n"
     ]
    }
   ],
   "source": [
    "print(ttest_ind(*df.groupby('p2p_willingness')['p2p_dem_Gender'].apply(lambda x:list(x)))[1]<0.001)\n",
    "print(ttest_ind(*df.groupby('p2p_willingness')['p2p_dem_Gender'].apply(lambda x:list(x)))[1]<0.01)\n",
    "print(ttest_ind(*df.groupby('p2p_willingness')['p2p_dem_Gender'].apply(lambda x:list(x)))[1]<0.05)"
   ]
  },
  {
   "cell_type": "markdown",
   "metadata": {},
   "source": [
    "## Age (the numbers are the year of birth so we need to transform to the age doing 101-p2p_dem__birth) "
   ]
  },
  {
   "cell_type": "code",
   "execution_count": 17,
   "metadata": {},
   "outputs": [
    {
     "name": "stdout",
     "output_type": "stream",
     "text": [
      "51.57954545454545\n",
      "55.04\n"
     ]
    }
   ],
   "source": [
    "print(101-df.loc[(df.p2p_willingness==1),'p2p_dem__birth'].mean())\n",
    "print(101-df.loc[(df.p2p_willingness==2),'p2p_dem__birth'].mean())"
   ]
  },
  {
   "cell_type": "code",
   "execution_count": 18,
   "metadata": {},
   "outputs": [
    {
     "name": "stdout",
     "output_type": "stream",
     "text": [
      "54.5\n",
      "60.0\n"
     ]
    }
   ],
   "source": [
    "print(101-df.loc[(df.p2p_willingness==1),'p2p_dem__birth'].median())\n",
    "print(101-df.loc[(df.p2p_willingness==2),'p2p_dem__birth'].median())"
   ]
  },
  {
   "cell_type": "code",
   "execution_count": 19,
   "metadata": {},
   "outputs": [
    {
     "name": "stdout",
     "output_type": "stream",
     "text": [
      "55.0\n"
     ]
    }
   ],
   "source": [
    "print(101-df.loc[:,'p2p_dem__birth'].median())"
   ]
  },
  {
   "cell_type": "code",
   "execution_count": 20,
   "metadata": {},
   "outputs": [
    {
     "name": "stdout",
     "output_type": "stream",
     "text": [
      "52.613545816733065\n"
     ]
    }
   ],
   "source": [
    "print(101-df.loc[:,'p2p_dem__birth'].mean())"
   ]
  },
  {
   "cell_type": "code",
   "execution_count": 21,
   "metadata": {},
   "outputs": [
    {
     "name": "stdout",
     "output_type": "stream",
     "text": [
      "14.32166386202708\n",
      "14.761123914552687\n",
      "13.005653656276836\n"
     ]
    }
   ],
   "source": [
    "print(df.loc[:,'p2p_dem__birth'].std())\n",
    "print(df.loc[(df.p2p_willingness==1),'p2p_dem__birth'].std())\n",
    "print(df.loc[(df.p2p_willingness==2),'p2p_dem__birth'].std())"
   ]
  },
  {
   "cell_type": "code",
   "execution_count": 22,
   "metadata": {},
   "outputs": [
    {
     "name": "stdout",
     "output_type": "stream",
     "text": [
      "Ttest_indResult(statistic=1.759554725698209, pvalue=0.07971136167069845)\n"
     ]
    }
   ],
   "source": [
    "print(ttest_ind(*df.groupby('p2p_willingness')['p2p_dem__birth'].apply(lambda x:list(x))))\n"
   ]
  },
  {
   "cell_type": "markdown",
   "metadata": {},
   "source": [
    "## Civil status"
   ]
  },
  {
   "cell_type": "code",
   "execution_count": 23,
   "metadata": {},
   "outputs": [
    {
     "name": "stdout",
     "output_type": "stream",
     "text": [
      "18.181818181818183\n",
      "16.477272727272727\n",
      "54.54545454545454\n",
      "5.113636363636364\n",
      "5.681818181818182\n"
     ]
    }
   ],
   "source": [
    "print(df.loc[(df.p2p_willingness==1) & (df.p2p_dem_househ_sit==1),'p2p_dem_househ_sit'].count()/176*100) # single participating\n",
    "print(df.loc[(df.p2p_willingness==1) & (df.p2p_dem_househ_sit==2),'p2p_dem_househ_sit'].count()/176*100) # rltshp participating\n",
    "print(df.loc[(df.p2p_willingness==1) & (df.p2p_dem_househ_sit==3),'p2p_dem_househ_sit'].count()/176*100) # married participating\n",
    "print(df.loc[(df.p2p_willingness==1) & (df.p2p_dem_househ_sit==4),'p2p_dem_househ_sit'].count()/176*100) # divorced participating\n",
    "print(df.loc[(df.p2p_willingness==1) & (df.p2p_dem_househ_sit==5),'p2p_dem_househ_sit'].count()/176*100) # widow participating\n"
   ]
  },
  {
   "cell_type": "code",
   "execution_count": 24,
   "metadata": {},
   "outputs": [
    {
     "name": "stdout",
     "output_type": "stream",
     "text": [
      "8\n",
      "11\n",
      "50\n",
      "4\n",
      "2\n"
     ]
    }
   ],
   "source": [
    "print(df.loc[(df.p2p_willingness==2) & (df.p2p_dem_househ_sit==1),'p2p_dem_househ_sit'].count())\n",
    "print(df.loc[(df.p2p_willingness==2) & (df.p2p_dem_househ_sit==2),'p2p_dem_househ_sit'].count())\n",
    "print(df.loc[(df.p2p_willingness==2) & (df.p2p_dem_househ_sit==3),'p2p_dem_househ_sit'].count())\n",
    "print(df.loc[(df.p2p_willingness==2) & (df.p2p_dem_househ_sit==4),'p2p_dem_househ_sit'].count())\n",
    "print(df.loc[(df.p2p_willingness==2) & (df.p2p_dem_househ_sit==5),'p2p_dem_househ_sit'].count())\n"
   ]
  },
  {
   "cell_type": "code",
   "execution_count": 23,
   "metadata": {},
   "outputs": [
    {
     "name": "stdout",
     "output_type": "stream",
     "text": [
      "32\n",
      "29\n",
      "96\n",
      "9\n",
      "10\n"
     ]
    }
   ],
   "source": [
    "print(df.loc[(df.p2p_willingness==1) & (df.p2p_dem_househ_sit==1),'p2p_dem_househ_sit'].count())\n",
    "print(df.loc[(df.p2p_willingness==1) & (df.p2p_dem_househ_sit==2),'p2p_dem_househ_sit'].count())\n",
    "print(df.loc[(df.p2p_willingness==1) & (df.p2p_dem_househ_sit==3),'p2p_dem_househ_sit'].count())\n",
    "print(df.loc[(df.p2p_willingness==1) & (df.p2p_dem_househ_sit==4),'p2p_dem_househ_sit'].count())\n",
    "print(df.loc[(df.p2p_willingness==1) & (df.p2p_dem_househ_sit==5),'p2p_dem_househ_sit'].count())\n"
   ]
  },
  {
   "cell_type": "code",
   "execution_count": 168,
   "metadata": {},
   "outputs": [],
   "source": [
    "df.loc[:,['p2p_willingness','p2p_dem_househ_sit','p2p_dem_activity', 'p2p_dem_educ','p2p_dem2_energy']].to_csv('chi2.csv')"
   ]
  },
  {
   "cell_type": "code",
   "execution_count": 166,
   "metadata": {},
   "outputs": [],
   "source": [
    "cont_1=[[32,8],[29,11],[96,50],[9,4],[10,2]]"
   ]
  },
  {
   "cell_type": "code",
   "execution_count": 167,
   "metadata": {},
   "outputs": [
    {
     "data": {
      "text/plain": [
       "[[32, 8], [29, 11], [96, 50], [9, 4], [10, 2]]"
      ]
     },
     "execution_count": 167,
     "metadata": {},
     "output_type": "execute_result"
    }
   ],
   "source": [
    "cont_1"
   ]
  },
  {
   "cell_type": "code",
   "execution_count": 158,
   "metadata": {},
   "outputs": [
    {
     "name": "stdout",
     "output_type": "stream",
     "text": [
      "chi2 4.305219486088492\n",
      "p 0.36627196660911904\n",
      "dof 4\n",
      "expected [[ 28.04780876  11.95219124]\n",
      " [ 28.04780876  11.95219124]\n",
      " [102.37450199  43.62549801]\n",
      " [  9.11553785   3.88446215]\n",
      " [  8.41434263   3.58565737]]\n"
     ]
    }
   ],
   "source": [
    "chi2, p, dof, expected=chi2_contingency(cont_1)\n",
    "print('chi2 {}'.format(chi2) )\n",
    "print('p {}'.format(p) )\n",
    "print('dof {}'.format(dof) )\n",
    "print('expected {}'.format(expected) )"
   ]
  },
  {
   "cell_type": "code",
   "execution_count": 165,
   "metadata": {},
   "outputs": [],
   "source": [
    "df.to_excel('to_R.xlsx')"
   ]
  },
  {
   "cell_type": "code",
   "execution_count": 162,
   "metadata": {},
   "outputs": [
    {
     "data": {
      "text/plain": [
       "2      1\n",
       "12     1\n",
       "14     1\n",
       "15     1\n",
       "17     1\n",
       "21     1\n",
       "24     1\n",
       "30     1\n",
       "39     1\n",
       "41     1\n",
       "64     1\n",
       "68     1\n",
       "75     1\n",
       "83     1\n",
       "85     1\n",
       "152    1\n",
       "161    1\n",
       "179    1\n",
       "194    1\n",
       "196    1\n",
       "198    1\n",
       "201    1\n",
       "204    1\n",
       "209    1\n",
       "215    1\n",
       "229    1\n",
       "233    1\n",
       "235    1\n",
       "236    1\n",
       "240    1\n",
       "241    1\n",
       "245    1\n",
       "Name: p2p_dem_househ_sit, dtype: int64"
      ]
     },
     "execution_count": 162,
     "metadata": {},
     "output_type": "execute_result"
    }
   ],
   "source": [
    "df.loc[(df.p2p_willingness==1) & (df.p2p_dem_househ_sit==1),'p2p_dem_househ_sit']"
   ]
  },
  {
   "cell_type": "code",
   "execution_count": 159,
   "metadata": {},
   "outputs": [
    {
     "name": "stdout",
     "output_type": "stream",
     "text": [
      "Power_divergenceResult(statistic=136.01333333333332, pvalue=nan)\n"
     ]
    }
   ],
   "source": [
    "print(chisquare(*df.groupby('p2p_willingness')['p2p_dem_househ_sit'].count()))\n"
   ]
  },
  {
   "cell_type": "code",
   "execution_count": 161,
   "metadata": {},
   "outputs": [
    {
     "data": {
      "text/plain": [
       "p2p_willingness\n",
       "1    176\n",
       "2     75\n",
       "Name: p2p_dem_househ_sit, dtype: int64"
      ]
     },
     "execution_count": 161,
     "metadata": {},
     "output_type": "execute_result"
    }
   ],
   "source": [
    "df.groupby('p2p_willingness')['p2p_dem_househ_sit'].count()"
   ]
  },
  {
   "cell_type": "code",
   "execution_count": 137,
   "metadata": {},
   "outputs": [
    {
     "data": {
      "text/plain": [
       "Ttest_indResult(statistic=nan, pvalue=nan)"
      ]
     },
     "execution_count": 137,
     "metadata": {},
     "output_type": "execute_result"
    }
   ],
   "source": [
    "ttest_ind(df.loc[(df.p2p_willingness==1) & (df.p2p_dem_househ_sit==2),'p2p_dem_househ_sit'],\n",
    "          df.loc[(df.p2p_willingness==2) & (df.p2p_dem_househ_sit==2),'p2p_dem_househ_sit'])"
   ]
  },
  {
   "cell_type": "code",
   "execution_count": 138,
   "metadata": {},
   "outputs": [
    {
     "data": {
      "text/plain": [
       "Ttest_indResult(statistic=nan, pvalue=nan)"
      ]
     },
     "execution_count": 138,
     "metadata": {},
     "output_type": "execute_result"
    }
   ],
   "source": [
    "ttest_ind(df.loc[(df.p2p_willingness==1) & (df.p2p_dem_househ_sit==3),'p2p_dem_househ_sit'],\n",
    "          df.loc[(df.p2p_willingness==2) & (df.p2p_dem_househ_sit==3),'p2p_dem_househ_sit'])"
   ]
  },
  {
   "cell_type": "code",
   "execution_count": 139,
   "metadata": {},
   "outputs": [
    {
     "data": {
      "text/plain": [
       "Ttest_indResult(statistic=nan, pvalue=nan)"
      ]
     },
     "execution_count": 139,
     "metadata": {},
     "output_type": "execute_result"
    }
   ],
   "source": [
    "ttest_ind(df.loc[(df.p2p_willingness==1) & (df.p2p_dem_househ_sit==4),'p2p_dem_househ_sit'],\n",
    "          df.loc[(df.p2p_willingness==2) & (df.p2p_dem_househ_sit==4),'p2p_dem_househ_sit'])"
   ]
  },
  {
   "cell_type": "code",
   "execution_count": 140,
   "metadata": {},
   "outputs": [
    {
     "data": {
      "text/plain": [
       "Ttest_indResult(statistic=nan, pvalue=nan)"
      ]
     },
     "execution_count": 140,
     "metadata": {},
     "output_type": "execute_result"
    }
   ],
   "source": [
    "ttest_ind(df.loc[(df.p2p_willingness==1) & (df.p2p_dem_househ_sit==5),'p2p_dem_househ_sit'],\n",
    "          df.loc[(df.p2p_willingness==2) & (df.p2p_dem_househ_sit==5),'p2p_dem_househ_sit'])"
   ]
  },
  {
   "cell_type": "code",
   "execution_count": 142,
   "metadata": {},
   "outputs": [
    {
     "data": {
      "text/plain": [
       "2      1\n",
       "12     1\n",
       "14     1\n",
       "15     1\n",
       "17     1\n",
       "21     1\n",
       "24     1\n",
       "30     1\n",
       "39     1\n",
       "41     1\n",
       "64     1\n",
       "68     1\n",
       "75     1\n",
       "83     1\n",
       "85     1\n",
       "152    1\n",
       "161    1\n",
       "179    1\n",
       "194    1\n",
       "196    1\n",
       "198    1\n",
       "201    1\n",
       "204    1\n",
       "209    1\n",
       "215    1\n",
       "229    1\n",
       "233    1\n",
       "235    1\n",
       "236    1\n",
       "240    1\n",
       "241    1\n",
       "245    1\n",
       "Name: p2p_dem_househ_sit, dtype: int64"
      ]
     },
     "execution_count": 142,
     "metadata": {},
     "output_type": "execute_result"
    }
   ],
   "source": [
    "df.loc[(df.p2p_willingness==1) & (df.p2p_dem_househ_sit==1),'p2p_dem_househ_sit']\n",
    "          "
   ]
  },
  {
   "cell_type": "code",
   "execution_count": 84,
   "metadata": {},
   "outputs": [
    {
     "name": "stdout",
     "output_type": "stream",
     "text": [
      "Ttest_indResult(statistic=nan, pvalue=nan)\n"
     ]
    }
   ],
   "source": [
    "print(ttest_ind(*df.groupby(['p2p_dem_househ_sit','p2p_willingness'])['p2p_dem_househ_sit'].apply(lambda x:list(x))[4:6]))"
   ]
  },
  {
   "cell_type": "code",
   "execution_count": 62,
   "metadata": {},
   "outputs": [
    {
     "name": "stdout",
     "output_type": "stream",
     "text": [
      "Ttest_indResult(statistic=-0.8270646936446917, pvalue=0.40899227075761124)\n"
     ]
    }
   ],
   "source": [
    "print(ttest_ind(*df.groupby('p2p_willingness')['p2p_dem_househ_sit'].apply(lambda x:list(x))))"
   ]
  },
  {
   "cell_type": "code",
   "execution_count": 68,
   "metadata": {},
   "outputs": [
    {
     "data": {
      "text/plain": [
       "Ttest_indResult(statistic=nan, pvalue=nan)"
      ]
     },
     "execution_count": 68,
     "metadata": {},
     "output_type": "execute_result"
    }
   ],
   "source": [
    "ttest_ind(*df.loc[(df.p2p_dem_househ_sit==3)].groupby('p2p_willingness')['p2p_dem_househ_sit'].apply(lambda x:list(x)))"
   ]
  },
  {
   "cell_type": "code",
   "execution_count": 92,
   "metadata": {},
   "outputs": [
    {
     "name": "stdout",
     "output_type": "stream",
     "text": [
      "4.382470119521913\n",
      "4.382470119521913\n",
      "30.677290836653388\n",
      "17.131474103585656\n",
      "13.545816733067728\n"
     ]
    }
   ],
   "source": [
    "print(df.loc[(df.p2p_willingness==1) & (df.p2p_dem_activity==1),'p2p_dem_activity'].count()/176*100) # student participating\n",
    "print(df.loc[(df.p2p_willingness==1) & (df.p2p_dem_activity==2),'p2p_dem_activity'].count()/176*100) # unempl participating\n",
    "print(df.loc[(df.p2p_willingness==1) & (df.p2p_dem_activity==3),'p2p_dem_activity'].count()/176*100) # full participating\n",
    "print(df.loc[(df.p2p_willingness==1) & (df.p2p_dem_activity==4),'p2p_dem_activity'].count()/176*100) # part participating\n",
    "print(df.loc[(df.p2p_willingness==1) & (df.p2p_dem_activity==5),'p2p_dem_activity'].count()/176*100) # pensioner participating\n"
   ]
  },
  {
   "cell_type": "code",
   "execution_count": 93,
   "metadata": {},
   "outputs": [
    {
     "name": "stdout",
     "output_type": "stream",
     "text": [
      "5.179282868525896\n",
      "22.31075697211155\n",
      "16.334661354581673\n",
      "5.577689243027888\n",
      "18.725099601593627\n",
      "1.9920318725099602\n"
     ]
    }
   ],
   "source": [
    "print(df.loc[(df.p2p_willingness==1) & (df.p2p_dem_educ==1),'p2p_dem_educ'].count()/251*100) # Secondary participating\n",
    "print(df.loc[(df.p2p_willingness==1) & (df.p2p_dem_educ==2),'p2p_dem_educ'].count()/251*100) # Realschule participating\n",
    "print(df.loc[(df.p2p_willingness==1) & (df.p2p_dem_educ==3),'p2p_dem_educ'].count()/251*100) # Abitur participating\n",
    "print(df.loc[(df.p2p_willingness==1) & (df.p2p_dem_educ==4),'p2p_dem_educ'].count()/251*100) # bachelor participating\n",
    "print(df.loc[(df.p2p_willingness==1) & (df.p2p_dem_educ==5),'p2p_dem_educ'].count()/251*100) # master participating\n",
    "print(df.loc[(df.p2p_willingness==1) & (df.p2p_dem_educ==6),'p2p_dem_educ'].count()/251*100) # phd participating\n"
   ]
  },
  {
   "cell_type": "markdown",
   "metadata": {},
   "source": [
    "# Household members"
   ]
  },
  {
   "cell_type": "code",
   "execution_count": 95,
   "metadata": {},
   "outputs": [
    {
     "name": "stdout",
     "output_type": "stream",
     "text": [
      "2.5681818181818183\n",
      "2.3866666666666667\n"
     ]
    }
   ],
   "source": [
    "print(df.loc[(df.p2p_willingness==1),'p2p_dem_househ_size'].mean())\n",
    "print(df.loc[(df.p2p_willingness==2),'p2p_dem_househ_size'].mean())"
   ]
  },
  {
   "cell_type": "code",
   "execution_count": 97,
   "metadata": {},
   "outputs": [
    {
     "name": "stdout",
     "output_type": "stream",
     "text": [
      "Ttest_indResult(statistic=1.1972977047664741, pvalue=0.2323291174829949)\n"
     ]
    }
   ],
   "source": [
    "print(ttest_ind(*df.groupby('p2p_willingness')['p2p_dem_househ_size'].apply(lambda x:list(x))))"
   ]
  },
  {
   "cell_type": "markdown",
   "metadata": {},
   "source": [
    "# Energy mix"
   ]
  },
  {
   "cell_type": "code",
   "execution_count": 99,
   "metadata": {},
   "outputs": [
    {
     "name": "stdout",
     "output_type": "stream",
     "text": [
      "6.374501992031872\n",
      "19.52191235059761\n",
      "25.099601593625497\n",
      "19.12350597609562\n"
     ]
    }
   ],
   "source": [
    "print(df.loc[(df.p2p_willingness==1) & (df.p2p_dem2_energy==1),'p2p_dem2_energy'].count()/251*100) # fossil participating\n",
    "print(df.loc[(df.p2p_willingness==1) & (df.p2p_dem2_energy==2),'p2p_dem2_energy'].count()/251*100) # renew participating\n",
    "print(df.loc[(df.p2p_willingness==1) & (df.p2p_dem2_energy==3),'p2p_dem2_energy'].count()/251*100) # both participating\n",
    "print(df.loc[(df.p2p_willingness==1) & (df.p2p_dem2_energy==4),'p2p_dem2_energy'].count()/251*100) # na participating\n"
   ]
  },
  {
   "cell_type": "code",
   "execution_count": 100,
   "metadata": {},
   "outputs": [
    {
     "name": "stdout",
     "output_type": "stream",
     "text": [
      "12.350597609561753\n"
     ]
    }
   ],
   "source": [
    "print(df.loc[(df.p2p_willingness==1) & (df.p2p_dem3_PV==1),'p2p_dem3_PV'].count()/251*100) # fossil participating\n"
   ]
  },
  {
   "cell_type": "code",
   "execution_count": null,
   "metadata": {},
   "outputs": [],
   "source": [
    "print(df.loc[(df.p2p_willingness==1) & (df.p2p_dem3_technology_1==1),'p2p_dem3_technology_1'].count()/251*100) # fossil participating\n"
   ]
  },
  {
   "cell_type": "code",
   "execution_count": 102,
   "metadata": {},
   "outputs": [
    {
     "name": "stdout",
     "output_type": "stream",
     "text": [
      "Ttest_indResult(statistic=3.9314484809162042, pvalue=0.00010948817229586831)\n",
      "Ttest_indResult(statistic=5.886808125194528, pvalue=1.2669736714403417e-08)\n",
      "Ttest_indResult(statistic=6.156793845243725, pvalue=2.954097010856598e-09)\n",
      "Ttest_indResult(statistic=3.800038730206685, pvalue=0.00018193143892957815)\n"
     ]
    }
   ],
   "source": [
    "print(ttest_ind(*df.groupby('p2p_willingness')['p2p_dem3_technology_1'].apply(lambda x:list(x))))\n",
    "print(ttest_ind(*df.groupby('p2p_willingness')['p2p_dem3_technology_2'].apply(lambda x:list(x))))\n",
    "print(ttest_ind(*df.groupby('p2p_willingness')['p2p_dem3_technology_3'].apply(lambda x:list(x))))\n",
    "print(ttest_ind(*df.groupby('p2p_willingness')['p2p_dem3_technology_4'].apply(lambda x:list(x))))"
   ]
  },
  {
   "cell_type": "markdown",
   "metadata": {},
   "source": [
    "# EV"
   ]
  },
  {
   "cell_type": "code",
   "execution_count": 104,
   "metadata": {},
   "outputs": [
    {
     "name": "stdout",
     "output_type": "stream",
     "text": [
      "2.3068181818181817\n",
      "1.64\n"
     ]
    }
   ],
   "source": [
    "print(df.loc[(df.p2p_willingness==1),'p2p_dem3_technology_1'].mean())\n",
    "print(df.loc[(df.p2p_willingness==2),'p2p_dem3_technology_1'].mean())"
   ]
  },
  {
   "cell_type": "code",
   "execution_count": 109,
   "metadata": {},
   "outputs": [
    {
     "name": "stdout",
     "output_type": "stream",
     "text": [
      "Ttest_indResult(statistic=3.9314484809162042, pvalue=0.00010948817229586831)\n"
     ]
    }
   ],
   "source": [
    "print(ttest_ind(*df.groupby('p2p_willingness')['p2p_dem3_technology_1'].apply(lambda x:list(x))))"
   ]
  },
  {
   "cell_type": "markdown",
   "metadata": {},
   "source": [
    "# PV"
   ]
  },
  {
   "cell_type": "code",
   "execution_count": 105,
   "metadata": {},
   "outputs": [
    {
     "name": "stdout",
     "output_type": "stream",
     "text": [
      "2.7329545454545454\n",
      "1.7066666666666668\n"
     ]
    }
   ],
   "source": [
    "print(df.loc[(df.p2p_willingness==1),'p2p_dem3_technology_2'].mean())\n",
    "print(df.loc[(df.p2p_willingness==2),'p2p_dem3_technology_2'].mean())"
   ]
  },
  {
   "cell_type": "code",
   "execution_count": 110,
   "metadata": {},
   "outputs": [
    {
     "name": "stdout",
     "output_type": "stream",
     "text": [
      "Ttest_indResult(statistic=5.886808125194528, pvalue=1.2669736714403417e-08)\n"
     ]
    }
   ],
   "source": [
    "print(ttest_ind(*df.groupby('p2p_willingness')['p2p_dem3_technology_2'].apply(lambda x:list(x))))"
   ]
  },
  {
   "cell_type": "markdown",
   "metadata": {},
   "source": [
    "# BESS"
   ]
  },
  {
   "cell_type": "code",
   "execution_count": 106,
   "metadata": {},
   "outputs": [
    {
     "name": "stdout",
     "output_type": "stream",
     "text": [
      "2.835227272727273\n",
      "1.8\n"
     ]
    }
   ],
   "source": [
    "print(df.loc[(df.p2p_willingness==1),'p2p_dem3_technology_3'].mean())\n",
    "print(df.loc[(df.p2p_willingness==2),'p2p_dem3_technology_3'].mean())"
   ]
  },
  {
   "cell_type": "code",
   "execution_count": 111,
   "metadata": {},
   "outputs": [
    {
     "name": "stdout",
     "output_type": "stream",
     "text": [
      "Ttest_indResult(statistic=6.156793845243725, pvalue=2.954097010856598e-09)\n"
     ]
    }
   ],
   "source": [
    "print(ttest_ind(*df.groupby('p2p_willingness')['p2p_dem3_technology_3'].apply(lambda x:list(x))))"
   ]
  },
  {
   "cell_type": "markdown",
   "metadata": {},
   "source": [
    "# HP"
   ]
  },
  {
   "cell_type": "code",
   "execution_count": 107,
   "metadata": {},
   "outputs": [
    {
     "name": "stdout",
     "output_type": "stream",
     "text": [
      "2.465909090909091\n",
      "1.7866666666666666\n"
     ]
    }
   ],
   "source": [
    "print(df.loc[(df.p2p_willingness==1),'p2p_dem3_technology_4'].mean())\n",
    "print(df.loc[(df.p2p_willingness==2),'p2p_dem3_technology_4'].mean())"
   ]
  },
  {
   "cell_type": "code",
   "execution_count": 112,
   "metadata": {},
   "outputs": [
    {
     "name": "stdout",
     "output_type": "stream",
     "text": [
      "Ttest_indResult(statistic=3.800038730206685, pvalue=0.00018193143892957815)\n"
     ]
    }
   ],
   "source": [
    "print(ttest_ind(*df.groupby('p2p_willingness')['p2p_dem3_technology_4'].apply(lambda x:list(x))))"
   ]
  },
  {
   "cell_type": "markdown",
   "metadata": {},
   "source": [
    "# Political"
   ]
  },
  {
   "cell_type": "code",
   "execution_count": 121,
   "metadata": {},
   "outputs": [
    {
     "name": "stdout",
     "output_type": "stream",
     "text": [
      "5.125\n",
      "5.4\n"
     ]
    }
   ],
   "source": [
    "print(df.loc[(df.p2p_willingness==1),'p2p_dem_politics'].mean())\n",
    "print(df.loc[(df.p2p_willingness==2),'p2p_dem_politics'].mean())"
   ]
  },
  {
   "cell_type": "code",
   "execution_count": 122,
   "metadata": {},
   "outputs": [
    {
     "name": "stdout",
     "output_type": "stream",
     "text": [
      "Ttest_indResult(statistic=-1.4558204552521559, pvalue=0.14670191473810928)\n"
     ]
    }
   ],
   "source": [
    "print(ttest_ind(*df.groupby('p2p_willingness')['p2p_dem_politics'].apply(lambda x:list(x))))"
   ]
  },
  {
   "cell_type": "markdown",
   "metadata": {},
   "source": [
    "# Risk"
   ]
  },
  {
   "cell_type": "code",
   "execution_count": 123,
   "metadata": {},
   "outputs": [
    {
     "name": "stdout",
     "output_type": "stream",
     "text": [
      "5.704545454545454\n",
      "4.773333333333333\n"
     ]
    }
   ],
   "source": [
    "print(df.loc[(df.p2p_willingness==1),'p2p_dem4_risk'].mean())\n",
    "print(df.loc[(df.p2p_willingness==2),'p2p_dem4_risk'].mean())"
   ]
  },
  {
   "cell_type": "code",
   "execution_count": 124,
   "metadata": {},
   "outputs": [
    {
     "name": "stdout",
     "output_type": "stream",
     "text": [
      "Ttest_indResult(statistic=2.8792044706171107, pvalue=0.0043335152310939595)\n"
     ]
    }
   ],
   "source": [
    "print(ttest_ind(*df.groupby('p2p_willingness')['p2p_dem4_risk'].apply(lambda x:list(x))))"
   ]
  },
  {
   "cell_type": "markdown",
   "metadata": {},
   "source": [
    "# Earth"
   ]
  },
  {
   "cell_type": "code",
   "execution_count": 125,
   "metadata": {},
   "outputs": [
    {
     "name": "stdout",
     "output_type": "stream",
     "text": [
      "6.306818181818182\n",
      "5.906666666666666\n"
     ]
    }
   ],
   "source": [
    "print(df.loc[(df.p2p_willingness==1),'P2P_Values_Env_1'].mean())\n",
    "print(df.loc[(df.p2p_willingness==2),'P2P_Values_Env_1'].mean())"
   ]
  },
  {
   "cell_type": "code",
   "execution_count": 126,
   "metadata": {},
   "outputs": [
    {
     "name": "stdout",
     "output_type": "stream",
     "text": [
      "Ttest_indResult(statistic=1.8666200044114323, pvalue=0.06313002800180409)\n"
     ]
    }
   ],
   "source": [
    "print(ttest_ind(*df.groupby('p2p_willingness')['P2P_Values_Env_1'].apply(lambda x:list(x))))"
   ]
  },
  {
   "cell_type": "markdown",
   "metadata": {},
   "source": [
    "# Unity nature"
   ]
  },
  {
   "cell_type": "code",
   "execution_count": 127,
   "metadata": {},
   "outputs": [
    {
     "name": "stdout",
     "output_type": "stream",
     "text": [
      "6.079545454545454\n",
      "5.56\n"
     ]
    }
   ],
   "source": [
    "print(df.loc[(df.p2p_willingness==1),'P2P_Values_Env_2'].mean())\n",
    "print(df.loc[(df.p2p_willingness==2),'P2P_Values_Env_2'].mean())"
   ]
  },
  {
   "cell_type": "code",
   "execution_count": 128,
   "metadata": {},
   "outputs": [
    {
     "name": "stdout",
     "output_type": "stream",
     "text": [
      "Ttest_indResult(statistic=2.2259582480425615, pvalue=0.026912593397430615)\n"
     ]
    }
   ],
   "source": [
    "print(ttest_ind(*df.groupby('p2p_willingness')['P2P_Values_Env_2'].apply(lambda x:list(x))))"
   ]
  },
  {
   "cell_type": "markdown",
   "metadata": {},
   "source": [
    "# Environmental protection"
   ]
  },
  {
   "cell_type": "code",
   "execution_count": 129,
   "metadata": {},
   "outputs": [
    {
     "name": "stdout",
     "output_type": "stream",
     "text": [
      "6.579545454545454\n",
      "5.8133333333333335\n"
     ]
    }
   ],
   "source": [
    "print(df.loc[(df.p2p_willingness==1),'P2P_Values_Env_3'].mean())\n",
    "print(df.loc[(df.p2p_willingness==2),'P2P_Values_Env_3'].mean())"
   ]
  },
  {
   "cell_type": "code",
   "execution_count": 130,
   "metadata": {},
   "outputs": [
    {
     "name": "stdout",
     "output_type": "stream",
     "text": [
      "Ttest_indResult(statistic=3.633586129377866, pvalue=0.0003394475774445137)\n"
     ]
    }
   ],
   "source": [
    "print(ttest_ind(*df.groupby('p2p_willingness')['P2P_Values_Env_3'].apply(lambda x:list(x))))"
   ]
  },
  {
   "cell_type": "markdown",
   "metadata": {},
   "source": [
    "# Pollution"
   ]
  },
  {
   "cell_type": "code",
   "execution_count": 131,
   "metadata": {},
   "outputs": [
    {
     "name": "stdout",
     "output_type": "stream",
     "text": [
      "6.4147727272727275\n",
      "5.96\n"
     ]
    }
   ],
   "source": [
    "print(df.loc[(df.p2p_willingness==1),'P2P_Values_Env_4'].mean())\n",
    "print(df.loc[(df.p2p_willingness==2),'P2P_Values_Env_4'].mean())"
   ]
  },
  {
   "cell_type": "code",
   "execution_count": 132,
   "metadata": {},
   "outputs": [
    {
     "name": "stdout",
     "output_type": "stream",
     "text": [
      "Ttest_indResult(statistic=2.169118097292735, pvalue=0.031020343248571607)\n"
     ]
    }
   ],
   "source": [
    "print(ttest_ind(*df.groupby('p2p_willingness')['P2P_Values_Env_4'].apply(lambda x:list(x))))"
   ]
  },
  {
   "cell_type": "code",
   "execution_count": null,
   "metadata": {},
   "outputs": [],
   "source": []
  },
  {
   "cell_type": "code",
   "execution_count": null,
   "metadata": {},
   "outputs": [],
   "source": []
  },
  {
   "cell_type": "code",
   "execution_count": null,
   "metadata": {},
   "outputs": [],
   "source": []
  },
  {
   "cell_type": "code",
   "execution_count": 15,
   "metadata": {},
   "outputs": [],
   "source": [
    "df_bhv=pd.read_csv('table_bhv.csv', index_col=0)"
   ]
  },
  {
   "cell_type": "code",
   "execution_count": 21,
   "metadata": {},
   "outputs": [
    {
     "data": {
      "text/html": [
       "<div>\n",
       "<style scoped>\n",
       "    .dataframe tbody tr th:only-of-type {\n",
       "        vertical-align: middle;\n",
       "    }\n",
       "\n",
       "    .dataframe tbody tr th {\n",
       "        vertical-align: top;\n",
       "    }\n",
       "\n",
       "    .dataframe thead th {\n",
       "        text-align: right;\n",
       "    }\n",
       "</style>\n",
       "<table border=\"1\" class=\"dataframe\">\n",
       "  <thead>\n",
       "    <tr style=\"text-align: right;\">\n",
       "      <th></th>\n",
       "      <th>Price</th>\n",
       "      <th>SOC</th>\n",
       "      <th>surplus_time</th>\n",
       "      <th>hh</th>\n",
       "      <th>sell</th>\n",
       "      <th>will</th>\n",
       "    </tr>\n",
       "  </thead>\n",
       "  <tbody>\n",
       "    <tr>\n",
       "      <th>0</th>\n",
       "      <td>4.0</td>\n",
       "      <td>30.0</td>\n",
       "      <td>12h</td>\n",
       "      <td>0</td>\n",
       "      <td>False</td>\n",
       "      <td>False</td>\n",
       "    </tr>\n",
       "    <tr>\n",
       "      <th>1</th>\n",
       "      <td>4.0</td>\n",
       "      <td>30.0</td>\n",
       "      <td>12h</td>\n",
       "      <td>1</td>\n",
       "      <td>False</td>\n",
       "      <td>True</td>\n",
       "    </tr>\n",
       "    <tr>\n",
       "      <th>2</th>\n",
       "      <td>4.0</td>\n",
       "      <td>30.0</td>\n",
       "      <td>12h</td>\n",
       "      <td>2</td>\n",
       "      <td>False</td>\n",
       "      <td>True</td>\n",
       "    </tr>\n",
       "    <tr>\n",
       "      <th>3</th>\n",
       "      <td>4.0</td>\n",
       "      <td>30.0</td>\n",
       "      <td>12h</td>\n",
       "      <td>3</td>\n",
       "      <td>False</td>\n",
       "      <td>True</td>\n",
       "    </tr>\n",
       "    <tr>\n",
       "      <th>4</th>\n",
       "      <td>4.0</td>\n",
       "      <td>30.0</td>\n",
       "      <td>12h</td>\n",
       "      <td>4</td>\n",
       "      <td>True</td>\n",
       "      <td>True</td>\n",
       "    </tr>\n",
       "  </tbody>\n",
       "</table>\n",
       "</div>"
      ],
      "text/plain": [
       "   Price   SOC surplus_time  hh   sell   will\n",
       "0    4.0  30.0          12h   0  False  False\n",
       "1    4.0  30.0          12h   1  False   True\n",
       "2    4.0  30.0          12h   2  False   True\n",
       "3    4.0  30.0          12h   3  False   True\n",
       "4    4.0  30.0          12h   4   True   True"
      ]
     },
     "execution_count": 21,
     "metadata": {},
     "output_type": "execute_result"
    }
   ],
   "source": [
    "df_bhv.head()"
   ]
  },
  {
   "cell_type": "code",
   "execution_count": 22,
   "metadata": {},
   "outputs": [
    {
     "data": {
      "text/plain": [
       "Price           float64\n",
       "SOC             float64\n",
       "surplus_time     object\n",
       "hh                int64\n",
       "sell               bool\n",
       "will               bool\n",
       "dtype: object"
      ]
     },
     "execution_count": 22,
     "metadata": {},
     "output_type": "execute_result"
    }
   ],
   "source": [
    "df_bhv.dtypes"
   ]
  },
  {
   "cell_type": "code",
   "execution_count": 28,
   "metadata": {},
   "outputs": [
    {
     "data": {
      "text/plain": [
       "(4224, 6)"
      ]
     },
     "execution_count": 28,
     "metadata": {},
     "output_type": "execute_result"
    }
   ],
   "source": [
    "df_bhv[df_bhv.will==True].shape"
   ]
  },
  {
   "cell_type": "code",
   "execution_count": 31,
   "metadata": {},
   "outputs": [
    {
     "data": {
      "text/plain": [
       "Price  SOC   surplus_time\n",
       "4.0    30.0  12h              17.0\n",
       "             12h+             11.0\n",
       "       60.0  12h              45.0\n",
       "             12h+             30.0\n",
       "       90.0  12h              90.0\n",
       "             12h+             67.0\n",
       "12.0   30.0  12h              40.0\n",
       "             12h+             20.0\n",
       "       60.0  12h              91.0\n",
       "             12h+             64.0\n",
       "       90.0  12h             137.0\n",
       "             12h+            122.0\n",
       "20.0   30.0  12h              58.0\n",
       "             12h+             34.0\n",
       "       60.0  12h             131.0\n",
       "             12h+            102.0\n",
       "       90.0  12h             160.0\n",
       "             12h+            157.0\n",
       "28.0   30.0  12h              75.0\n",
       "             12h+             43.0\n",
       "       60.0  12h             147.0\n",
       "             12h+            121.0\n",
       "       90.0  12h             165.0\n",
       "             12h+            153.0\n",
       "Name: sell, dtype: float64"
      ]
     },
     "execution_count": 31,
     "metadata": {},
     "output_type": "execute_result"
    }
   ],
   "source": [
    "df_bhv[df_bhv.will==True].groupby(['Price','SOC','surplus_time']).sum().sell"
   ]
  },
  {
   "cell_type": "code",
   "execution_count": 34,
   "metadata": {},
   "outputs": [
    {
     "data": {
      "text/plain": [
       "1156.0"
      ]
     },
     "execution_count": 34,
     "metadata": {},
     "output_type": "execute_result"
    }
   ],
   "source": [
    "df_bhv[(df_bhv.will==True)&(df_bhv.surplus_time=='12h')].groupby(['Price','SOC']).sum().sell.sum()"
   ]
  },
  {
   "cell_type": "code",
   "execution_count": 39,
   "metadata": {},
   "outputs": [
    {
     "data": {
      "text/plain": [
       "4224"
      ]
     },
     "execution_count": 39,
     "metadata": {},
     "output_type": "execute_result"
    }
   ],
   "source": [
    "176*4*3*2"
   ]
  },
  {
   "cell_type": "code",
   "execution_count": 60,
   "metadata": {},
   "outputs": [
    {
     "data": {
      "text/plain": [
       "Text(0, 0.5, 'Selling probability')"
      ]
     },
     "execution_count": 60,
     "metadata": {},
     "output_type": "execute_result"
    },
    {
     "data": {
      "image/png": "[encoded data removed]",
      "text/plain": [
       "<Figure size 432x288 with 1 Axes>"
      ]
     },
     "metadata": {
      "needs_background": "light"
     },
     "output_type": "display_data"
    }
   ],
   "source": [
    "(df_bhv[(df_bhv.will==True)&(df_bhv.surplus_time=='12h')].groupby(['Price','SOC']).sum().sell.unstack()/176*100).plot()\n",
    "plt.xlabel('Price []')\n",
    "plt.ylabel('Selling probability')"
   ]
  },
  {
   "cell_type": "code",
   "execution_count": 46,
   "metadata": {},
   "outputs": [
    {
     "data": {
      "text/html": [
       "<div>\n",
       "<style scoped>\n",
       "    .dataframe tbody tr th:only-of-type {\n",
       "        vertical-align: middle;\n",
       "    }\n",
       "\n",
       "    .dataframe tbody tr th {\n",
       "        vertical-align: top;\n",
       "    }\n",
       "\n",
       "    .dataframe thead th {\n",
       "        text-align: right;\n",
       "    }\n",
       "</style>\n",
       "<table border=\"1\" class=\"dataframe\">\n",
       "  <thead>\n",
       "    <tr style=\"text-align: right;\">\n",
       "      <th>SOC</th>\n",
       "      <th>30.0</th>\n",
       "      <th>60.0</th>\n",
       "      <th>90.0</th>\n",
       "    </tr>\n",
       "    <tr>\n",
       "      <th>Price</th>\n",
       "      <th></th>\n",
       "      <th></th>\n",
       "      <th></th>\n",
       "    </tr>\n",
       "  </thead>\n",
       "  <tbody>\n",
       "    <tr>\n",
       "      <th>4.0</th>\n",
       "      <td>0.096591</td>\n",
       "      <td>0.255682</td>\n",
       "      <td>0.511364</td>\n",
       "    </tr>\n",
       "    <tr>\n",
       "      <th>12.0</th>\n",
       "      <td>0.227273</td>\n",
       "      <td>0.517045</td>\n",
       "      <td>0.778409</td>\n",
       "    </tr>\n",
       "    <tr>\n",
       "      <th>20.0</th>\n",
       "      <td>0.329545</td>\n",
       "      <td>0.744318</td>\n",
       "      <td>0.909091</td>\n",
       "    </tr>\n",
       "    <tr>\n",
       "      <th>28.0</th>\n",
       "      <td>0.426136</td>\n",
       "      <td>0.835227</td>\n",
       "      <td>0.937500</td>\n",
       "    </tr>\n",
       "  </tbody>\n",
       "</table>\n",
       "</div>"
      ],
      "text/plain": [
       "SOC        30.0      60.0      90.0\n",
       "Price                              \n",
       "4.0    0.096591  0.255682  0.511364\n",
       "12.0   0.227273  0.517045  0.778409\n",
       "20.0   0.329545  0.744318  0.909091\n",
       "28.0   0.426136  0.835227  0.937500"
      ]
     },
     "execution_count": 46,
     "metadata": {},
     "output_type": "execute_result"
    }
   ],
   "source": [
    "(df_bhv[(df_bhv.will==True)&(df_bhv.surplus_time=='12h')].groupby(['Price','SOC']).sum().sell.unstack()/176)"
   ]
  },
  {
   "cell_type": "code",
   "execution_count": 57,
   "metadata": {},
   "outputs": [
    {
     "data": {
      "text/plain": [
       "SOC\n",
       "30.0    1.079545\n",
       "60.0    2.352273\n",
       "90.0    3.136364\n",
       "dtype: float64"
      ]
     },
     "execution_count": 57,
     "metadata": {},
     "output_type": "execute_result"
    }
   ],
   "source": [
    "(df_bhv[(df_bhv.will==True)&(df_bhv.surplus_time=='12h')].groupby(['Price','SOC']).sum().sell.unstack()/176).sum()"
   ]
  },
  {
   "cell_type": "code",
   "execution_count": 58,
   "metadata": {},
   "outputs": [
    {
     "data": {
      "text/plain": [
       "Price\n",
       "4.0     0.863636\n",
       "12.0    1.522727\n",
       "20.0    1.982955\n",
       "28.0    2.198864\n",
       "dtype: float64"
      ]
     },
     "execution_count": 58,
     "metadata": {},
     "output_type": "execute_result"
    }
   ],
   "source": [
    "(df_bhv[(df_bhv.will==True)&(df_bhv.surplus_time=='12h')].groupby(['Price','SOC']).sum().sell.unstack()/176).sum(axis=1)"
   ]
  },
  {
   "cell_type": "code",
   "execution_count": 56,
   "metadata": {},
   "outputs": [
    {
     "data": {
      "text/html": [
       "<div>\n",
       "<style scoped>\n",
       "    .dataframe tbody tr th:only-of-type {\n",
       "        vertical-align: middle;\n",
       "    }\n",
       "\n",
       "    .dataframe tbody tr th {\n",
       "        vertical-align: top;\n",
       "    }\n",
       "\n",
       "    .dataframe thead th {\n",
       "        text-align: right;\n",
       "    }\n",
       "</style>\n",
       "<table border=\"1\" class=\"dataframe\">\n",
       "  <thead>\n",
       "    <tr style=\"text-align: right;\">\n",
       "      <th></th>\n",
       "      <th>surplus_time</th>\n",
       "      <th>12h</th>\n",
       "      <th>12h+</th>\n",
       "    </tr>\n",
       "    <tr>\n",
       "      <th>Price</th>\n",
       "      <th>SOC</th>\n",
       "      <th></th>\n",
       "      <th></th>\n",
       "    </tr>\n",
       "  </thead>\n",
       "  <tbody>\n",
       "    <tr>\n",
       "      <th rowspan=\"3\" valign=\"top\">4.0</th>\n",
       "      <th>30.0</th>\n",
       "      <td>17.0</td>\n",
       "      <td>11.0</td>\n",
       "    </tr>\n",
       "    <tr>\n",
       "      <th>60.0</th>\n",
       "      <td>45.0</td>\n",
       "      <td>30.0</td>\n",
       "    </tr>\n",
       "    <tr>\n",
       "      <th>90.0</th>\n",
       "      <td>90.0</td>\n",
       "      <td>67.0</td>\n",
       "    </tr>\n",
       "    <tr>\n",
       "      <th rowspan=\"3\" valign=\"top\">12.0</th>\n",
       "      <th>30.0</th>\n",
       "      <td>40.0</td>\n",
       "      <td>20.0</td>\n",
       "    </tr>\n",
       "    <tr>\n",
       "      <th>60.0</th>\n",
       "      <td>91.0</td>\n",
       "      <td>64.0</td>\n",
       "    </tr>\n",
       "    <tr>\n",
       "      <th>90.0</th>\n",
       "      <td>137.0</td>\n",
       "      <td>122.0</td>\n",
       "    </tr>\n",
       "    <tr>\n",
       "      <th rowspan=\"3\" valign=\"top\">20.0</th>\n",
       "      <th>30.0</th>\n",
       "      <td>58.0</td>\n",
       "      <td>34.0</td>\n",
       "    </tr>\n",
       "    <tr>\n",
       "      <th>60.0</th>\n",
       "      <td>131.0</td>\n",
       "      <td>102.0</td>\n",
       "    </tr>\n",
       "    <tr>\n",
       "      <th>90.0</th>\n",
       "      <td>160.0</td>\n",
       "      <td>157.0</td>\n",
       "    </tr>\n",
       "    <tr>\n",
       "      <th rowspan=\"3\" valign=\"top\">28.0</th>\n",
       "      <th>30.0</th>\n",
       "      <td>75.0</td>\n",
       "      <td>43.0</td>\n",
       "    </tr>\n",
       "    <tr>\n",
       "      <th>60.0</th>\n",
       "      <td>147.0</td>\n",
       "      <td>121.0</td>\n",
       "    </tr>\n",
       "    <tr>\n",
       "      <th>90.0</th>\n",
       "      <td>165.0</td>\n",
       "      <td>153.0</td>\n",
       "    </tr>\n",
       "  </tbody>\n",
       "</table>\n",
       "</div>"
      ],
      "text/plain": [
       "surplus_time    12h   12h+\n",
       "Price SOC                 \n",
       "4.0   30.0     17.0   11.0\n",
       "      60.0     45.0   30.0\n",
       "      90.0     90.0   67.0\n",
       "12.0  30.0     40.0   20.0\n",
       "      60.0     91.0   64.0\n",
       "      90.0    137.0  122.0\n",
       "20.0  30.0     58.0   34.0\n",
       "      60.0    131.0  102.0\n",
       "      90.0    160.0  157.0\n",
       "28.0  30.0     75.0   43.0\n",
       "      60.0    147.0  121.0\n",
       "      90.0    165.0  153.0"
      ]
     },
     "execution_count": 56,
     "metadata": {},
     "output_type": "execute_result"
    }
   ],
   "source": [
    "df_bhv[(df_bhv.will==True)].groupby(['Price','SOC','surplus_time']).sum().sell.unstack()"
   ]
  },
  {
   "cell_type": "code",
   "execution_count": null,
   "metadata": {},
   "outputs": [],
   "source": []
  }
 ],
 "metadata": {
  "kernelspec": {
   "display_name": "alenv",
   "language": "python",
   "name": "alenv"
  },
  "language_info": {
   "codemirror_mode": {
    "name": "ipython",
    "version": 3
   },
   "file_extension": ".py",
   "mimetype": "text/x-python",
   "name": "python",
   "nbconvert_exporter": "python",
   "pygments_lexer": "ipython3",
   "version": "3.7.2"
  }
 },
 "nbformat": 4,
 "nbformat_minor": 4
}
